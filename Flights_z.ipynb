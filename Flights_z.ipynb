{
 "cells": [
  {
   "cell_type": "code",
   "execution_count": 1,
   "id": "af833d07",
   "metadata": {},
   "outputs": [],
   "source": [
    "import pandas as pd\n",
    "import matplotlib.pyplot as plt\n",
    "from imblearn.over_sampling import SMOTE\n",
    "import warnings\n",
    "warnings.filterwarnings(\"ignore\")\n",
    "import seaborn as sn\n",
    "import numpy as np"
   ]
  },
  {
   "cell_type": "code",
   "execution_count": 2,
   "id": "0039e4ff",
   "metadata": {},
   "outputs": [
    {
     "data": {
      "text/html": [
       "<div>\n",
       "<style scoped>\n",
       "    .dataframe tbody tr th:only-of-type {\n",
       "        vertical-align: middle;\n",
       "    }\n",
       "\n",
       "    .dataframe tbody tr th {\n",
       "        vertical-align: top;\n",
       "    }\n",
       "\n",
       "    .dataframe thead th {\n",
       "        text-align: right;\n",
       "    }\n",
       "</style>\n",
       "<table border=\"1\" class=\"dataframe\">\n",
       "  <thead>\n",
       "    <tr style=\"text-align: right;\">\n",
       "      <th></th>\n",
       "      <th>Airline</th>\n",
       "      <th>Date_of_Journey</th>\n",
       "      <th>Source</th>\n",
       "      <th>Destination</th>\n",
       "      <th>Route</th>\n",
       "      <th>Dep_Time</th>\n",
       "      <th>Arrival_Time</th>\n",
       "      <th>Duration</th>\n",
       "      <th>Total_Stops</th>\n",
       "      <th>Additional_Info</th>\n",
       "      <th>Price</th>\n",
       "    </tr>\n",
       "  </thead>\n",
       "  <tbody>\n",
       "    <tr>\n",
       "      <th>0</th>\n",
       "      <td>IndiGo</td>\n",
       "      <td>24/03/2019</td>\n",
       "      <td>Banglore</td>\n",
       "      <td>New Delhi</td>\n",
       "      <td>BLR → DEL</td>\n",
       "      <td>22:20</td>\n",
       "      <td>01:10 22 Mar</td>\n",
       "      <td>2h 50m</td>\n",
       "      <td>non-stop</td>\n",
       "      <td>No info</td>\n",
       "      <td>3897</td>\n",
       "    </tr>\n",
       "    <tr>\n",
       "      <th>1</th>\n",
       "      <td>Air India</td>\n",
       "      <td>1/05/2019</td>\n",
       "      <td>Kolkata</td>\n",
       "      <td>Banglore</td>\n",
       "      <td>CCU → IXR → BBI → BLR</td>\n",
       "      <td>05:50</td>\n",
       "      <td>13:15</td>\n",
       "      <td>7h 25m</td>\n",
       "      <td>2 stops</td>\n",
       "      <td>No info</td>\n",
       "      <td>7662</td>\n",
       "    </tr>\n",
       "    <tr>\n",
       "      <th>2</th>\n",
       "      <td>Jet Airways</td>\n",
       "      <td>9/06/2019</td>\n",
       "      <td>Delhi</td>\n",
       "      <td>Cochin</td>\n",
       "      <td>DEL → LKO → BOM → COK</td>\n",
       "      <td>09:25</td>\n",
       "      <td>04:25 10 Jun</td>\n",
       "      <td>19h</td>\n",
       "      <td>2 stops</td>\n",
       "      <td>No info</td>\n",
       "      <td>13882</td>\n",
       "    </tr>\n",
       "    <tr>\n",
       "      <th>3</th>\n",
       "      <td>IndiGo</td>\n",
       "      <td>12/05/2019</td>\n",
       "      <td>Kolkata</td>\n",
       "      <td>Banglore</td>\n",
       "      <td>CCU → NAG → BLR</td>\n",
       "      <td>18:05</td>\n",
       "      <td>23:30</td>\n",
       "      <td>5h 25m</td>\n",
       "      <td>1 stop</td>\n",
       "      <td>No info</td>\n",
       "      <td>6218</td>\n",
       "    </tr>\n",
       "    <tr>\n",
       "      <th>4</th>\n",
       "      <td>IndiGo</td>\n",
       "      <td>01/03/2019</td>\n",
       "      <td>Banglore</td>\n",
       "      <td>New Delhi</td>\n",
       "      <td>BLR → NAG → DEL</td>\n",
       "      <td>16:50</td>\n",
       "      <td>21:35</td>\n",
       "      <td>4h 45m</td>\n",
       "      <td>1 stop</td>\n",
       "      <td>No info</td>\n",
       "      <td>13302</td>\n",
       "    </tr>\n",
       "    <tr>\n",
       "      <th>...</th>\n",
       "      <td>...</td>\n",
       "      <td>...</td>\n",
       "      <td>...</td>\n",
       "      <td>...</td>\n",
       "      <td>...</td>\n",
       "      <td>...</td>\n",
       "      <td>...</td>\n",
       "      <td>...</td>\n",
       "      <td>...</td>\n",
       "      <td>...</td>\n",
       "      <td>...</td>\n",
       "    </tr>\n",
       "    <tr>\n",
       "      <th>10678</th>\n",
       "      <td>Air Asia</td>\n",
       "      <td>9/04/2019</td>\n",
       "      <td>Kolkata</td>\n",
       "      <td>Banglore</td>\n",
       "      <td>CCU → BLR</td>\n",
       "      <td>19:55</td>\n",
       "      <td>22:25</td>\n",
       "      <td>2h 30m</td>\n",
       "      <td>non-stop</td>\n",
       "      <td>No info</td>\n",
       "      <td>4107</td>\n",
       "    </tr>\n",
       "    <tr>\n",
       "      <th>10679</th>\n",
       "      <td>Air India</td>\n",
       "      <td>27/04/2019</td>\n",
       "      <td>Kolkata</td>\n",
       "      <td>Banglore</td>\n",
       "      <td>CCU → BLR</td>\n",
       "      <td>20:45</td>\n",
       "      <td>23:20</td>\n",
       "      <td>2h 35m</td>\n",
       "      <td>non-stop</td>\n",
       "      <td>No info</td>\n",
       "      <td>4145</td>\n",
       "    </tr>\n",
       "    <tr>\n",
       "      <th>10680</th>\n",
       "      <td>Jet Airways</td>\n",
       "      <td>27/04/2019</td>\n",
       "      <td>Banglore</td>\n",
       "      <td>Delhi</td>\n",
       "      <td>BLR → DEL</td>\n",
       "      <td>08:20</td>\n",
       "      <td>11:20</td>\n",
       "      <td>3h</td>\n",
       "      <td>non-stop</td>\n",
       "      <td>No info</td>\n",
       "      <td>7229</td>\n",
       "    </tr>\n",
       "    <tr>\n",
       "      <th>10681</th>\n",
       "      <td>Vistara</td>\n",
       "      <td>01/03/2019</td>\n",
       "      <td>Banglore</td>\n",
       "      <td>New Delhi</td>\n",
       "      <td>BLR → DEL</td>\n",
       "      <td>11:30</td>\n",
       "      <td>14:10</td>\n",
       "      <td>2h 40m</td>\n",
       "      <td>non-stop</td>\n",
       "      <td>No info</td>\n",
       "      <td>12648</td>\n",
       "    </tr>\n",
       "    <tr>\n",
       "      <th>10682</th>\n",
       "      <td>Air India</td>\n",
       "      <td>9/05/2019</td>\n",
       "      <td>Delhi</td>\n",
       "      <td>Cochin</td>\n",
       "      <td>DEL → GOI → BOM → COK</td>\n",
       "      <td>10:55</td>\n",
       "      <td>19:15</td>\n",
       "      <td>8h 20m</td>\n",
       "      <td>2 stops</td>\n",
       "      <td>No info</td>\n",
       "      <td>11753</td>\n",
       "    </tr>\n",
       "  </tbody>\n",
       "</table>\n",
       "<p>10683 rows × 11 columns</p>\n",
       "</div>"
      ],
      "text/plain": [
       "           Airline Date_of_Journey    Source Destination  \\\n",
       "0           IndiGo      24/03/2019  Banglore   New Delhi   \n",
       "1        Air India       1/05/2019   Kolkata    Banglore   \n",
       "2      Jet Airways       9/06/2019     Delhi      Cochin   \n",
       "3           IndiGo      12/05/2019   Kolkata    Banglore   \n",
       "4           IndiGo      01/03/2019  Banglore   New Delhi   \n",
       "...            ...             ...       ...         ...   \n",
       "10678     Air Asia       9/04/2019   Kolkata    Banglore   \n",
       "10679    Air India      27/04/2019   Kolkata    Banglore   \n",
       "10680  Jet Airways      27/04/2019  Banglore       Delhi   \n",
       "10681      Vistara      01/03/2019  Banglore   New Delhi   \n",
       "10682    Air India       9/05/2019     Delhi      Cochin   \n",
       "\n",
       "                       Route Dep_Time  Arrival_Time Duration Total_Stops  \\\n",
       "0                  BLR → DEL    22:20  01:10 22 Mar   2h 50m    non-stop   \n",
       "1      CCU → IXR → BBI → BLR    05:50         13:15   7h 25m     2 stops   \n",
       "2      DEL → LKO → BOM → COK    09:25  04:25 10 Jun      19h     2 stops   \n",
       "3            CCU → NAG → BLR    18:05         23:30   5h 25m      1 stop   \n",
       "4            BLR → NAG → DEL    16:50         21:35   4h 45m      1 stop   \n",
       "...                      ...      ...           ...      ...         ...   \n",
       "10678              CCU → BLR    19:55         22:25   2h 30m    non-stop   \n",
       "10679              CCU → BLR    20:45         23:20   2h 35m    non-stop   \n",
       "10680              BLR → DEL    08:20         11:20       3h    non-stop   \n",
       "10681              BLR → DEL    11:30         14:10   2h 40m    non-stop   \n",
       "10682  DEL → GOI → BOM → COK    10:55         19:15   8h 20m     2 stops   \n",
       "\n",
       "      Additional_Info  Price  \n",
       "0             No info   3897  \n",
       "1             No info   7662  \n",
       "2             No info  13882  \n",
       "3             No info   6218  \n",
       "4             No info  13302  \n",
       "...               ...    ...  \n",
       "10678         No info   4107  \n",
       "10679         No info   4145  \n",
       "10680         No info   7229  \n",
       "10681         No info  12648  \n",
       "10682         No info  11753  \n",
       "\n",
       "[10683 rows x 11 columns]"
      ]
     },
     "execution_count": 2,
     "metadata": {},
     "output_type": "execute_result"
    }
   ],
   "source": [
    "df=pd.read_excel('Data_Train.xlsx')\n",
    "df"
   ]
  },
  {
   "cell_type": "code",
   "execution_count": 3,
   "id": "a247cf16",
   "metadata": {},
   "outputs": [
    {
     "data": {
      "text/html": [
       "<div>\n",
       "<style scoped>\n",
       "    .dataframe tbody tr th:only-of-type {\n",
       "        vertical-align: middle;\n",
       "    }\n",
       "\n",
       "    .dataframe tbody tr th {\n",
       "        vertical-align: top;\n",
       "    }\n",
       "\n",
       "    .dataframe thead th {\n",
       "        text-align: right;\n",
       "    }\n",
       "</style>\n",
       "<table border=\"1\" class=\"dataframe\">\n",
       "  <thead>\n",
       "    <tr style=\"text-align: right;\">\n",
       "      <th></th>\n",
       "      <th>Airline</th>\n",
       "      <th>Date_of_Journey</th>\n",
       "      <th>Source</th>\n",
       "      <th>Destination</th>\n",
       "      <th>Route</th>\n",
       "      <th>Dep_Time</th>\n",
       "      <th>Arrival_Time</th>\n",
       "      <th>Duration</th>\n",
       "      <th>Total_Stops</th>\n",
       "      <th>Additional_Info</th>\n",
       "    </tr>\n",
       "  </thead>\n",
       "  <tbody>\n",
       "    <tr>\n",
       "      <th>0</th>\n",
       "      <td>Jet Airways</td>\n",
       "      <td>6/06/2019</td>\n",
       "      <td>Delhi</td>\n",
       "      <td>Cochin</td>\n",
       "      <td>DEL → BOM → COK</td>\n",
       "      <td>17:30</td>\n",
       "      <td>04:25 07 Jun</td>\n",
       "      <td>10h 55m</td>\n",
       "      <td>1 stop</td>\n",
       "      <td>No info</td>\n",
       "    </tr>\n",
       "    <tr>\n",
       "      <th>1</th>\n",
       "      <td>IndiGo</td>\n",
       "      <td>12/05/2019</td>\n",
       "      <td>Kolkata</td>\n",
       "      <td>Banglore</td>\n",
       "      <td>CCU → MAA → BLR</td>\n",
       "      <td>06:20</td>\n",
       "      <td>10:20</td>\n",
       "      <td>4h</td>\n",
       "      <td>1 stop</td>\n",
       "      <td>No info</td>\n",
       "    </tr>\n",
       "    <tr>\n",
       "      <th>2</th>\n",
       "      <td>Jet Airways</td>\n",
       "      <td>21/05/2019</td>\n",
       "      <td>Delhi</td>\n",
       "      <td>Cochin</td>\n",
       "      <td>DEL → BOM → COK</td>\n",
       "      <td>19:15</td>\n",
       "      <td>19:00 22 May</td>\n",
       "      <td>23h 45m</td>\n",
       "      <td>1 stop</td>\n",
       "      <td>In-flight meal not included</td>\n",
       "    </tr>\n",
       "    <tr>\n",
       "      <th>3</th>\n",
       "      <td>Multiple carriers</td>\n",
       "      <td>21/05/2019</td>\n",
       "      <td>Delhi</td>\n",
       "      <td>Cochin</td>\n",
       "      <td>DEL → BOM → COK</td>\n",
       "      <td>08:00</td>\n",
       "      <td>21:00</td>\n",
       "      <td>13h</td>\n",
       "      <td>1 stop</td>\n",
       "      <td>No info</td>\n",
       "    </tr>\n",
       "    <tr>\n",
       "      <th>4</th>\n",
       "      <td>Air Asia</td>\n",
       "      <td>24/06/2019</td>\n",
       "      <td>Banglore</td>\n",
       "      <td>Delhi</td>\n",
       "      <td>BLR → DEL</td>\n",
       "      <td>23:55</td>\n",
       "      <td>02:45 25 Jun</td>\n",
       "      <td>2h 50m</td>\n",
       "      <td>non-stop</td>\n",
       "      <td>No info</td>\n",
       "    </tr>\n",
       "    <tr>\n",
       "      <th>...</th>\n",
       "      <td>...</td>\n",
       "      <td>...</td>\n",
       "      <td>...</td>\n",
       "      <td>...</td>\n",
       "      <td>...</td>\n",
       "      <td>...</td>\n",
       "      <td>...</td>\n",
       "      <td>...</td>\n",
       "      <td>...</td>\n",
       "      <td>...</td>\n",
       "    </tr>\n",
       "    <tr>\n",
       "      <th>2666</th>\n",
       "      <td>Air India</td>\n",
       "      <td>6/06/2019</td>\n",
       "      <td>Kolkata</td>\n",
       "      <td>Banglore</td>\n",
       "      <td>CCU → DEL → BLR</td>\n",
       "      <td>20:30</td>\n",
       "      <td>20:25 07 Jun</td>\n",
       "      <td>23h 55m</td>\n",
       "      <td>1 stop</td>\n",
       "      <td>No info</td>\n",
       "    </tr>\n",
       "    <tr>\n",
       "      <th>2667</th>\n",
       "      <td>IndiGo</td>\n",
       "      <td>27/03/2019</td>\n",
       "      <td>Kolkata</td>\n",
       "      <td>Banglore</td>\n",
       "      <td>CCU → BLR</td>\n",
       "      <td>14:20</td>\n",
       "      <td>16:55</td>\n",
       "      <td>2h 35m</td>\n",
       "      <td>non-stop</td>\n",
       "      <td>No info</td>\n",
       "    </tr>\n",
       "    <tr>\n",
       "      <th>2668</th>\n",
       "      <td>Jet Airways</td>\n",
       "      <td>6/03/2019</td>\n",
       "      <td>Delhi</td>\n",
       "      <td>Cochin</td>\n",
       "      <td>DEL → BOM → COK</td>\n",
       "      <td>21:50</td>\n",
       "      <td>04:25 07 Mar</td>\n",
       "      <td>6h 35m</td>\n",
       "      <td>1 stop</td>\n",
       "      <td>No info</td>\n",
       "    </tr>\n",
       "    <tr>\n",
       "      <th>2669</th>\n",
       "      <td>Air India</td>\n",
       "      <td>6/03/2019</td>\n",
       "      <td>Delhi</td>\n",
       "      <td>Cochin</td>\n",
       "      <td>DEL → BOM → COK</td>\n",
       "      <td>04:00</td>\n",
       "      <td>19:15</td>\n",
       "      <td>15h 15m</td>\n",
       "      <td>1 stop</td>\n",
       "      <td>No info</td>\n",
       "    </tr>\n",
       "    <tr>\n",
       "      <th>2670</th>\n",
       "      <td>Multiple carriers</td>\n",
       "      <td>15/06/2019</td>\n",
       "      <td>Delhi</td>\n",
       "      <td>Cochin</td>\n",
       "      <td>DEL → BOM → COK</td>\n",
       "      <td>04:55</td>\n",
       "      <td>19:15</td>\n",
       "      <td>14h 20m</td>\n",
       "      <td>1 stop</td>\n",
       "      <td>No info</td>\n",
       "    </tr>\n",
       "  </tbody>\n",
       "</table>\n",
       "<p>2671 rows × 10 columns</p>\n",
       "</div>"
      ],
      "text/plain": [
       "                Airline Date_of_Journey    Source Destination  \\\n",
       "0           Jet Airways       6/06/2019     Delhi      Cochin   \n",
       "1                IndiGo      12/05/2019   Kolkata    Banglore   \n",
       "2           Jet Airways      21/05/2019     Delhi      Cochin   \n",
       "3     Multiple carriers      21/05/2019     Delhi      Cochin   \n",
       "4              Air Asia      24/06/2019  Banglore       Delhi   \n",
       "...                 ...             ...       ...         ...   \n",
       "2666          Air India       6/06/2019   Kolkata    Banglore   \n",
       "2667             IndiGo      27/03/2019   Kolkata    Banglore   \n",
       "2668        Jet Airways       6/03/2019     Delhi      Cochin   \n",
       "2669          Air India       6/03/2019     Delhi      Cochin   \n",
       "2670  Multiple carriers      15/06/2019     Delhi      Cochin   \n",
       "\n",
       "                Route Dep_Time  Arrival_Time Duration Total_Stops  \\\n",
       "0     DEL → BOM → COK    17:30  04:25 07 Jun  10h 55m      1 stop   \n",
       "1     CCU → MAA → BLR    06:20         10:20       4h      1 stop   \n",
       "2     DEL → BOM → COK    19:15  19:00 22 May  23h 45m      1 stop   \n",
       "3     DEL → BOM → COK    08:00         21:00      13h      1 stop   \n",
       "4           BLR → DEL    23:55  02:45 25 Jun   2h 50m    non-stop   \n",
       "...               ...      ...           ...      ...         ...   \n",
       "2666  CCU → DEL → BLR    20:30  20:25 07 Jun  23h 55m      1 stop   \n",
       "2667        CCU → BLR    14:20         16:55   2h 35m    non-stop   \n",
       "2668  DEL → BOM → COK    21:50  04:25 07 Mar   6h 35m      1 stop   \n",
       "2669  DEL → BOM → COK    04:00         19:15  15h 15m      1 stop   \n",
       "2670  DEL → BOM → COK    04:55         19:15  14h 20m      1 stop   \n",
       "\n",
       "                  Additional_Info  \n",
       "0                         No info  \n",
       "1                         No info  \n",
       "2     In-flight meal not included  \n",
       "3                         No info  \n",
       "4                         No info  \n",
       "...                           ...  \n",
       "2666                      No info  \n",
       "2667                      No info  \n",
       "2668                      No info  \n",
       "2669                      No info  \n",
       "2670                      No info  \n",
       "\n",
       "[2671 rows x 10 columns]"
      ]
     },
     "execution_count": 3,
     "metadata": {},
     "output_type": "execute_result"
    }
   ],
   "source": [
    "test=pd.read_excel('Test_set.xlsx')\n",
    "test"
   ]
  },
  {
   "cell_type": "code",
   "execution_count": 4,
   "id": "ab61058b",
   "metadata": {},
   "outputs": [
    {
     "data": {
      "text/plain": [
       "Index(['Airline', 'Date_of_Journey', 'Source', 'Destination', 'Route',\n",
       "       'Dep_Time', 'Arrival_Time', 'Duration', 'Total_Stops',\n",
       "       'Additional_Info', 'Price'],\n",
       "      dtype='object')"
      ]
     },
     "execution_count": 4,
     "metadata": {},
     "output_type": "execute_result"
    }
   ],
   "source": [
    "df.columns"
   ]
  },
  {
   "cell_type": "code",
   "execution_count": 5,
   "id": "b9f4cd4e",
   "metadata": {},
   "outputs": [
    {
     "data": {
      "text/plain": [
       "(10683, 11)"
      ]
     },
     "execution_count": 5,
     "metadata": {},
     "output_type": "execute_result"
    }
   ],
   "source": [
    "df.shape"
   ]
  },
  {
   "cell_type": "code",
   "execution_count": 6,
   "id": "4afb69d1",
   "metadata": {},
   "outputs": [
    {
     "data": {
      "text/plain": [
       "True"
      ]
     },
     "execution_count": 6,
     "metadata": {},
     "output_type": "execute_result"
    }
   ],
   "source": [
    "df.isnull().values.any()"
   ]
  },
  {
   "cell_type": "code",
   "execution_count": 7,
   "id": "5eba89e9",
   "metadata": {},
   "outputs": [
    {
     "name": "stdout",
     "output_type": "stream",
     "text": [
      "<class 'pandas.core.frame.DataFrame'>\n",
      "RangeIndex: 10683 entries, 0 to 10682\n",
      "Data columns (total 11 columns):\n",
      " #   Column           Non-Null Count  Dtype \n",
      "---  ------           --------------  ----- \n",
      " 0   Airline          10683 non-null  object\n",
      " 1   Date_of_Journey  10683 non-null  object\n",
      " 2   Source           10683 non-null  object\n",
      " 3   Destination      10683 non-null  object\n",
      " 4   Route            10682 non-null  object\n",
      " 5   Dep_Time         10683 non-null  object\n",
      " 6   Arrival_Time     10683 non-null  object\n",
      " 7   Duration         10683 non-null  object\n",
      " 8   Total_Stops      10682 non-null  object\n",
      " 9   Additional_Info  10683 non-null  object\n",
      " 10  Price            10683 non-null  int64 \n",
      "dtypes: int64(1), object(10)\n",
      "memory usage: 918.2+ KB\n"
     ]
    }
   ],
   "source": [
    "df.info()"
   ]
  },
  {
   "cell_type": "code",
   "execution_count": 8,
   "id": "b7fd82bb",
   "metadata": {},
   "outputs": [
    {
     "name": "stdout",
     "output_type": "stream",
     "text": [
      "Number of rows x columns in dataset are: (2671, 10)\n",
      "Dataset contains any null values: False\n",
      "<class 'pandas.core.frame.DataFrame'>\n",
      "RangeIndex: 2671 entries, 0 to 2670\n",
      "Data columns (total 10 columns):\n",
      " #   Column           Non-Null Count  Dtype \n",
      "---  ------           --------------  ----- \n",
      " 0   Airline          2671 non-null   object\n",
      " 1   Date_of_Journey  2671 non-null   object\n",
      " 2   Source           2671 non-null   object\n",
      " 3   Destination      2671 non-null   object\n",
      " 4   Route            2671 non-null   object\n",
      " 5   Dep_Time         2671 non-null   object\n",
      " 6   Arrival_Time     2671 non-null   object\n",
      " 7   Duration         2671 non-null   object\n",
      " 8   Total_Stops      2671 non-null   object\n",
      " 9   Additional_Info  2671 non-null   object\n",
      "dtypes: object(10)\n",
      "memory usage: 208.8+ KB\n"
     ]
    }
   ],
   "source": [
    "print('Number of rows x columns in dataset are:',test.shape)\n",
    "print('Dataset contains any null values:',test.isnull().values.any())\n",
    "test.info()"
   ]
  },
  {
   "cell_type": "code",
   "execution_count": 9,
   "id": "c032d5e6",
   "metadata": {},
   "outputs": [
    {
     "data": {
      "text/html": [
       "<div>\n",
       "<style scoped>\n",
       "    .dataframe tbody tr th:only-of-type {\n",
       "        vertical-align: middle;\n",
       "    }\n",
       "\n",
       "    .dataframe tbody tr th {\n",
       "        vertical-align: top;\n",
       "    }\n",
       "\n",
       "    .dataframe thead th {\n",
       "        text-align: right;\n",
       "    }\n",
       "</style>\n",
       "<table border=\"1\" class=\"dataframe\">\n",
       "  <thead>\n",
       "    <tr style=\"text-align: right;\">\n",
       "      <th></th>\n",
       "      <th>Airline</th>\n",
       "      <th>Date_of_Journey</th>\n",
       "      <th>Source</th>\n",
       "      <th>Destination</th>\n",
       "      <th>Route</th>\n",
       "      <th>Dep_Time</th>\n",
       "      <th>Arrival_Time</th>\n",
       "      <th>Duration</th>\n",
       "      <th>Total_Stops</th>\n",
       "      <th>Additional_Info</th>\n",
       "      <th>Price</th>\n",
       "    </tr>\n",
       "  </thead>\n",
       "  <tbody>\n",
       "    <tr>\n",
       "      <th>9039</th>\n",
       "      <td>Air India</td>\n",
       "      <td>6/05/2019</td>\n",
       "      <td>Delhi</td>\n",
       "      <td>Cochin</td>\n",
       "      <td>NaN</td>\n",
       "      <td>09:45</td>\n",
       "      <td>09:25 07 May</td>\n",
       "      <td>23h 40m</td>\n",
       "      <td>NaN</td>\n",
       "      <td>No info</td>\n",
       "      <td>7480</td>\n",
       "    </tr>\n",
       "  </tbody>\n",
       "</table>\n",
       "</div>"
      ],
      "text/plain": [
       "        Airline Date_of_Journey Source Destination Route Dep_Time  \\\n",
       "9039  Air India       6/05/2019  Delhi      Cochin   NaN    09:45   \n",
       "\n",
       "      Arrival_Time Duration Total_Stops Additional_Info  Price  \n",
       "9039  09:25 07 May  23h 40m         NaN         No info   7480  "
      ]
     },
     "execution_count": 9,
     "metadata": {},
     "output_type": "execute_result"
    }
   ],
   "source": [
    "df[df.Total_Stops.isnull()]"
   ]
  },
  {
   "cell_type": "code",
   "execution_count": 10,
   "id": "114bc8dd",
   "metadata": {},
   "outputs": [
    {
     "data": {
      "text/html": [
       "<div>\n",
       "<style scoped>\n",
       "    .dataframe tbody tr th:only-of-type {\n",
       "        vertical-align: middle;\n",
       "    }\n",
       "\n",
       "    .dataframe tbody tr th {\n",
       "        vertical-align: top;\n",
       "    }\n",
       "\n",
       "    .dataframe thead th {\n",
       "        text-align: right;\n",
       "    }\n",
       "</style>\n",
       "<table border=\"1\" class=\"dataframe\">\n",
       "  <thead>\n",
       "    <tr style=\"text-align: right;\">\n",
       "      <th></th>\n",
       "      <th>Airline</th>\n",
       "      <th>Date_of_Journey</th>\n",
       "      <th>Source</th>\n",
       "      <th>Destination</th>\n",
       "      <th>Route</th>\n",
       "      <th>Dep_Time</th>\n",
       "      <th>Arrival_Time</th>\n",
       "      <th>Duration</th>\n",
       "      <th>Total_Stops</th>\n",
       "      <th>Additional_Info</th>\n",
       "      <th>Price</th>\n",
       "    </tr>\n",
       "  </thead>\n",
       "  <tbody>\n",
       "    <tr>\n",
       "      <th>1616</th>\n",
       "      <td>Air India</td>\n",
       "      <td>24/05/2019</td>\n",
       "      <td>Delhi</td>\n",
       "      <td>Cochin</td>\n",
       "      <td>DEL → MAA → COK</td>\n",
       "      <td>09:45</td>\n",
       "      <td>09:25 25 May</td>\n",
       "      <td>23h 40m</td>\n",
       "      <td>1 stop</td>\n",
       "      <td>No info</td>\n",
       "      <td>7480</td>\n",
       "    </tr>\n",
       "    <tr>\n",
       "      <th>2554</th>\n",
       "      <td>Air India</td>\n",
       "      <td>15/05/2019</td>\n",
       "      <td>Delhi</td>\n",
       "      <td>Cochin</td>\n",
       "      <td>DEL → MAA → COK</td>\n",
       "      <td>09:45</td>\n",
       "      <td>09:25 16 May</td>\n",
       "      <td>23h 40m</td>\n",
       "      <td>1 stop</td>\n",
       "      <td>No info</td>\n",
       "      <td>7480</td>\n",
       "    </tr>\n",
       "    <tr>\n",
       "      <th>4351</th>\n",
       "      <td>Air India</td>\n",
       "      <td>27/06/2019</td>\n",
       "      <td>Delhi</td>\n",
       "      <td>Cochin</td>\n",
       "      <td>DEL → MAA → COK</td>\n",
       "      <td>09:45</td>\n",
       "      <td>09:25 28 Jun</td>\n",
       "      <td>23h 40m</td>\n",
       "      <td>1 stop</td>\n",
       "      <td>No info</td>\n",
       "      <td>7480</td>\n",
       "    </tr>\n",
       "    <tr>\n",
       "      <th>7896</th>\n",
       "      <td>Air India</td>\n",
       "      <td>12/06/2019</td>\n",
       "      <td>Delhi</td>\n",
       "      <td>Cochin</td>\n",
       "      <td>DEL → MAA → COK</td>\n",
       "      <td>09:45</td>\n",
       "      <td>09:25 13 Jun</td>\n",
       "      <td>23h 40m</td>\n",
       "      <td>1 stop</td>\n",
       "      <td>No info</td>\n",
       "      <td>7480</td>\n",
       "    </tr>\n",
       "    <tr>\n",
       "      <th>9039</th>\n",
       "      <td>Air India</td>\n",
       "      <td>6/05/2019</td>\n",
       "      <td>Delhi</td>\n",
       "      <td>Cochin</td>\n",
       "      <td>NaN</td>\n",
       "      <td>09:45</td>\n",
       "      <td>09:25 07 May</td>\n",
       "      <td>23h 40m</td>\n",
       "      <td>NaN</td>\n",
       "      <td>No info</td>\n",
       "      <td>7480</td>\n",
       "    </tr>\n",
       "  </tbody>\n",
       "</table>\n",
       "</div>"
      ],
      "text/plain": [
       "        Airline Date_of_Journey Source Destination            Route Dep_Time  \\\n",
       "1616  Air India      24/05/2019  Delhi      Cochin  DEL → MAA → COK    09:45   \n",
       "2554  Air India      15/05/2019  Delhi      Cochin  DEL → MAA → COK    09:45   \n",
       "4351  Air India      27/06/2019  Delhi      Cochin  DEL → MAA → COK    09:45   \n",
       "7896  Air India      12/06/2019  Delhi      Cochin  DEL → MAA → COK    09:45   \n",
       "9039  Air India       6/05/2019  Delhi      Cochin              NaN    09:45   \n",
       "\n",
       "      Arrival_Time Duration Total_Stops Additional_Info  Price  \n",
       "1616  09:25 25 May  23h 40m      1 stop         No info   7480  \n",
       "2554  09:25 16 May  23h 40m      1 stop         No info   7480  \n",
       "4351  09:25 28 Jun  23h 40m      1 stop         No info   7480  \n",
       "7896  09:25 13 Jun  23h 40m      1 stop         No info   7480  \n",
       "9039  09:25 07 May  23h 40m         NaN         No info   7480  "
      ]
     },
     "execution_count": 10,
     "metadata": {},
     "output_type": "execute_result"
    }
   ],
   "source": [
    "df[df['Source']=='Delhi'][df['Destination']=='Cochin'][df['Duration']=='23h 40m'][df['Airline']=='Air India'][df['Price']==7480]"
   ]
  },
  {
   "cell_type": "code",
   "execution_count": 11,
   "id": "a6490257",
   "metadata": {},
   "outputs": [
    {
     "data": {
      "text/html": [
       "<div>\n",
       "<style scoped>\n",
       "    .dataframe tbody tr th:only-of-type {\n",
       "        vertical-align: middle;\n",
       "    }\n",
       "\n",
       "    .dataframe tbody tr th {\n",
       "        vertical-align: top;\n",
       "    }\n",
       "\n",
       "    .dataframe thead th {\n",
       "        text-align: right;\n",
       "    }\n",
       "</style>\n",
       "<table border=\"1\" class=\"dataframe\">\n",
       "  <thead>\n",
       "    <tr style=\"text-align: right;\">\n",
       "      <th></th>\n",
       "      <th>Airline</th>\n",
       "      <th>Date_of_Journey</th>\n",
       "      <th>Source</th>\n",
       "      <th>Destination</th>\n",
       "      <th>Route</th>\n",
       "      <th>Dep_Time</th>\n",
       "      <th>Arrival_Time</th>\n",
       "      <th>Duration</th>\n",
       "      <th>Total_Stops</th>\n",
       "      <th>Additional_Info</th>\n",
       "      <th>Price</th>\n",
       "    </tr>\n",
       "  </thead>\n",
       "  <tbody>\n",
       "    <tr>\n",
       "      <th>9039</th>\n",
       "      <td>Air India</td>\n",
       "      <td>6/05/2019</td>\n",
       "      <td>Delhi</td>\n",
       "      <td>Cochin</td>\n",
       "      <td>DEL → MAA → COK</td>\n",
       "      <td>09:45</td>\n",
       "      <td>09:25 07 May</td>\n",
       "      <td>23h 40m</td>\n",
       "      <td>1 stop</td>\n",
       "      <td>No info</td>\n",
       "      <td>7480</td>\n",
       "    </tr>\n",
       "  </tbody>\n",
       "</table>\n",
       "</div>"
      ],
      "text/plain": [
       "        Airline Date_of_Journey Source Destination            Route Dep_Time  \\\n",
       "9039  Air India       6/05/2019  Delhi      Cochin  DEL → MAA → COK    09:45   \n",
       "\n",
       "      Arrival_Time Duration Total_Stops Additional_Info  Price  \n",
       "9039  09:25 07 May  23h 40m      1 stop         No info   7480  "
      ]
     },
     "execution_count": 11,
     "metadata": {},
     "output_type": "execute_result"
    }
   ],
   "source": [
    "df.loc[9039,'Route']='DEL → MAA → COK'\n",
    "df.loc[9039,'Total_Stops']='1 stop'\n",
    "df.loc[[9039]]"
   ]
  },
  {
   "cell_type": "code",
   "execution_count": 12,
   "id": "1a3e446f",
   "metadata": {},
   "outputs": [
    {
     "name": "stdout",
     "output_type": "stream",
     "text": [
      "<class 'pandas.core.frame.DataFrame'>\n",
      "RangeIndex: 10683 entries, 0 to 10682\n",
      "Data columns (total 11 columns):\n",
      " #   Column           Non-Null Count  Dtype \n",
      "---  ------           --------------  ----- \n",
      " 0   Airline          10683 non-null  object\n",
      " 1   Date_of_Journey  10683 non-null  object\n",
      " 2   Source           10683 non-null  object\n",
      " 3   Destination      10683 non-null  object\n",
      " 4   Route            10683 non-null  object\n",
      " 5   Dep_Time         10683 non-null  object\n",
      " 6   Arrival_Time     10683 non-null  object\n",
      " 7   Duration         10683 non-null  object\n",
      " 8   Total_Stops      10683 non-null  object\n",
      " 9   Additional_Info  10683 non-null  object\n",
      " 10  Price            10683 non-null  int64 \n",
      "dtypes: int64(1), object(10)\n",
      "memory usage: 918.2+ KB\n"
     ]
    }
   ],
   "source": [
    "df.info()"
   ]
  },
  {
   "cell_type": "code",
   "execution_count": 13,
   "id": "3122a9be",
   "metadata": {},
   "outputs": [],
   "source": [
    "for i in df.columns:\n",
    "    if 0<len(df[df[i]==' ']):\n",
    "        print(i)\n",
    "        print(len(df[df[i]==' ']))"
   ]
  },
  {
   "cell_type": "code",
   "execution_count": 14,
   "id": "4b4ce3d5",
   "metadata": {},
   "outputs": [],
   "source": [
    "for i in df.columns:\n",
    "    if 0<len(df[df[i]=='']):\n",
    "        print(i)\n",
    "        print(len(df[df[i]=='']))"
   ]
  },
  {
   "cell_type": "code",
   "execution_count": 15,
   "id": "f95e2674",
   "metadata": {},
   "outputs": [],
   "source": [
    "for i in df.columns:\n",
    "    if 0<len(df[df[i]=='?']):\n",
    "        print(i)\n",
    "        print(len(df[df[i]=='?']))"
   ]
  },
  {
   "cell_type": "code",
   "execution_count": 16,
   "id": "082da47c",
   "metadata": {},
   "outputs": [
    {
     "data": {
      "text/plain": [
       "No info                         8345\n",
       "In-flight meal not included     1982\n",
       "No check-in baggage included     320\n",
       "1 Long layover                    19\n",
       "Change airports                    7\n",
       "Business class                     4\n",
       "No Info                            3\n",
       "Red-eye flight                     1\n",
       "1 Short layover                    1\n",
       "2 Long layover                     1\n",
       "Name: Additional_Info, dtype: int64"
      ]
     },
     "execution_count": 16,
     "metadata": {},
     "output_type": "execute_result"
    }
   ],
   "source": [
    "df.Additional_Info.value_counts()"
   ]
  },
  {
   "cell_type": "code",
   "execution_count": 17,
   "id": "0338de40",
   "metadata": {},
   "outputs": [],
   "source": [
    "date=[]\n",
    "month=[]\n",
    "year=[]\n",
    "for i in range(len(df.Date_of_Journey)):\n",
    "    date.append(int(df.Date_of_Journey[i].split('/')[0]))\n",
    "    month.append(int(df.Date_of_Journey[i].split('/')[1]))\n",
    "    year.append(int(df.Date_of_Journey[i].split('/')[2]))"
   ]
  },
  {
   "cell_type": "code",
   "execution_count": 18,
   "id": "60dc9ca3",
   "metadata": {},
   "outputs": [
    {
     "data": {
      "text/html": [
       "<div>\n",
       "<style scoped>\n",
       "    .dataframe tbody tr th:only-of-type {\n",
       "        vertical-align: middle;\n",
       "    }\n",
       "\n",
       "    .dataframe tbody tr th {\n",
       "        vertical-align: top;\n",
       "    }\n",
       "\n",
       "    .dataframe thead th {\n",
       "        text-align: right;\n",
       "    }\n",
       "</style>\n",
       "<table border=\"1\" class=\"dataframe\">\n",
       "  <thead>\n",
       "    <tr style=\"text-align: right;\">\n",
       "      <th></th>\n",
       "      <th>Airline</th>\n",
       "      <th>Date_of_Journey</th>\n",
       "      <th>Source</th>\n",
       "      <th>Destination</th>\n",
       "      <th>Route</th>\n",
       "      <th>Dep_Time</th>\n",
       "      <th>Arrival_Time</th>\n",
       "      <th>Duration</th>\n",
       "      <th>Total_Stops</th>\n",
       "      <th>Additional_Info</th>\n",
       "      <th>Price</th>\n",
       "      <th>date</th>\n",
       "      <th>month</th>\n",
       "      <th>year</th>\n",
       "    </tr>\n",
       "  </thead>\n",
       "  <tbody>\n",
       "    <tr>\n",
       "      <th>0</th>\n",
       "      <td>IndiGo</td>\n",
       "      <td>24/03/2019</td>\n",
       "      <td>Banglore</td>\n",
       "      <td>New Delhi</td>\n",
       "      <td>BLR → DEL</td>\n",
       "      <td>22:20</td>\n",
       "      <td>01:10 22 Mar</td>\n",
       "      <td>2h 50m</td>\n",
       "      <td>non-stop</td>\n",
       "      <td>No info</td>\n",
       "      <td>3897</td>\n",
       "      <td>24</td>\n",
       "      <td>3</td>\n",
       "      <td>2019</td>\n",
       "    </tr>\n",
       "    <tr>\n",
       "      <th>1</th>\n",
       "      <td>Air India</td>\n",
       "      <td>1/05/2019</td>\n",
       "      <td>Kolkata</td>\n",
       "      <td>Banglore</td>\n",
       "      <td>CCU → IXR → BBI → BLR</td>\n",
       "      <td>05:50</td>\n",
       "      <td>13:15</td>\n",
       "      <td>7h 25m</td>\n",
       "      <td>2 stops</td>\n",
       "      <td>No info</td>\n",
       "      <td>7662</td>\n",
       "      <td>1</td>\n",
       "      <td>5</td>\n",
       "      <td>2019</td>\n",
       "    </tr>\n",
       "    <tr>\n",
       "      <th>2</th>\n",
       "      <td>Jet Airways</td>\n",
       "      <td>9/06/2019</td>\n",
       "      <td>Delhi</td>\n",
       "      <td>Cochin</td>\n",
       "      <td>DEL → LKO → BOM → COK</td>\n",
       "      <td>09:25</td>\n",
       "      <td>04:25 10 Jun</td>\n",
       "      <td>19h</td>\n",
       "      <td>2 stops</td>\n",
       "      <td>No info</td>\n",
       "      <td>13882</td>\n",
       "      <td>9</td>\n",
       "      <td>6</td>\n",
       "      <td>2019</td>\n",
       "    </tr>\n",
       "    <tr>\n",
       "      <th>3</th>\n",
       "      <td>IndiGo</td>\n",
       "      <td>12/05/2019</td>\n",
       "      <td>Kolkata</td>\n",
       "      <td>Banglore</td>\n",
       "      <td>CCU → NAG → BLR</td>\n",
       "      <td>18:05</td>\n",
       "      <td>23:30</td>\n",
       "      <td>5h 25m</td>\n",
       "      <td>1 stop</td>\n",
       "      <td>No info</td>\n",
       "      <td>6218</td>\n",
       "      <td>12</td>\n",
       "      <td>5</td>\n",
       "      <td>2019</td>\n",
       "    </tr>\n",
       "    <tr>\n",
       "      <th>4</th>\n",
       "      <td>IndiGo</td>\n",
       "      <td>01/03/2019</td>\n",
       "      <td>Banglore</td>\n",
       "      <td>New Delhi</td>\n",
       "      <td>BLR → NAG → DEL</td>\n",
       "      <td>16:50</td>\n",
       "      <td>21:35</td>\n",
       "      <td>4h 45m</td>\n",
       "      <td>1 stop</td>\n",
       "      <td>No info</td>\n",
       "      <td>13302</td>\n",
       "      <td>1</td>\n",
       "      <td>3</td>\n",
       "      <td>2019</td>\n",
       "    </tr>\n",
       "    <tr>\n",
       "      <th>...</th>\n",
       "      <td>...</td>\n",
       "      <td>...</td>\n",
       "      <td>...</td>\n",
       "      <td>...</td>\n",
       "      <td>...</td>\n",
       "      <td>...</td>\n",
       "      <td>...</td>\n",
       "      <td>...</td>\n",
       "      <td>...</td>\n",
       "      <td>...</td>\n",
       "      <td>...</td>\n",
       "      <td>...</td>\n",
       "      <td>...</td>\n",
       "      <td>...</td>\n",
       "    </tr>\n",
       "    <tr>\n",
       "      <th>10678</th>\n",
       "      <td>Air Asia</td>\n",
       "      <td>9/04/2019</td>\n",
       "      <td>Kolkata</td>\n",
       "      <td>Banglore</td>\n",
       "      <td>CCU → BLR</td>\n",
       "      <td>19:55</td>\n",
       "      <td>22:25</td>\n",
       "      <td>2h 30m</td>\n",
       "      <td>non-stop</td>\n",
       "      <td>No info</td>\n",
       "      <td>4107</td>\n",
       "      <td>9</td>\n",
       "      <td>4</td>\n",
       "      <td>2019</td>\n",
       "    </tr>\n",
       "    <tr>\n",
       "      <th>10679</th>\n",
       "      <td>Air India</td>\n",
       "      <td>27/04/2019</td>\n",
       "      <td>Kolkata</td>\n",
       "      <td>Banglore</td>\n",
       "      <td>CCU → BLR</td>\n",
       "      <td>20:45</td>\n",
       "      <td>23:20</td>\n",
       "      <td>2h 35m</td>\n",
       "      <td>non-stop</td>\n",
       "      <td>No info</td>\n",
       "      <td>4145</td>\n",
       "      <td>27</td>\n",
       "      <td>4</td>\n",
       "      <td>2019</td>\n",
       "    </tr>\n",
       "    <tr>\n",
       "      <th>10680</th>\n",
       "      <td>Jet Airways</td>\n",
       "      <td>27/04/2019</td>\n",
       "      <td>Banglore</td>\n",
       "      <td>Delhi</td>\n",
       "      <td>BLR → DEL</td>\n",
       "      <td>08:20</td>\n",
       "      <td>11:20</td>\n",
       "      <td>3h</td>\n",
       "      <td>non-stop</td>\n",
       "      <td>No info</td>\n",
       "      <td>7229</td>\n",
       "      <td>27</td>\n",
       "      <td>4</td>\n",
       "      <td>2019</td>\n",
       "    </tr>\n",
       "    <tr>\n",
       "      <th>10681</th>\n",
       "      <td>Vistara</td>\n",
       "      <td>01/03/2019</td>\n",
       "      <td>Banglore</td>\n",
       "      <td>New Delhi</td>\n",
       "      <td>BLR → DEL</td>\n",
       "      <td>11:30</td>\n",
       "      <td>14:10</td>\n",
       "      <td>2h 40m</td>\n",
       "      <td>non-stop</td>\n",
       "      <td>No info</td>\n",
       "      <td>12648</td>\n",
       "      <td>1</td>\n",
       "      <td>3</td>\n",
       "      <td>2019</td>\n",
       "    </tr>\n",
       "    <tr>\n",
       "      <th>10682</th>\n",
       "      <td>Air India</td>\n",
       "      <td>9/05/2019</td>\n",
       "      <td>Delhi</td>\n",
       "      <td>Cochin</td>\n",
       "      <td>DEL → GOI → BOM → COK</td>\n",
       "      <td>10:55</td>\n",
       "      <td>19:15</td>\n",
       "      <td>8h 20m</td>\n",
       "      <td>2 stops</td>\n",
       "      <td>No info</td>\n",
       "      <td>11753</td>\n",
       "      <td>9</td>\n",
       "      <td>5</td>\n",
       "      <td>2019</td>\n",
       "    </tr>\n",
       "  </tbody>\n",
       "</table>\n",
       "<p>10683 rows × 14 columns</p>\n",
       "</div>"
      ],
      "text/plain": [
       "           Airline Date_of_Journey    Source Destination  \\\n",
       "0           IndiGo      24/03/2019  Banglore   New Delhi   \n",
       "1        Air India       1/05/2019   Kolkata    Banglore   \n",
       "2      Jet Airways       9/06/2019     Delhi      Cochin   \n",
       "3           IndiGo      12/05/2019   Kolkata    Banglore   \n",
       "4           IndiGo      01/03/2019  Banglore   New Delhi   \n",
       "...            ...             ...       ...         ...   \n",
       "10678     Air Asia       9/04/2019   Kolkata    Banglore   \n",
       "10679    Air India      27/04/2019   Kolkata    Banglore   \n",
       "10680  Jet Airways      27/04/2019  Banglore       Delhi   \n",
       "10681      Vistara      01/03/2019  Banglore   New Delhi   \n",
       "10682    Air India       9/05/2019     Delhi      Cochin   \n",
       "\n",
       "                       Route Dep_Time  Arrival_Time Duration Total_Stops  \\\n",
       "0                  BLR → DEL    22:20  01:10 22 Mar   2h 50m    non-stop   \n",
       "1      CCU → IXR → BBI → BLR    05:50         13:15   7h 25m     2 stops   \n",
       "2      DEL → LKO → BOM → COK    09:25  04:25 10 Jun      19h     2 stops   \n",
       "3            CCU → NAG → BLR    18:05         23:30   5h 25m      1 stop   \n",
       "4            BLR → NAG → DEL    16:50         21:35   4h 45m      1 stop   \n",
       "...                      ...      ...           ...      ...         ...   \n",
       "10678              CCU → BLR    19:55         22:25   2h 30m    non-stop   \n",
       "10679              CCU → BLR    20:45         23:20   2h 35m    non-stop   \n",
       "10680              BLR → DEL    08:20         11:20       3h    non-stop   \n",
       "10681              BLR → DEL    11:30         14:10   2h 40m    non-stop   \n",
       "10682  DEL → GOI → BOM → COK    10:55         19:15   8h 20m     2 stops   \n",
       "\n",
       "      Additional_Info  Price  date  month  year  \n",
       "0             No info   3897    24      3  2019  \n",
       "1             No info   7662     1      5  2019  \n",
       "2             No info  13882     9      6  2019  \n",
       "3             No info   6218    12      5  2019  \n",
       "4             No info  13302     1      3  2019  \n",
       "...               ...    ...   ...    ...   ...  \n",
       "10678         No info   4107     9      4  2019  \n",
       "10679         No info   4145    27      4  2019  \n",
       "10680         No info   7229    27      4  2019  \n",
       "10681         No info  12648     1      3  2019  \n",
       "10682         No info  11753     9      5  2019  \n",
       "\n",
       "[10683 rows x 14 columns]"
      ]
     },
     "execution_count": 18,
     "metadata": {},
     "output_type": "execute_result"
    }
   ],
   "source": [
    "df['date']=date\n",
    "df['month']=month\n",
    "df['year']=year\n",
    "df"
   ]
  },
  {
   "cell_type": "code",
   "execution_count": 19,
   "id": "9222725b",
   "metadata": {},
   "outputs": [
    {
     "data": {
      "text/plain": [
       "2019    10683\n",
       "Name: year, dtype: int64"
      ]
     },
     "execution_count": 19,
     "metadata": {},
     "output_type": "execute_result"
    }
   ],
   "source": [
    "df.year.value_counts()"
   ]
  },
  {
   "cell_type": "code",
   "execution_count": 20,
   "id": "f30a0473",
   "metadata": {},
   "outputs": [],
   "source": [
    "df=df.drop(['Date_of_Journey','year','date','Route','Dep_Time','Arrival_Time'],axis=1)"
   ]
  },
  {
   "cell_type": "code",
   "execution_count": 21,
   "id": "e7d87d5d",
   "metadata": {},
   "outputs": [],
   "source": [
    "date=[]\n",
    "month=[]\n",
    "year=[]\n",
    "for i in range(len(test.Date_of_Journey)):\n",
    "    date.append(int(test.Date_of_Journey[i].split('/')[0]))\n",
    "    month.append(int(test.Date_of_Journey[i].split('/')[1]))\n",
    "    year.append(int(test.Date_of_Journey[i].split('/')[2]))\n",
    "test['date']=date\n",
    "test['month']=month\n",
    "test['year']=year\n",
    "test=test.drop(['Date_of_Journey','year','date','Route','Dep_Time','Arrival_Time'],axis=1)"
   ]
  },
  {
   "cell_type": "code",
   "execution_count": 22,
   "id": "4b6c1f28",
   "metadata": {},
   "outputs": [
    {
     "data": {
      "text/html": [
       "<div>\n",
       "<style scoped>\n",
       "    .dataframe tbody tr th:only-of-type {\n",
       "        vertical-align: middle;\n",
       "    }\n",
       "\n",
       "    .dataframe tbody tr th {\n",
       "        vertical-align: top;\n",
       "    }\n",
       "\n",
       "    .dataframe thead th {\n",
       "        text-align: right;\n",
       "    }\n",
       "</style>\n",
       "<table border=\"1\" class=\"dataframe\">\n",
       "  <thead>\n",
       "    <tr style=\"text-align: right;\">\n",
       "      <th></th>\n",
       "      <th>Airline</th>\n",
       "      <th>Source</th>\n",
       "      <th>Destination</th>\n",
       "      <th>Duration</th>\n",
       "      <th>Total_Stops</th>\n",
       "      <th>Additional_Info</th>\n",
       "      <th>Price</th>\n",
       "      <th>month</th>\n",
       "    </tr>\n",
       "  </thead>\n",
       "  <tbody>\n",
       "    <tr>\n",
       "      <th>0</th>\n",
       "      <td>IndiGo</td>\n",
       "      <td>Banglore</td>\n",
       "      <td>New Delhi</td>\n",
       "      <td>2h 50m</td>\n",
       "      <td>non-stop</td>\n",
       "      <td>No info</td>\n",
       "      <td>3897</td>\n",
       "      <td>3</td>\n",
       "    </tr>\n",
       "    <tr>\n",
       "      <th>1</th>\n",
       "      <td>Air India</td>\n",
       "      <td>Kolkata</td>\n",
       "      <td>Banglore</td>\n",
       "      <td>7h 25m</td>\n",
       "      <td>2 stops</td>\n",
       "      <td>No info</td>\n",
       "      <td>7662</td>\n",
       "      <td>5</td>\n",
       "    </tr>\n",
       "    <tr>\n",
       "      <th>2</th>\n",
       "      <td>Jet Airways</td>\n",
       "      <td>Delhi</td>\n",
       "      <td>Cochin</td>\n",
       "      <td>19h</td>\n",
       "      <td>2 stops</td>\n",
       "      <td>No info</td>\n",
       "      <td>13882</td>\n",
       "      <td>6</td>\n",
       "    </tr>\n",
       "    <tr>\n",
       "      <th>3</th>\n",
       "      <td>IndiGo</td>\n",
       "      <td>Kolkata</td>\n",
       "      <td>Banglore</td>\n",
       "      <td>5h 25m</td>\n",
       "      <td>1 stop</td>\n",
       "      <td>No info</td>\n",
       "      <td>6218</td>\n",
       "      <td>5</td>\n",
       "    </tr>\n",
       "    <tr>\n",
       "      <th>4</th>\n",
       "      <td>IndiGo</td>\n",
       "      <td>Banglore</td>\n",
       "      <td>New Delhi</td>\n",
       "      <td>4h 45m</td>\n",
       "      <td>1 stop</td>\n",
       "      <td>No info</td>\n",
       "      <td>13302</td>\n",
       "      <td>3</td>\n",
       "    </tr>\n",
       "    <tr>\n",
       "      <th>...</th>\n",
       "      <td>...</td>\n",
       "      <td>...</td>\n",
       "      <td>...</td>\n",
       "      <td>...</td>\n",
       "      <td>...</td>\n",
       "      <td>...</td>\n",
       "      <td>...</td>\n",
       "      <td>...</td>\n",
       "    </tr>\n",
       "    <tr>\n",
       "      <th>10678</th>\n",
       "      <td>Air Asia</td>\n",
       "      <td>Kolkata</td>\n",
       "      <td>Banglore</td>\n",
       "      <td>2h 30m</td>\n",
       "      <td>non-stop</td>\n",
       "      <td>No info</td>\n",
       "      <td>4107</td>\n",
       "      <td>4</td>\n",
       "    </tr>\n",
       "    <tr>\n",
       "      <th>10679</th>\n",
       "      <td>Air India</td>\n",
       "      <td>Kolkata</td>\n",
       "      <td>Banglore</td>\n",
       "      <td>2h 35m</td>\n",
       "      <td>non-stop</td>\n",
       "      <td>No info</td>\n",
       "      <td>4145</td>\n",
       "      <td>4</td>\n",
       "    </tr>\n",
       "    <tr>\n",
       "      <th>10680</th>\n",
       "      <td>Jet Airways</td>\n",
       "      <td>Banglore</td>\n",
       "      <td>Delhi</td>\n",
       "      <td>3h</td>\n",
       "      <td>non-stop</td>\n",
       "      <td>No info</td>\n",
       "      <td>7229</td>\n",
       "      <td>4</td>\n",
       "    </tr>\n",
       "    <tr>\n",
       "      <th>10681</th>\n",
       "      <td>Vistara</td>\n",
       "      <td>Banglore</td>\n",
       "      <td>New Delhi</td>\n",
       "      <td>2h 40m</td>\n",
       "      <td>non-stop</td>\n",
       "      <td>No info</td>\n",
       "      <td>12648</td>\n",
       "      <td>3</td>\n",
       "    </tr>\n",
       "    <tr>\n",
       "      <th>10682</th>\n",
       "      <td>Air India</td>\n",
       "      <td>Delhi</td>\n",
       "      <td>Cochin</td>\n",
       "      <td>8h 20m</td>\n",
       "      <td>2 stops</td>\n",
       "      <td>No info</td>\n",
       "      <td>11753</td>\n",
       "      <td>5</td>\n",
       "    </tr>\n",
       "  </tbody>\n",
       "</table>\n",
       "<p>10683 rows × 8 columns</p>\n",
       "</div>"
      ],
      "text/plain": [
       "           Airline    Source Destination Duration Total_Stops Additional_Info  \\\n",
       "0           IndiGo  Banglore   New Delhi   2h 50m    non-stop         No info   \n",
       "1        Air India   Kolkata    Banglore   7h 25m     2 stops         No info   \n",
       "2      Jet Airways     Delhi      Cochin      19h     2 stops         No info   \n",
       "3           IndiGo   Kolkata    Banglore   5h 25m      1 stop         No info   \n",
       "4           IndiGo  Banglore   New Delhi   4h 45m      1 stop         No info   \n",
       "...            ...       ...         ...      ...         ...             ...   \n",
       "10678     Air Asia   Kolkata    Banglore   2h 30m    non-stop         No info   \n",
       "10679    Air India   Kolkata    Banglore   2h 35m    non-stop         No info   \n",
       "10680  Jet Airways  Banglore       Delhi       3h    non-stop         No info   \n",
       "10681      Vistara  Banglore   New Delhi   2h 40m    non-stop         No info   \n",
       "10682    Air India     Delhi      Cochin   8h 20m     2 stops         No info   \n",
       "\n",
       "       Price  month  \n",
       "0       3897      3  \n",
       "1       7662      5  \n",
       "2      13882      6  \n",
       "3       6218      5  \n",
       "4      13302      3  \n",
       "...      ...    ...  \n",
       "10678   4107      4  \n",
       "10679   4145      4  \n",
       "10680   7229      4  \n",
       "10681  12648      3  \n",
       "10682  11753      5  \n",
       "\n",
       "[10683 rows x 8 columns]"
      ]
     },
     "execution_count": 22,
     "metadata": {},
     "output_type": "execute_result"
    }
   ],
   "source": [
    "df"
   ]
  },
  {
   "cell_type": "code",
   "execution_count": 23,
   "id": "5c26dfbe",
   "metadata": {},
   "outputs": [],
   "source": [
    "total=[]\n",
    "for i in range(len(df.Duration)):\n",
    "    if len(df.Duration[i].split())>1:\n",
    "        hour=int(df.Duration[i].split()[0][:-1])*60\n",
    "        minute=int(df.Duration[i].split()[1][:-1])\n",
    "        total.append(hour+minute)\n",
    "    else:\n",
    "        if df.Duration[i].split()[0][-1]=='h':\n",
    "            total.append(int(df.Duration[i].split()[0][:-1])*60)\n",
    "        else:\n",
    "            total.append(int(df.Duration[i].split()[0][:-1]))\n",
    "df['Time']=total\n",
    "total=[]\n",
    "for i in range(len(test.Duration)):\n",
    "    if len(test.Duration[i].split())>1:\n",
    "        hour=int(test.Duration[i].split()[0][:-1])*60\n",
    "        minute=int(test.Duration[i].split()[1][:-1])\n",
    "        total.append(hour+minute)\n",
    "    else:\n",
    "        if test.Duration[i].split()[0][-1]=='h':\n",
    "            total.append(int(test.Duration[i].split()[0][:-1])*60)\n",
    "        else:\n",
    "            total.append(int(test.Duration[i].split()[0][:-1]))\n",
    "test['Time']=total\n",
    "df=df.drop(['Duration'],axis=1)\n",
    "test=test.drop(['Duration'],axis=1)"
   ]
  },
  {
   "cell_type": "code",
   "execution_count": 24,
   "id": "6bab2042",
   "metadata": {},
   "outputs": [
    {
     "data": {
      "text/plain": [
       "1 stop      5626\n",
       "non-stop    3491\n",
       "2 stops     1520\n",
       "3 stops       45\n",
       "4 stops        1\n",
       "Name: Total_Stops, dtype: int64"
      ]
     },
     "execution_count": 24,
     "metadata": {},
     "output_type": "execute_result"
    }
   ],
   "source": [
    "df.Total_Stops.value_counts()"
   ]
  },
  {
   "cell_type": "code",
   "execution_count": 25,
   "id": "fb7c4557",
   "metadata": {},
   "outputs": [],
   "source": [
    "for i in range(len(df.Total_Stops)):\n",
    "    if df.Total_Stops[i]=='1 stop':\n",
    "        df.Total_Stops[i]=1\n",
    "    elif df.Total_Stops[i]=='non-stop':\n",
    "        df.Total_Stops[i]=0\n",
    "    elif df.Total_Stops[i]=='2 stops':\n",
    "        df.Total_Stops[i]=2\n",
    "    elif df.Total_Stops[i]=='3 stops':\n",
    "        df.Total_Stops[i]=3\n",
    "    elif df.Total_Stops[i]=='4 stops':\n",
    "        df.Total_Stops[i]=4\n",
    "for i in range(len(test.Total_Stops)):\n",
    "    if test.Total_Stops[i]=='1 stop':\n",
    "        test.Total_Stops[i]=1\n",
    "    elif test.Total_Stops[i]=='non-stop':\n",
    "        test.Total_Stops[i]=0\n",
    "    elif test.Total_Stops[i]=='2 stops':\n",
    "        test.Total_Stops[i]=2\n",
    "    elif test.Total_Stops[i]=='3 stops':\n",
    "        test.Total_Stops[i]=3\n",
    "    elif test.Total_Stops[i]=='4 stops':\n",
    "        test.Total_Stops[i]=4"
   ]
  },
  {
   "cell_type": "code",
   "execution_count": 26,
   "id": "5c9e57e4",
   "metadata": {},
   "outputs": [
    {
     "name": "stdout",
     "output_type": "stream",
     "text": [
      "{'Chennai': 0, 'Hyderabad': 1, 'Kolkata': 2, 'Banglore': 3, 'Delhi': 4, 'Mumbai': 5, 'Cochin': 6, 'New Delhi': 7}\n",
      "Delhi       4537\n",
      "Kolkata     2871\n",
      "Banglore    2197\n",
      "Mumbai       697\n",
      "Chennai      381\n",
      "Name: Source, dtype: int64\n",
      "Cochin       4537\n",
      "Banglore     2871\n",
      "Delhi        1265\n",
      "New Delhi     932\n",
      "Hyderabad     697\n",
      "Kolkata       381\n",
      "Name: Destination, dtype: int64\n",
      "Delhi       1145\n",
      "Kolkata      710\n",
      "Banglore     555\n",
      "Mumbai       186\n",
      "Chennai       75\n",
      "Name: Source, dtype: int64\n",
      "Cochin       1145\n",
      "Banglore      710\n",
      "Delhi         317\n",
      "New Delhi     238\n",
      "Hyderabad     186\n",
      "Kolkata        75\n",
      "Name: Destination, dtype: int64\n"
     ]
    }
   ],
   "source": [
    "listy=list(set(df.Source.values))\n",
    "misty=list(set(df.Destination.values))\n",
    "listy.extend(misty)\n",
    "unique=list(set(listy))\n",
    "dicty={}\n",
    "for i in range(len(unique)):\n",
    "    dicty[unique[i]]=i\n",
    "print(dicty)\n",
    "print(df.Source.value_counts())\n",
    "print(df.Destination.value_counts())\n",
    "print(test.Source.value_counts())\n",
    "print(test.Destination.value_counts())"
   ]
  },
  {
   "cell_type": "code",
   "execution_count": 27,
   "id": "07773ee1",
   "metadata": {},
   "outputs": [
    {
     "name": "stdout",
     "output_type": "stream",
     "text": [
      "4    4537\n",
      "2    2871\n",
      "3    2197\n",
      "5     697\n",
      "0     381\n",
      "Name: Source, dtype: int64\n",
      "6    4537\n",
      "3    2871\n",
      "4    1265\n",
      "7     932\n",
      "1     697\n",
      "2     381\n",
      "Name: Destination, dtype: int64\n",
      "4    1145\n",
      "2     710\n",
      "3     555\n",
      "5     186\n",
      "0      75\n",
      "Name: Source, dtype: int64\n",
      "6    1145\n",
      "3     710\n",
      "4     317\n",
      "7     238\n",
      "1     186\n",
      "2      75\n",
      "Name: Destination, dtype: int64\n"
     ]
    }
   ],
   "source": [
    "for i in range(len(df.Source)):\n",
    "    df['Source'][i]=dicty[df['Source'][i]]\n",
    "for i in range(len(test.Source)):\n",
    "    test['Source'][i]=dicty[test['Source'][i]]\n",
    "for i in range(len(df.Destination)):\n",
    "    df['Destination'][i]=dicty[df['Destination'][i]]\n",
    "for i in range(len(test.Source)):\n",
    "    test['Destination'][i]=dicty[test['Destination'][i]]\n",
    "print(df.Source.value_counts())\n",
    "print(df.Destination.value_counts())\n",
    "print(test.Source.value_counts())\n",
    "print(test.Destination.value_counts())"
   ]
  },
  {
   "cell_type": "code",
   "execution_count": 28,
   "id": "7fcec2e9",
   "metadata": {},
   "outputs": [
    {
     "data": {
      "text/plain": [
       "{'Airline': {'IndiGo': 0,\n",
       "  'Air India': 1,\n",
       "  'Jet Airways': 2,\n",
       "  'SpiceJet': 3,\n",
       "  'Multiple carriers': 4,\n",
       "  'GoAir': 5,\n",
       "  'Vistara': 6,\n",
       "  'Air Asia': 7,\n",
       "  'Vistara Premium economy': 8,\n",
       "  'Jet Airways Business': 9,\n",
       "  'Multiple carriers Premium economy': 10,\n",
       "  'Trujet': 11},\n",
       " 'Additional_Info': {'No info': 0,\n",
       "  'In-flight meal not included': 1,\n",
       "  'No check-in baggage included': 2,\n",
       "  '1 Short layover': 3,\n",
       "  'No Info': 4,\n",
       "  '1 Long layover': 5,\n",
       "  'Change airports': 6,\n",
       "  'Business class': 7,\n",
       "  'Red-eye flight': 8,\n",
       "  '2 Long layover': 9}}"
      ]
     },
     "execution_count": 28,
     "metadata": {},
     "output_type": "execute_result"
    }
   ],
   "source": [
    "dicty={}\n",
    "for j in ['Airline','Additional_Info']:\n",
    "    for i in df[[j]]:\n",
    "        dicto={}\n",
    "        for j in range(len(df[i].unique())):\n",
    "            dicto[df[i].unique()[j]]=j\n",
    "        dicty[i]=dicto\n",
    "dicty"
   ]
  },
  {
   "cell_type": "code",
   "execution_count": 29,
   "id": "46a0d415",
   "metadata": {},
   "outputs": [],
   "source": [
    "dicty['Additional_Info']['No Info']=dicty['Additional_Info']['No info']"
   ]
  },
  {
   "cell_type": "code",
   "execution_count": 30,
   "id": "2a9d7734",
   "metadata": {},
   "outputs": [],
   "source": [
    "for j in ['Airline','Additional_Info']:\n",
    "    for i in [j]:\n",
    "        df[i]=df[i].apply(lambda x:dicty[i][x])\n",
    "for j in ['Airline','Additional_Info']:\n",
    "    for i in [j]:\n",
    "        test[i]=test[i].apply(lambda x:dicty[i][x])"
   ]
  },
  {
   "cell_type": "code",
   "execution_count": 31,
   "id": "81edc782",
   "metadata": {},
   "outputs": [
    {
     "data": {
      "text/html": [
       "<div>\n",
       "<style scoped>\n",
       "    .dataframe tbody tr th:only-of-type {\n",
       "        vertical-align: middle;\n",
       "    }\n",
       "\n",
       "    .dataframe tbody tr th {\n",
       "        vertical-align: top;\n",
       "    }\n",
       "\n",
       "    .dataframe thead th {\n",
       "        text-align: right;\n",
       "    }\n",
       "</style>\n",
       "<table border=\"1\" class=\"dataframe\">\n",
       "  <thead>\n",
       "    <tr style=\"text-align: right;\">\n",
       "      <th></th>\n",
       "      <th>Airline</th>\n",
       "      <th>Source</th>\n",
       "      <th>Destination</th>\n",
       "      <th>Total_Stops</th>\n",
       "      <th>Additional_Info</th>\n",
       "      <th>month</th>\n",
       "      <th>Time</th>\n",
       "    </tr>\n",
       "  </thead>\n",
       "  <tbody>\n",
       "    <tr>\n",
       "      <th>0</th>\n",
       "      <td>2</td>\n",
       "      <td>4</td>\n",
       "      <td>6</td>\n",
       "      <td>1</td>\n",
       "      <td>0</td>\n",
       "      <td>6</td>\n",
       "      <td>655</td>\n",
       "    </tr>\n",
       "    <tr>\n",
       "      <th>1</th>\n",
       "      <td>0</td>\n",
       "      <td>2</td>\n",
       "      <td>3</td>\n",
       "      <td>1</td>\n",
       "      <td>0</td>\n",
       "      <td>5</td>\n",
       "      <td>240</td>\n",
       "    </tr>\n",
       "    <tr>\n",
       "      <th>2</th>\n",
       "      <td>2</td>\n",
       "      <td>4</td>\n",
       "      <td>6</td>\n",
       "      <td>1</td>\n",
       "      <td>1</td>\n",
       "      <td>5</td>\n",
       "      <td>1425</td>\n",
       "    </tr>\n",
       "    <tr>\n",
       "      <th>3</th>\n",
       "      <td>4</td>\n",
       "      <td>4</td>\n",
       "      <td>6</td>\n",
       "      <td>1</td>\n",
       "      <td>0</td>\n",
       "      <td>5</td>\n",
       "      <td>780</td>\n",
       "    </tr>\n",
       "    <tr>\n",
       "      <th>4</th>\n",
       "      <td>7</td>\n",
       "      <td>3</td>\n",
       "      <td>4</td>\n",
       "      <td>0</td>\n",
       "      <td>0</td>\n",
       "      <td>6</td>\n",
       "      <td>170</td>\n",
       "    </tr>\n",
       "    <tr>\n",
       "      <th>...</th>\n",
       "      <td>...</td>\n",
       "      <td>...</td>\n",
       "      <td>...</td>\n",
       "      <td>...</td>\n",
       "      <td>...</td>\n",
       "      <td>...</td>\n",
       "      <td>...</td>\n",
       "    </tr>\n",
       "    <tr>\n",
       "      <th>2666</th>\n",
       "      <td>1</td>\n",
       "      <td>2</td>\n",
       "      <td>3</td>\n",
       "      <td>1</td>\n",
       "      <td>0</td>\n",
       "      <td>6</td>\n",
       "      <td>1435</td>\n",
       "    </tr>\n",
       "    <tr>\n",
       "      <th>2667</th>\n",
       "      <td>0</td>\n",
       "      <td>2</td>\n",
       "      <td>3</td>\n",
       "      <td>0</td>\n",
       "      <td>0</td>\n",
       "      <td>3</td>\n",
       "      <td>155</td>\n",
       "    </tr>\n",
       "    <tr>\n",
       "      <th>2668</th>\n",
       "      <td>2</td>\n",
       "      <td>4</td>\n",
       "      <td>6</td>\n",
       "      <td>1</td>\n",
       "      <td>0</td>\n",
       "      <td>3</td>\n",
       "      <td>395</td>\n",
       "    </tr>\n",
       "    <tr>\n",
       "      <th>2669</th>\n",
       "      <td>1</td>\n",
       "      <td>4</td>\n",
       "      <td>6</td>\n",
       "      <td>1</td>\n",
       "      <td>0</td>\n",
       "      <td>3</td>\n",
       "      <td>915</td>\n",
       "    </tr>\n",
       "    <tr>\n",
       "      <th>2670</th>\n",
       "      <td>4</td>\n",
       "      <td>4</td>\n",
       "      <td>6</td>\n",
       "      <td>1</td>\n",
       "      <td>0</td>\n",
       "      <td>6</td>\n",
       "      <td>860</td>\n",
       "    </tr>\n",
       "  </tbody>\n",
       "</table>\n",
       "<p>2671 rows × 7 columns</p>\n",
       "</div>"
      ],
      "text/plain": [
       "      Airline Source Destination Total_Stops  Additional_Info  month  Time\n",
       "0           2      4           6           1                0      6   655\n",
       "1           0      2           3           1                0      5   240\n",
       "2           2      4           6           1                1      5  1425\n",
       "3           4      4           6           1                0      5   780\n",
       "4           7      3           4           0                0      6   170\n",
       "...       ...    ...         ...         ...              ...    ...   ...\n",
       "2666        1      2           3           1                0      6  1435\n",
       "2667        0      2           3           0                0      3   155\n",
       "2668        2      4           6           1                0      3   395\n",
       "2669        1      4           6           1                0      3   915\n",
       "2670        4      4           6           1                0      6   860\n",
       "\n",
       "[2671 rows x 7 columns]"
      ]
     },
     "execution_count": 31,
     "metadata": {},
     "output_type": "execute_result"
    }
   ],
   "source": [
    "test"
   ]
  },
  {
   "cell_type": "code",
   "execution_count": 32,
   "id": "1cc7c1f6",
   "metadata": {},
   "outputs": [],
   "source": [
    "df = df.astype({'Destination': np.int64})\n",
    "df = df.astype({'Source': np.int64})\n",
    "df = df.astype({'Total_Stops': np.int64})\n",
    "test = test.astype({'Destination': np.int64})\n",
    "test = test.astype({'Source': np.int64})\n",
    "test = test.astype({'Total_Stops': np.int64})"
   ]
  },
  {
   "cell_type": "code",
   "execution_count": 33,
   "id": "16f519f5",
   "metadata": {},
   "outputs": [
    {
     "data": {
      "text/html": [
       "<div>\n",
       "<style scoped>\n",
       "    .dataframe tbody tr th:only-of-type {\n",
       "        vertical-align: middle;\n",
       "    }\n",
       "\n",
       "    .dataframe tbody tr th {\n",
       "        vertical-align: top;\n",
       "    }\n",
       "\n",
       "    .dataframe thead th {\n",
       "        text-align: right;\n",
       "    }\n",
       "</style>\n",
       "<table border=\"1\" class=\"dataframe\">\n",
       "  <thead>\n",
       "    <tr style=\"text-align: right;\">\n",
       "      <th></th>\n",
       "      <th>Airline</th>\n",
       "      <th>Source</th>\n",
       "      <th>Destination</th>\n",
       "      <th>Total_Stops</th>\n",
       "      <th>Additional_Info</th>\n",
       "      <th>Price</th>\n",
       "      <th>month</th>\n",
       "      <th>Time</th>\n",
       "    </tr>\n",
       "  </thead>\n",
       "  <tbody>\n",
       "    <tr>\n",
       "      <th>count</th>\n",
       "      <td>10683.000000</td>\n",
       "      <td>10683.000000</td>\n",
       "      <td>10683.000000</td>\n",
       "      <td>10683.000000</td>\n",
       "      <td>10683.000000</td>\n",
       "      <td>10683.000000</td>\n",
       "      <td>10683.000000</td>\n",
       "      <td>10683.000000</td>\n",
       "    </tr>\n",
       "    <tr>\n",
       "      <th>mean</th>\n",
       "      <td>2.151456</td>\n",
       "      <td>3.179444</td>\n",
       "      <td>4.575307</td>\n",
       "      <td>0.824207</td>\n",
       "      <td>0.262754</td>\n",
       "      <td>9087.064121</td>\n",
       "      <td>4.708602</td>\n",
       "      <td>643.093232</td>\n",
       "    </tr>\n",
       "    <tr>\n",
       "      <th>std</th>\n",
       "      <td>1.784625</td>\n",
       "      <td>1.115037</td>\n",
       "      <td>1.775348</td>\n",
       "      <td>0.675199</td>\n",
       "      <td>0.580647</td>\n",
       "      <td>4611.359167</td>\n",
       "      <td>1.164357</td>\n",
       "      <td>507.862001</td>\n",
       "    </tr>\n",
       "    <tr>\n",
       "      <th>min</th>\n",
       "      <td>0.000000</td>\n",
       "      <td>0.000000</td>\n",
       "      <td>1.000000</td>\n",
       "      <td>0.000000</td>\n",
       "      <td>0.000000</td>\n",
       "      <td>1759.000000</td>\n",
       "      <td>3.000000</td>\n",
       "      <td>5.000000</td>\n",
       "    </tr>\n",
       "    <tr>\n",
       "      <th>25%</th>\n",
       "      <td>1.000000</td>\n",
       "      <td>2.000000</td>\n",
       "      <td>3.000000</td>\n",
       "      <td>0.000000</td>\n",
       "      <td>0.000000</td>\n",
       "      <td>5277.000000</td>\n",
       "      <td>3.000000</td>\n",
       "      <td>170.000000</td>\n",
       "    </tr>\n",
       "    <tr>\n",
       "      <th>50%</th>\n",
       "      <td>2.000000</td>\n",
       "      <td>3.000000</td>\n",
       "      <td>6.000000</td>\n",
       "      <td>1.000000</td>\n",
       "      <td>0.000000</td>\n",
       "      <td>8372.000000</td>\n",
       "      <td>5.000000</td>\n",
       "      <td>520.000000</td>\n",
       "    </tr>\n",
       "    <tr>\n",
       "      <th>75%</th>\n",
       "      <td>3.000000</td>\n",
       "      <td>4.000000</td>\n",
       "      <td>6.000000</td>\n",
       "      <td>1.000000</td>\n",
       "      <td>0.000000</td>\n",
       "      <td>12373.000000</td>\n",
       "      <td>6.000000</td>\n",
       "      <td>930.000000</td>\n",
       "    </tr>\n",
       "    <tr>\n",
       "      <th>max</th>\n",
       "      <td>11.000000</td>\n",
       "      <td>5.000000</td>\n",
       "      <td>7.000000</td>\n",
       "      <td>4.000000</td>\n",
       "      <td>9.000000</td>\n",
       "      <td>79512.000000</td>\n",
       "      <td>6.000000</td>\n",
       "      <td>2860.000000</td>\n",
       "    </tr>\n",
       "  </tbody>\n",
       "</table>\n",
       "</div>"
      ],
      "text/plain": [
       "            Airline        Source   Destination   Total_Stops  \\\n",
       "count  10683.000000  10683.000000  10683.000000  10683.000000   \n",
       "mean       2.151456      3.179444      4.575307      0.824207   \n",
       "std        1.784625      1.115037      1.775348      0.675199   \n",
       "min        0.000000      0.000000      1.000000      0.000000   \n",
       "25%        1.000000      2.000000      3.000000      0.000000   \n",
       "50%        2.000000      3.000000      6.000000      1.000000   \n",
       "75%        3.000000      4.000000      6.000000      1.000000   \n",
       "max       11.000000      5.000000      7.000000      4.000000   \n",
       "\n",
       "       Additional_Info         Price         month          Time  \n",
       "count     10683.000000  10683.000000  10683.000000  10683.000000  \n",
       "mean          0.262754   9087.064121      4.708602    643.093232  \n",
       "std           0.580647   4611.359167      1.164357    507.862001  \n",
       "min           0.000000   1759.000000      3.000000      5.000000  \n",
       "25%           0.000000   5277.000000      3.000000    170.000000  \n",
       "50%           0.000000   8372.000000      5.000000    520.000000  \n",
       "75%           0.000000  12373.000000      6.000000    930.000000  \n",
       "max           9.000000  79512.000000      6.000000   2860.000000  "
      ]
     },
     "execution_count": 33,
     "metadata": {},
     "output_type": "execute_result"
    }
   ],
   "source": [
    "df.describe()"
   ]
  },
  {
   "cell_type": "code",
   "execution_count": 34,
   "id": "c9b73b59",
   "metadata": {},
   "outputs": [
    {
     "data": {
      "text/plain": [
       "Airline            0.067032\n",
       "Source             0.103453\n",
       "Destination        0.372600\n",
       "Total_Stops        0.603883\n",
       "Additional_Info    0.014019\n",
       "Price              1.000000\n",
       "month             -0.103651\n",
       "Time               0.506371\n",
       "Name: Price, dtype: float64"
      ]
     },
     "execution_count": 34,
     "metadata": {},
     "output_type": "execute_result"
    }
   ],
   "source": [
    "df.corr()['Price']"
   ]
  },
  {
   "cell_type": "code",
   "execution_count": 35,
   "id": "10be7492",
   "metadata": {},
   "outputs": [
    {
     "data": {
      "text/plain": [
       "<AxesSubplot:>"
      ]
     },
     "execution_count": 35,
     "metadata": {},
     "output_type": "execute_result"
    },
    {
     "data": {
      "image/png": "[encoded data removed]",
      "text/plain": [
       "<Figure size 720x720 with 2 Axes>"
      ]
     },
     "metadata": {
      "needs_background": "light"
     },
     "output_type": "display_data"
    }
   ],
   "source": [
    "plt.figure(figsize=[10,10])\n",
    "sn.heatmap(df.corr(),annot=True)"
   ]
  },
  {
   "cell_type": "code",
   "execution_count": 36,
   "id": "0687cd2b",
   "metadata": {},
   "outputs": [
    {
     "data": {
      "image/png": "[encoded data removed]",
      "text/plain": [
       "<Figure size 1440x1800 with 8 Axes>"
      ]
     },
     "metadata": {},
     "output_type": "display_data"
    }
   ],
   "source": [
    "plt.figure(figsize=(20,25),facecolor='white')\n",
    "plotnumber=1\n",
    "for column in df.columns:\n",
    "    if plotnumber<=len(df.columns):\n",
    "        ax=plt.subplot(3,3,plotnumber)\n",
    "        sn.distplot(df[column])\n",
    "        plt.xlabel(column,fontsize=20)\n",
    "    plotnumber+=1\n",
    "plt.show()"
   ]
  },
  {
   "cell_type": "code",
   "execution_count": 37,
   "id": "fb9c3f31",
   "metadata": {},
   "outputs": [
    {
     "data": {
      "image/png": "[encoded data removed]",
      "text/plain": [
       "<Figure size 1440x1800 with 8 Axes>"
      ]
     },
     "metadata": {},
     "output_type": "display_data"
    }
   ],
   "source": [
    "plt.figure(figsize=(20,25),facecolor='white')\n",
    "plotnumber=1\n",
    "for i in df.columns:\n",
    "    if plotnumber<=len(df.columns):\n",
    "        ax=plt.subplot(3,3,plotnumber)\n",
    "        plt.scatter(df[i],df['Price'])\n",
    "        plt.xlabel(i,fontsize=20)\n",
    "        plt.ylabel('Price',fontsize=20)\n",
    "    plotnumber+=1\n",
    "plt.show()"
   ]
  },
  {
   "cell_type": "code",
   "execution_count": 38,
   "id": "3f92bc06",
   "metadata": {},
   "outputs": [
    {
     "data": {
      "image/png": "[encoded data removed]",
      "text/plain": [
       "<Figure size 432x288 with 1 Axes>"
      ]
     },
     "metadata": {
      "needs_background": "light"
     },
     "output_type": "display_data"
    },
    {
     "data": {
      "image/png": "[encoded data removed]",
      "text/plain": [
       "<Figure size 432x288 with 1 Axes>"
      ]
     },
     "metadata": {
      "needs_background": "light"
     },
     "output_type": "display_data"
    },
    {
     "data": {
      "image/png": "[encoded data removed]",
      "text/plain": [
       "<Figure size 432x288 with 1 Axes>"
      ]
     },
     "metadata": {
      "needs_background": "light"
     },
     "output_type": "display_data"
    },
    {
     "data": {
      "image/png": "[encoded data removed]",
      "text/plain": [
       "<Figure size 432x288 with 1 Axes>"
      ]
     },
     "metadata": {
      "needs_background": "light"
     },
     "output_type": "display_data"
    },
    {
     "data": {
      "image/png": "[encoded data removed]",
      "text/plain": [
       "<Figure size 432x288 with 1 Axes>"
      ]
     },
     "metadata": {
      "needs_background": "light"
     },
     "output_type": "display_data"
    },
    {
     "data": {
      "image/png": "[encoded data removed]",
      "text/plain": [
       "<Figure size 432x288 with 1 Axes>"
      ]
     },
     "metadata": {
      "needs_background": "light"
     },
     "output_type": "display_data"
    },
    {
     "data": {
      "image/png": "[encoded data removed]",
      "text/plain": [
       "<Figure size 432x288 with 1 Axes>"
      ]
     },
     "metadata": {
      "needs_background": "light"
     },
     "output_type": "display_data"
    },
    {
     "data": {
      "image/png": "[encoded data removed]",
      "text/plain": [
       "<Figure size 432x288 with 1 Axes>"
      ]
     },
     "metadata": {
      "needs_background": "light"
     },
     "output_type": "display_data"
    }
   ],
   "source": [
    "for i in df.columns:\n",
    "    sn.boxplot(df[i])\n",
    "    plt.show()"
   ]
  },
  {
   "cell_type": "code",
   "execution_count": 39,
   "id": "59b21841",
   "metadata": {},
   "outputs": [
    {
     "name": "stdout",
     "output_type": "stream",
     "text": [
      "(10683, 8)\n",
      "(10457, 8)\n"
     ]
    }
   ],
   "source": [
    "from scipy.stats import zscore\n",
    "z_scr=zscore(df)\n",
    "print(df.shape)\n",
    "df_new=df.loc[(abs(z_scr)<3).all(axis=1)]\n",
    "print(df_new.shape)"
   ]
  },
  {
   "cell_type": "code",
   "execution_count": 40,
   "id": "00978c61",
   "metadata": {},
   "outputs": [
    {
     "data": {
      "image/png": "[encoded data removed]",
      "text/plain": [
       "<Figure size 432x288 with 1 Axes>"
      ]
     },
     "metadata": {
      "needs_background": "light"
     },
     "output_type": "display_data"
    },
    {
     "data": {
      "image/png": "[encoded data removed]",
      "text/plain": [
       "<Figure size 432x288 with 1 Axes>"
      ]
     },
     "metadata": {
      "needs_background": "light"
     },
     "output_type": "display_data"
    },
    {
     "data": {
      "image/png": "[encoded data removed]",
      "text/plain": [
       "<Figure size 432x288 with 1 Axes>"
      ]
     },
     "metadata": {
      "needs_background": "light"
     },
     "output_type": "display_data"
    },
    {
     "data": {
      "image/png": "[encoded data removed]",
      "text/plain": [
       "<Figure size 432x288 with 1 Axes>"
      ]
     },
     "metadata": {
      "needs_background": "light"
     },
     "output_type": "display_data"
    },
    {
     "data": {
      "image/png": "[encoded data removed]",
      "text/plain": [
       "<Figure size 432x288 with 1 Axes>"
      ]
     },
     "metadata": {
      "needs_background": "light"
     },
     "output_type": "display_data"
    },
    {
     "data": {
      "image/png": "[encoded data removed]",
      "text/plain": [
       "<Figure size 432x288 with 1 Axes>"
      ]
     },
     "metadata": {
      "needs_background": "light"
     },
     "output_type": "display_data"
    },
    {
     "data": {
      "image/png": "[encoded data removed]",
      "text/plain": [
       "<Figure size 432x288 with 1 Axes>"
      ]
     },
     "metadata": {
      "needs_background": "light"
     },
     "output_type": "display_data"
    },
    {
     "data": {
      "image/png": "[encoded data removed]",
      "text/plain": [
       "<Figure size 432x288 with 1 Axes>"
      ]
     },
     "metadata": {
      "needs_background": "light"
     },
     "output_type": "display_data"
    }
   ],
   "source": [
    "for i in df_new.columns:\n",
    "    sn.boxplot(df_new[i])\n",
    "    plt.show()"
   ]
  },
  {
   "cell_type": "code",
   "execution_count": 41,
   "id": "1a6c1120",
   "metadata": {},
   "outputs": [
    {
     "name": "stdout",
     "output_type": "stream",
     "text": [
      "(10457, 8)\n",
      "(10099, 8)\n"
     ]
    }
   ],
   "source": [
    "z_scr=zscore(df_new)\n",
    "print(df_new.shape)\n",
    "df=df_new.loc[(abs(z_scr)<3).all(axis=1)]\n",
    "print(df.shape)"
   ]
  },
  {
   "cell_type": "code",
   "execution_count": 42,
   "id": "09a0dfa9",
   "metadata": {},
   "outputs": [
    {
     "data": {
      "image/png": "[encoded data removed]",
      "text/plain": [
       "<Figure size 432x288 with 1 Axes>"
      ]
     },
     "metadata": {
      "needs_background": "light"
     },
     "output_type": "display_data"
    },
    {
     "data": {
      "image/png": "[encoded data removed]",
      "text/plain": [
       "<Figure size 432x288 with 1 Axes>"
      ]
     },
     "metadata": {
      "needs_background": "light"
     },
     "output_type": "display_data"
    },
    {
     "data": {
      "image/png": "[encoded data removed]",
      "text/plain": [
       "<Figure size 432x288 with 1 Axes>"
      ]
     },
     "metadata": {
      "needs_background": "light"
     },
     "output_type": "display_data"
    },
    {
     "data": {
      "image/png": "[encoded data removed]",
      "text/plain": [
       "<Figure size 432x288 with 1 Axes>"
      ]
     },
     "metadata": {
      "needs_background": "light"
     },
     "output_type": "display_data"
    },
    {
     "data": {
      "image/png": "[encoded data removed]",
      "text/plain": [
       "<Figure size 432x288 with 1 Axes>"
      ]
     },
     "metadata": {
      "needs_background": "light"
     },
     "output_type": "display_data"
    },
    {
     "data": {
      "image/png": "[encoded data removed]",
      "text/plain": [
       "<Figure size 432x288 with 1 Axes>"
      ]
     },
     "metadata": {
      "needs_background": "light"
     },
     "output_type": "display_data"
    },
    {
     "data": {
      "image/png": "[encoded data removed]",
      "text/plain": [
       "<Figure size 432x288 with 1 Axes>"
      ]
     },
     "metadata": {
      "needs_background": "light"
     },
     "output_type": "display_data"
    },
    {
     "data": {
      "image/png": "[encoded data removed]",
      "text/plain": [
       "<Figure size 432x288 with 1 Axes>"
      ]
     },
     "metadata": {
      "needs_background": "light"
     },
     "output_type": "display_data"
    }
   ],
   "source": [
    "for i in df.columns:\n",
    "    sn.boxplot(df[i])\n",
    "    plt.show()"
   ]
  },
  {
   "cell_type": "code",
   "execution_count": 43,
   "id": "57df7efe",
   "metadata": {},
   "outputs": [],
   "source": [
    "y = df[['Price']]\n",
    "x = df.drop(columns = ['Price'],axis=1)"
   ]
  },
  {
   "cell_type": "code",
   "execution_count": 44,
   "id": "64a8d7b0",
   "metadata": {},
   "outputs": [
    {
     "data": {
      "text/plain": [
       "Airline            0.973893\n",
       "Source            -0.682312\n",
       "Destination       -0.409237\n",
       "Total_Stops        0.191942\n",
       "Additional_Info    1.535326\n",
       "month             -0.431797\n",
       "Time               0.738539\n",
       "dtype: float64"
      ]
     },
     "execution_count": 44,
     "metadata": {},
     "output_type": "execute_result"
    }
   ],
   "source": [
    "x.skew()"
   ]
  },
  {
   "cell_type": "code",
   "execution_count": 45,
   "id": "ff8cfbda",
   "metadata": {},
   "outputs": [],
   "source": [
    "for index in x.skew().index:\n",
    "    if x.skew().loc[index] >0.55:\n",
    "        x[index]=np.cbrt(x[index])"
   ]
  },
  {
   "cell_type": "code",
   "execution_count": 46,
   "id": "30c8c72c",
   "metadata": {},
   "outputs": [],
   "source": [
    "for index in test.skew().index:\n",
    "    if test.skew().loc[index] >0.55:\n",
    "        test[index]=np.cbrt(test[index])"
   ]
  },
  {
   "cell_type": "code",
   "execution_count": 47,
   "id": "db52b926",
   "metadata": {},
   "outputs": [
    {
     "name": "stdout",
     "output_type": "stream",
     "text": [
      "Airline           -0.893934\n",
      "Source            -0.682312\n",
      "Destination       -0.409237\n",
      "Total_Stops        0.191942\n",
      "Additional_Info    1.535326\n",
      "month             -0.431797\n",
      "Time               0.109080\n",
      "dtype: float64\n",
      "\n",
      "1\n"
     ]
    }
   ],
   "source": [
    "print(x.skew())\n",
    "print()\n",
    "print(len(x.skew().loc[x.skew()>0.55]))# Number of features having skewness more than 0.55 "
   ]
  },
  {
   "cell_type": "code",
   "execution_count": 48,
   "id": "41c8e85f",
   "metadata": {},
   "outputs": [],
   "source": [
    "from sklearn.preprocessing import StandardScaler\n",
    "scaler = StandardScaler()\n",
    "x[['Time']] = scaler.fit_transform(x[['Time']])\n",
    "test[['Time']]=scaler.transform(test[['Time']])"
   ]
  },
  {
   "cell_type": "code",
   "execution_count": 49,
   "id": "ce43544f",
   "metadata": {},
   "outputs": [
    {
     "data": {
      "text/html": [
       "<div>\n",
       "<style scoped>\n",
       "    .dataframe tbody tr th:only-of-type {\n",
       "        vertical-align: middle;\n",
       "    }\n",
       "\n",
       "    .dataframe tbody tr th {\n",
       "        vertical-align: top;\n",
       "    }\n",
       "\n",
       "    .dataframe thead th {\n",
       "        text-align: right;\n",
       "    }\n",
       "</style>\n",
       "<table border=\"1\" class=\"dataframe\">\n",
       "  <thead>\n",
       "    <tr style=\"text-align: right;\">\n",
       "      <th></th>\n",
       "      <th>vif</th>\n",
       "      <th>Features</th>\n",
       "    </tr>\n",
       "  </thead>\n",
       "  <tbody>\n",
       "    <tr>\n",
       "      <th>0</th>\n",
       "      <td>4.425297</td>\n",
       "      <td>Airline</td>\n",
       "    </tr>\n",
       "    <tr>\n",
       "      <th>1</th>\n",
       "      <td>11.833682</td>\n",
       "      <td>Source</td>\n",
       "    </tr>\n",
       "    <tr>\n",
       "      <th>2</th>\n",
       "      <td>10.139022</td>\n",
       "      <td>Destination</td>\n",
       "    </tr>\n",
       "    <tr>\n",
       "      <th>3</th>\n",
       "      <td>7.863587</td>\n",
       "      <td>Total_Stops</td>\n",
       "    </tr>\n",
       "    <tr>\n",
       "      <th>4</th>\n",
       "      <td>1.340193</td>\n",
       "      <td>Additional_Info</td>\n",
       "    </tr>\n",
       "    <tr>\n",
       "      <th>5</th>\n",
       "      <td>9.271981</td>\n",
       "      <td>month</td>\n",
       "    </tr>\n",
       "    <tr>\n",
       "      <th>6</th>\n",
       "      <td>2.877205</td>\n",
       "      <td>Time</td>\n",
       "    </tr>\n",
       "  </tbody>\n",
       "</table>\n",
       "</div>"
      ],
      "text/plain": [
       "         vif         Features\n",
       "0   4.425297          Airline\n",
       "1  11.833682           Source\n",
       "2  10.139022      Destination\n",
       "3   7.863587      Total_Stops\n",
       "4   1.340193  Additional_Info\n",
       "5   9.271981            month\n",
       "6   2.877205             Time"
      ]
     },
     "execution_count": 49,
     "metadata": {},
     "output_type": "execute_result"
    }
   ],
   "source": [
    "from statsmodels.stats.outliers_influence import variance_inflation_factor\n",
    "vif = pd.DataFrame()\n",
    "vif[\"vif\"] = [variance_inflation_factor(x.values,i) for i in range(x.shape[1]) ]\n",
    "vif[\"Features\"] = x.columns\n",
    "vif"
   ]
  },
  {
   "cell_type": "code",
   "execution_count": 50,
   "id": "aeb13050",
   "metadata": {},
   "outputs": [],
   "source": [
    "x=x.drop(['month'],axis=1)\n",
    "test=test.drop(['month'],axis=1)"
   ]
  },
  {
   "cell_type": "code",
   "execution_count": 51,
   "id": "d809c8af",
   "metadata": {},
   "outputs": [
    {
     "data": {
      "text/html": [
       "<div>\n",
       "<style scoped>\n",
       "    .dataframe tbody tr th:only-of-type {\n",
       "        vertical-align: middle;\n",
       "    }\n",
       "\n",
       "    .dataframe tbody tr th {\n",
       "        vertical-align: top;\n",
       "    }\n",
       "\n",
       "    .dataframe thead th {\n",
       "        text-align: right;\n",
       "    }\n",
       "</style>\n",
       "<table border=\"1\" class=\"dataframe\">\n",
       "  <thead>\n",
       "    <tr style=\"text-align: right;\">\n",
       "      <th></th>\n",
       "      <th>vif</th>\n",
       "      <th>Features</th>\n",
       "    </tr>\n",
       "  </thead>\n",
       "  <tbody>\n",
       "    <tr>\n",
       "      <th>0</th>\n",
       "      <td>3.910392</td>\n",
       "      <td>Airline</td>\n",
       "    </tr>\n",
       "    <tr>\n",
       "      <th>1</th>\n",
       "      <td>10.661398</td>\n",
       "      <td>Source</td>\n",
       "    </tr>\n",
       "    <tr>\n",
       "      <th>2</th>\n",
       "      <td>9.957001</td>\n",
       "      <td>Destination</td>\n",
       "    </tr>\n",
       "    <tr>\n",
       "      <th>3</th>\n",
       "      <td>7.121760</td>\n",
       "      <td>Total_Stops</td>\n",
       "    </tr>\n",
       "    <tr>\n",
       "      <th>4</th>\n",
       "      <td>1.321246</td>\n",
       "      <td>Additional_Info</td>\n",
       "    </tr>\n",
       "    <tr>\n",
       "      <th>5</th>\n",
       "      <td>2.541780</td>\n",
       "      <td>Time</td>\n",
       "    </tr>\n",
       "  </tbody>\n",
       "</table>\n",
       "</div>"
      ],
      "text/plain": [
       "         vif         Features\n",
       "0   3.910392          Airline\n",
       "1  10.661398           Source\n",
       "2   9.957001      Destination\n",
       "3   7.121760      Total_Stops\n",
       "4   1.321246  Additional_Info\n",
       "5   2.541780             Time"
      ]
     },
     "execution_count": 51,
     "metadata": {},
     "output_type": "execute_result"
    }
   ],
   "source": [
    "vif = pd.DataFrame()\n",
    "vif[\"vif\"] = [variance_inflation_factor(x.values,i) for i in range(x.shape[1]) ]\n",
    "vif[\"Features\"] = x.columns\n",
    "vif"
   ]
  },
  {
   "cell_type": "code",
   "execution_count": 52,
   "id": "a141f07f",
   "metadata": {},
   "outputs": [
    {
     "name": "stdout",
     "output_type": "stream",
     "text": [
      "2 0.7792487811020595\n",
      "3 0.9083098847675118\n",
      "4 0.9592342749240128\n",
      "5 0.9835299268828139\n",
      "6 1.0\n"
     ]
    }
   ],
   "source": [
    "from sklearn.decomposition import PCA\n",
    "for i in range(2,x.shape[1]+1):\n",
    "    pca = PCA(n_components=i)\n",
    "    principalComponents = pca.fit_transform(x)\n",
    "    print(i,sum(pca.explained_variance_ratio_))"
   ]
  },
  {
   "cell_type": "code",
   "execution_count": 53,
   "id": "26a98b15",
   "metadata": {},
   "outputs": [],
   "source": [
    "pca = PCA(n_components=4)\n",
    "principalComponents = pca.fit_transform(x)\n",
    "testy=pca.transform(test)"
   ]
  },
  {
   "cell_type": "code",
   "execution_count": 54,
   "id": "76eb419e",
   "metadata": {},
   "outputs": [],
   "source": [
    "from sklearn.model_selection import train_test_split\n",
    "from sklearn.metrics import r2_score,mean_absolute_error,mean_squared_error\n",
    "def besttrain(model,x,y):\n",
    "    random=0\n",
    "    score=0\n",
    "    for i in range(42,200):\n",
    "        x_train,x_test,y_train,y_test=train_test_split(x,y,random_state = i,test_size=0.20,shuffle=True)\n",
    "        model.fit(x_train,y_train)\n",
    "        tmp=r2_score(y_test,model.predict(x_test))\n",
    "        if tmp>score:\n",
    "            score=tmp\n",
    "            random=i\n",
    "    return random"
   ]
  },
  {
   "cell_type": "code",
   "execution_count": 55,
   "id": "5fa28464",
   "metadata": {},
   "outputs": [],
   "source": [
    "from sklearn.ensemble import RandomForestRegressor,GradientBoostingRegressor,AdaBoostRegressor,BaggingRegressor\n",
    "from sklearn.tree import DecisionTreeRegressor\n",
    "from sklearn.svm import SVR,NuSVR,LinearSVR\n",
    "from sklearn.linear_model import LinearRegression,Ridge,RidgeCV,BayesianRidge,SGDRegressor\n",
    "from sklearn.neighbors import KNeighborsRegressor\n",
    "from sklearn.model_selection import GridSearchCV,RandomizedSearchCV\n",
    "from sklearn.metrics import r2_score,mean_absolute_error,mean_squared_error\n",
    "from sklearn.svm import NuSVR\n",
    "from sklearn.impute import KNNImputer\n",
    "from sklearn.cluster import KMeans\n",
    "from lightgbm import LGBMRegressor\n",
    "from xgboost import XGBRegressor,XGBRFRegressor\n",
    "from mlxtend.regressor import StackingCVRegressor\n",
    "\n",
    "\n",
    "\n",
    "models=[GradientBoostingRegressor(),NuSVR(),LinearRegression(),Ridge(),RidgeCV(),BayesianRidge(),SGDRegressor(),SVR(),\n",
    "        AdaBoostRegressor(),LinearSVR(),KNeighborsRegressor(),RandomForestRegressor(),BaggingRegressor(),\n",
    "       DecisionTreeRegressor(),LGBMRegressor(), XGBRFRegressor(),XGBRegressor()]"
   ]
  },
  {
   "cell_type": "code",
   "execution_count": 56,
   "id": "1ee2ebfd",
   "metadata": {},
   "outputs": [
    {
     "name": "stdout",
     "output_type": "stream",
     "text": [
      "**********\n",
      "GradientBoostingRegressor()\n",
      "score 0.7015723133473453\n",
      "r2 0.6867005451127313\n",
      "diff 0.014871768234614002\n",
      "mae 1581.6545021446136\n",
      "rmse 2209.7706919962966\n",
      "**********\n",
      "NuSVR()\n",
      "score 0.11381631800686276\n",
      "r2 0.1437708512877124\n",
      "diff 0.029954533280849627\n",
      "mae 3096.383041645793\n",
      "rmse 3653.1070079317324\n",
      "**********\n",
      "LinearRegression()\n",
      "score 0.480468973441484\n",
      "r2 0.4804123948670812\n",
      "diff 5.6578574402776916e-05\n",
      "mae 2204.000546169672\n",
      "rmse 2845.7502377910555\n",
      "**********\n",
      "Ridge()\n",
      "score 0.48046919751716677\n",
      "r2 0.4804130083388196\n",
      "diff 5.6189178347154645e-05\n",
      "mae 2204.0153612458707\n",
      "rmse 2845.7485578165492\n",
      "**********\n",
      "RidgeCV(alphas=array([ 0.1,  1. , 10. ]))\n",
      "score 0.48047045284421924\n",
      "r2 0.4804180769227695\n",
      "diff 5.2375921449743235e-05\n",
      "mae 2204.148603451949\n",
      "rmse 2845.7346776089294\n",
      "**********\n",
      "BayesianRidge()\n",
      "score 0.4804700143606197\n",
      "r2 0.480416109804375\n",
      "diff 5.3904556244710466e-05\n",
      "mae 2204.0943176261862\n",
      "rmse 2845.740064528184\n",
      "**********\n",
      "SGDRegressor()\n",
      "score 0.4802741118829328\n",
      "r2 0.47850784841041294\n",
      "diff 0.0017662634725198467\n",
      "mae 2214.7154087678473\n",
      "rmse 2850.961010659538\n",
      "**********\n",
      "SVR()\n",
      "score 0.11819003148732196\n",
      "r2 0.14776066261755805\n",
      "diff 0.029570631130236086\n",
      "mae 2983.697382821602\n",
      "rmse 3644.5857921906295\n",
      "**********\n",
      "AdaBoostRegressor()\n",
      "score 0.5390899729699603\n",
      "r2 0.5191971461145803\n",
      "diff 0.019892826855379964\n",
      "mae 2205.932694531677\n",
      "rmse 2737.4797046705494\n",
      "**********\n",
      "LinearSVR()\n",
      "score -0.6301236170840672\n",
      "r2 -0.2543525550740273\n",
      "diff 0.37577106201003985\n",
      "mae 3300.7740671791375\n",
      "rmse 4421.57706674496\n",
      "**********\n",
      "KNeighborsRegressor()\n",
      "score 0.7603984437618895\n",
      "r2 0.7284180809545726\n",
      "diff 0.031980362807316864\n",
      "mae 1325.318712871287\n",
      "rmse 2057.395644209417\n",
      "**********\n",
      "RandomForestRegressor()\n",
      "score 0.7708074333983703\n",
      "r2 0.7437341011606607\n",
      "diff 0.02707333223770958\n",
      "mae 1280.0865181743172\n",
      "rmse 1998.5397886601802\n",
      "**********\n",
      "BaggingRegressor()\n",
      "score 0.7642877308124455\n",
      "r2 0.7474061078854914\n",
      "diff 0.016881622926954054\n",
      "mae 1273.2245585506023\n",
      "rmse 1984.1696943291413\n",
      "**********\n",
      "DecisionTreeRegressor()\n",
      "score 0.7450324582116798\n",
      "r2 0.7325555184984089\n",
      "diff 0.012476939713270907\n",
      "mae 1292.0916900269356\n",
      "rmse 2041.6637135702815\n",
      "**********\n",
      "LGBMRegressor()\n",
      "score 0.7690761929805402\n",
      "r2 0.750710880961063\n",
      "diff 0.01836531201947722\n",
      "mae 1333.6979799460453\n",
      "rmse 1971.1471710663932\n",
      "**********\n",
      "XGBRFRegressor(base_score=0.5, booster='gbtree', colsample_bylevel=1,\n",
      "               colsample_bytree=1, enable_categorical=False, gamma=0, gpu_id=-1,\n",
      "               importance_type=None, interaction_constraints='',\n",
      "               max_delta_step=0, max_depth=6, min_child_weight=1, missing=nan,\n",
      "               monotone_constraints='()', n_estimators=100, n_jobs=8,\n",
      "               num_parallel_tree=100, objective='reg:squarederror',\n",
      "               predictor='auto', random_state=0, reg_alpha=0,\n",
      "               scale_pos_weight=1, tree_method='exact', validate_parameters=1,\n",
      "               verbosity=None)\n",
      "score 0.6840529541727742\n",
      "r2 0.6639851793774099\n",
      "diff 0.020067774795364368\n",
      "mae 1653.4451819693688\n",
      "rmse 2288.4772861211864\n",
      "**********\n",
      "XGBRegressor(base_score=0.5, booster='gbtree', colsample_bylevel=1,\n",
      "             colsample_bynode=1, colsample_bytree=1, enable_categorical=False,\n",
      "             gamma=0, gpu_id=-1, importance_type=None,\n",
      "             interaction_constraints='', learning_rate=0.300000012,\n",
      "             max_delta_step=0, max_depth=6, min_child_weight=1, missing=nan,\n",
      "             monotone_constraints='()', n_estimators=100, n_jobs=8,\n",
      "             num_parallel_tree=1, predictor='auto', random_state=0, reg_alpha=0,\n",
      "             reg_lambda=1, scale_pos_weight=1, subsample=1, tree_method='exact',\n",
      "             validate_parameters=1, verbosity=None)\n",
      "score 0.7761721753671306\n",
      "r2 0.7551354853740908\n",
      "diff 0.02103668999303976\n",
      "mae 1278.1790313418549\n",
      "rmse 1953.5760206787215\n"
     ]
    }
   ],
   "source": [
    "from sklearn.model_selection import cross_val_score\n",
    "from sklearn.metrics import roc_auc_score,roc_curve\n",
    "for i in models:\n",
    "    x_train,x_test,y_train,y_test=train_test_split(principalComponents,y,random_state = 42,test_size=0.20)\n",
    "    scores=cross_val_score(i,x_train,y_train,cv=4,scoring='r2')\n",
    "    score=np.mean(scores)\n",
    "    i.fit(x_train,y_train)\n",
    "    y_pred=i.predict(x_test)\n",
    "    if r2_score(y_test,y_pred)>score:\n",
    "        diff=r2_score(y_test,y_pred)-score\n",
    "    else:\n",
    "        diff=score-r2_score(y_test,y_pred)\n",
    "    print('*'*10)\n",
    "    print(i)\n",
    "    print('score',score)\n",
    "    print('r2',r2_score(y_test,y_pred))\n",
    "    print('diff',diff)\n",
    "    print('mae',mean_absolute_error(y_test, y_pred))\n",
    "    print('rmse',np.sqrt(mean_squared_error(y_test, y_pred)))"
   ]
  },
  {
   "cell_type": "code",
   "execution_count": 57,
   "id": "02aeabe2",
   "metadata": {},
   "outputs": [
    {
     "name": "stdout",
     "output_type": "stream",
     "text": [
      "Fitting 4 folds for each of 10 candidates, totalling 40 fits\n"
     ]
    },
    {
     "data": {
      "text/plain": [
       "{'colsample_bytree': 0.746697643100316,\n",
       " 'min_child_samples': 170,\n",
       " 'min_child_weight': 10.0,\n",
       " 'num_leaves': 36,\n",
       " 'reg_alpha': 50,\n",
       " 'reg_lambda': 10,\n",
       " 'subsample': 0.4632150115699138}"
      ]
     },
     "execution_count": 57,
     "metadata": {},
     "output_type": "execute_result"
    }
   ],
   "source": [
    "from scipy.stats import randint as sp_randint\n",
    "from scipy.stats import uniform as sp_uniform\n",
    "parameters={'num_leaves': sp_randint(6, 50), \n",
    "             'min_child_samples': sp_randint(100, 500), \n",
    "             'min_child_weight': [1e-5, 1e-3, 1e-2, 1e-1, 1, 1e1, 1e2, 1e3, 1e4],\n",
    "             'subsample': sp_uniform(loc=0.2, scale=0.8), \n",
    "             'colsample_bytree': sp_uniform(loc=0.4, scale=0.6),\n",
    "             'reg_alpha': [0, 1e-1, 1, 2, 5, 7, 10, 50, 100],\n",
    "             'reg_lambda': [0, 1e-1, 1, 5, 10, 20, 50, 100]}\n",
    "clf = RandomizedSearchCV(LGBMRegressor(), parameters, cv=4,scoring=\"r2\",n_jobs=-1,verbose=1)\n",
    "clf.fit(principalComponents,y)\n",
    "clf.best_params_"
   ]
  },
  {
   "cell_type": "code",
   "execution_count": 58,
   "id": "99c7e16a",
   "metadata": {},
   "outputs": [
    {
     "name": "stdout",
     "output_type": "stream",
     "text": [
      "Fitting 4 folds for each of 36 candidates, totalling 144 fits\n"
     ]
    },
    {
     "data": {
      "text/plain": [
       "{'max_depth': 7, 'n_estimators': 45, 'reg_lambda': 0.26}"
      ]
     },
     "execution_count": 58,
     "metadata": {},
     "output_type": "execute_result"
    }
   ],
   "source": [
    "parameters={'n_estimators': [100, 80, 60, 55, 51, 45],  \n",
    "              'max_depth': [7, 8],\n",
    "              'reg_lambda' :[0.26, 0.25, 0.2]}\n",
    "clf = GridSearchCV(XGBRegressor(), parameters, cv=4,scoring=\"r2\",n_jobs=-1,verbose=1)\n",
    "clf.fit(principalComponents,y)\n",
    "clf.best_params_"
   ]
  },
  {
   "cell_type": "code",
   "execution_count": null,
   "id": "d53b1d2d",
   "metadata": {},
   "outputs": [
    {
     "name": "stdout",
     "output_type": "stream",
     "text": [
      "Fitting 4 folds for each of 10 candidates, totalling 40 fits\n"
     ]
    }
   ],
   "source": [
    "parameters={\"n_estimators\":[10,100,500],'criterion':['mse', 'mae'],'max_features':['auto', 'sqrt', 'log2']}\n",
    "clf = RandomizedSearchCV(RandomForestRegressor(), parameters, cv=4,scoring=\"r2\",n_jobs=-1,verbose=1)\n",
    "clf.fit(principalComponents,y)\n",
    "clf.best_params_"
   ]
  },
  {
   "cell_type": "code",
   "execution_count": null,
   "id": "c9b2504c",
   "metadata": {},
   "outputs": [],
   "source": [
    "besttrain(LGBMRegressor(colsample_bytree=0.6976834926911494,\n",
    " min_child_samples=128,\n",
    " min_child_weight= 0.001,\n",
    " num_leaves= 41,\n",
    " reg_alpha= 2,\n",
    " reg_lambda= 10,\n",
    " subsample= 0.3113973200874835),principalComponents,y)"
   ]
  },
  {
   "cell_type": "code",
   "execution_count": null,
   "id": "57fe2bca",
   "metadata": {},
   "outputs": [],
   "source": [
    "X_train, X_test, y_train, y_test = train_test_split(principalComponents, y, random_state=86, test_size=0.2)\n",
    "stack = StackingCVRegressor(regressors=(LGBMRegressor(colsample_bytree=0.8145855414008392,min_child_samples=273,\n",
    "                                                      min_child_weight= 1e-05,num_leaves= 39,reg_alpha= 7,reg_lambda= 20,\n",
    "                                                      subsample= 0.34372869544141943), \n",
    "                                        RandomForestRegressor(criterion='mse',max_features='sqrt',n_estimators=500),\n",
    "                                        XGBRegressor(max_depth=7,n_estimators=45,reg_lambda=0.25)\n",
    "                                       ),\n",
    "                            meta_regressor=LGBMRegressor(colsample_bytree=0.8145855414008392,min_child_samples=273,\n",
    "                                                      min_child_weight= 1e-05,num_leaves= 39,reg_alpha= 7,reg_lambda= 20,\n",
    "                                                   subsample= 0.34372869544141943), \n",
    "                            cv=4,\n",
    "                            use_features_in_secondary=True,\n",
    "                            store_train_meta_features=True,\n",
    "                            shuffle=False)\n",
    "stack.fit(X_train, y_train)\n",
    "pred = stack.predict(X_test)\n",
    "score = r2_score(y_test, pred)\n",
    "print('r2 score test',score)\n",
    "pred = stack.predict(X_train)\n",
    "score = r2_score(y_train, pred)\n",
    "print('r2 score train',score)"
   ]
  },
  {
   "cell_type": "code",
   "execution_count": null,
   "id": "d57f3896",
   "metadata": {},
   "outputs": [],
   "source": [
    "y_pred=stack.predict(X_test)\n",
    "score=r2_score(y_test,y_pred)\n",
    "print('coeff of determination is:',score)\n",
    "print('mean absolute error:',mean_absolute_error(y_test,y_pred))\n",
    "print('mean squared error:',mean_squared_error(y_test,y_pred))\n",
    "print('root mean square error:',np.sqrt(mean_squared_error(y_test,y_pred)))\n",
    "scores =cross_val_score(StackingCVRegressor(regressors=(LGBMRegressor(colsample_bytree=0.8145855414008392,min_child_samples=273,\n",
    "                                                      min_child_weight= 1e-05,num_leaves= 39,reg_alpha= 7,reg_lambda= 20,\n",
    "                                                      subsample= 0.34372869544141943), \n",
    "                                        RandomForestRegressor(criterion='mse',max_features='sqrt',n_estimators=500),\n",
    "                                        XGBRegressor(max_depth=7,n_estimators=45,reg_lambda=0.25)\n",
    "                                       ),\n",
    "                            meta_regressor=LGBMRegressor(colsample_bytree=0.8145855414008392,min_child_samples=273,\n",
    "                                                      min_child_weight= 1e-05,num_leaves= 39,reg_alpha= 7,reg_lambda= 20,\n",
    "                                                   subsample= 0.34372869544141943), \n",
    "                            cv=4,\n",
    "                            use_features_in_secondary=True,\n",
    "                            store_train_meta_features=True,\n",
    "                            shuffle=False),principalComponents,y,cv=4,n_jobs=-1,verbose=1)\n",
    "print('cross val score',scores.mean())\n",
    "print('std err',scores.std())"
   ]
  },
  {
   "cell_type": "code",
   "execution_count": null,
   "id": "04a59870",
   "metadata": {},
   "outputs": [],
   "source": [
    "y_pred=stack.predict(testy)\n",
    "test=pd.read_excel('Test_set.xlsx')\n",
    "test['Pred']=[round(i) for i in y_pred]\n",
    "test"
   ]
  },
  {
   "cell_type": "code",
   "execution_count": null,
   "id": "692e0144",
   "metadata": {},
   "outputs": [],
   "source": [
    "test.to_excel('Flight.xlsx')"
   ]
  },
  {
   "cell_type": "code",
   "execution_count": null,
   "id": "fa6da32e",
   "metadata": {},
   "outputs": [],
   "source": [
    "y_pred=stack.predict(principalComponents)\n",
    "df['Pred']=[round(i) for i in y_pred]\n",
    "df"
   ]
  },
  {
   "cell_type": "code",
   "execution_count": null,
   "id": "95462082",
   "metadata": {},
   "outputs": [],
   "source": [
    "dataframe=pd.DataFrame()\n",
    "dataframe['Price']=[round(i) for i in y_pred]\n",
    "dataframe"
   ]
  },
  {
   "cell_type": "code",
   "execution_count": null,
   "id": "9e88c25c",
   "metadata": {},
   "outputs": [],
   "source": [
    "dataframe.to_excel('Price.xlsx')"
   ]
  },
  {
   "cell_type": "code",
   "execution_count": null,
   "id": "92ca0dd3",
   "metadata": {},
   "outputs": [],
   "source": [
    "sn.lmplot(x='Price',y='Pred',data=df,palette='rainbow')"
   ]
  },
  {
   "cell_type": "code",
   "execution_count": null,
   "id": "f4f281fd",
   "metadata": {},
   "outputs": [],
   "source": [
    "plt.plot(X_test,y_test,'r*')\n",
    "plt.plot(X_test,stack.predict(X_test),'b.')\n",
    "plt.show()"
   ]
  },
  {
   "cell_type": "code",
   "execution_count": null,
   "id": "689c1c31",
   "metadata": {},
   "outputs": [],
   "source": [
    "sn.distplot(df['Price'])\n",
    "sn.distplot(df['Pred'])"
   ]
  },
  {
   "cell_type": "code",
   "execution_count": null,
   "id": "33156b33",
   "metadata": {},
   "outputs": [],
   "source": [
    "import joblib\n",
    "joblib.dump(stack,'Flight.pkl')"
   ]
  }
 ],
 "metadata": {
  "kernelspec": {
   "display_name": "Python 3",
   "language": "python",
   "name": "python3"
  },
  "language_info": {
   "codemirror_mode": {
    "name": "ipython",
    "version": 3
   },
   "file_extension": ".py",
   "mimetype": "text/x-python",
   "name": "python",
   "nbconvert_exporter": "python",
   "pygments_lexer": "ipython3",
   "version": "3.8.8"
  }
 },
 "nbformat": 4,
 "nbformat_minor": 5
}
