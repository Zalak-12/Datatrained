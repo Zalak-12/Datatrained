{
 "cells": [
  {
   "cell_type": "code",
   "execution_count": 1,
   "id": "b17347aa",
   "metadata": {},
   "outputs": [],
   "source": [
    "import pandas as pd\n",
    "import matplotlib.pyplot as plt\n",
    "from imblearn.over_sampling import SMOTE\n",
    "import warnings\n",
    "warnings.filterwarnings(\"ignore\")\n",
    "import seaborn as sn\n",
    "import numpy as np"
   ]
  },
  {
   "cell_type": "code",
   "execution_count": 2,
   "id": "73af50ad",
   "metadata": {},
   "outputs": [
    {
     "data": {
      "text/html": [
       "<div>\n",
       "<style scoped>\n",
       "    .dataframe tbody tr th:only-of-type {\n",
       "        vertical-align: middle;\n",
       "    }\n",
       "\n",
       "    .dataframe tbody tr th {\n",
       "        vertical-align: top;\n",
       "    }\n",
       "\n",
       "    .dataframe thead th {\n",
       "        text-align: right;\n",
       "    }\n",
       "</style>\n",
       "<table border=\"1\" class=\"dataframe\">\n",
       "  <thead>\n",
       "    <tr style=\"text-align: right;\">\n",
       "      <th></th>\n",
       "      <th>country</th>\n",
       "      <th>country_long</th>\n",
       "      <th>name</th>\n",
       "      <th>gppd_idnr</th>\n",
       "      <th>capacity_mw</th>\n",
       "      <th>latitude</th>\n",
       "      <th>longitude</th>\n",
       "      <th>primary_fuel</th>\n",
       "      <th>other_fuel1</th>\n",
       "      <th>other_fuel2</th>\n",
       "      <th>...</th>\n",
       "      <th>year_of_capacity_data</th>\n",
       "      <th>generation_gwh_2013</th>\n",
       "      <th>generation_gwh_2014</th>\n",
       "      <th>generation_gwh_2015</th>\n",
       "      <th>generation_gwh_2016</th>\n",
       "      <th>generation_gwh_2017</th>\n",
       "      <th>generation_gwh_2018</th>\n",
       "      <th>generation_gwh_2019</th>\n",
       "      <th>generation_data_source</th>\n",
       "      <th>estimated_generation_gwh</th>\n",
       "    </tr>\n",
       "  </thead>\n",
       "  <tbody>\n",
       "    <tr>\n",
       "      <th>0</th>\n",
       "      <td>IND</td>\n",
       "      <td>India</td>\n",
       "      <td>ACME Solar Tower</td>\n",
       "      <td>WRI1020239</td>\n",
       "      <td>2.5</td>\n",
       "      <td>28.1839</td>\n",
       "      <td>73.2407</td>\n",
       "      <td>Solar</td>\n",
       "      <td>NaN</td>\n",
       "      <td>NaN</td>\n",
       "      <td>...</td>\n",
       "      <td>NaN</td>\n",
       "      <td>NaN</td>\n",
       "      <td>NaN</td>\n",
       "      <td>NaN</td>\n",
       "      <td>NaN</td>\n",
       "      <td>NaN</td>\n",
       "      <td>NaN</td>\n",
       "      <td>NaN</td>\n",
       "      <td>NaN</td>\n",
       "      <td>NaN</td>\n",
       "    </tr>\n",
       "    <tr>\n",
       "      <th>1</th>\n",
       "      <td>IND</td>\n",
       "      <td>India</td>\n",
       "      <td>ADITYA CEMENT WORKS</td>\n",
       "      <td>WRI1019881</td>\n",
       "      <td>98.0</td>\n",
       "      <td>24.7663</td>\n",
       "      <td>74.6090</td>\n",
       "      <td>Coal</td>\n",
       "      <td>NaN</td>\n",
       "      <td>NaN</td>\n",
       "      <td>...</td>\n",
       "      <td>NaN</td>\n",
       "      <td>NaN</td>\n",
       "      <td>NaN</td>\n",
       "      <td>NaN</td>\n",
       "      <td>NaN</td>\n",
       "      <td>NaN</td>\n",
       "      <td>NaN</td>\n",
       "      <td>NaN</td>\n",
       "      <td>NaN</td>\n",
       "      <td>NaN</td>\n",
       "    </tr>\n",
       "    <tr>\n",
       "      <th>2</th>\n",
       "      <td>IND</td>\n",
       "      <td>India</td>\n",
       "      <td>AES Saurashtra Windfarms</td>\n",
       "      <td>WRI1026669</td>\n",
       "      <td>39.2</td>\n",
       "      <td>21.9038</td>\n",
       "      <td>69.3732</td>\n",
       "      <td>Wind</td>\n",
       "      <td>NaN</td>\n",
       "      <td>NaN</td>\n",
       "      <td>...</td>\n",
       "      <td>NaN</td>\n",
       "      <td>NaN</td>\n",
       "      <td>NaN</td>\n",
       "      <td>NaN</td>\n",
       "      <td>NaN</td>\n",
       "      <td>NaN</td>\n",
       "      <td>NaN</td>\n",
       "      <td>NaN</td>\n",
       "      <td>NaN</td>\n",
       "      <td>NaN</td>\n",
       "    </tr>\n",
       "    <tr>\n",
       "      <th>3</th>\n",
       "      <td>IND</td>\n",
       "      <td>India</td>\n",
       "      <td>AGARTALA GT</td>\n",
       "      <td>IND0000001</td>\n",
       "      <td>135.0</td>\n",
       "      <td>23.8712</td>\n",
       "      <td>91.3602</td>\n",
       "      <td>Gas</td>\n",
       "      <td>NaN</td>\n",
       "      <td>NaN</td>\n",
       "      <td>...</td>\n",
       "      <td>2019.0</td>\n",
       "      <td>NaN</td>\n",
       "      <td>617.789264</td>\n",
       "      <td>843.747000</td>\n",
       "      <td>886.004428</td>\n",
       "      <td>663.774500</td>\n",
       "      <td>626.239128</td>\n",
       "      <td>NaN</td>\n",
       "      <td>Central Electricity Authority</td>\n",
       "      <td>NaN</td>\n",
       "    </tr>\n",
       "    <tr>\n",
       "      <th>4</th>\n",
       "      <td>IND</td>\n",
       "      <td>India</td>\n",
       "      <td>AKALTARA TPP</td>\n",
       "      <td>IND0000002</td>\n",
       "      <td>1800.0</td>\n",
       "      <td>21.9603</td>\n",
       "      <td>82.4091</td>\n",
       "      <td>Coal</td>\n",
       "      <td>Oil</td>\n",
       "      <td>NaN</td>\n",
       "      <td>...</td>\n",
       "      <td>2019.0</td>\n",
       "      <td>NaN</td>\n",
       "      <td>3035.550000</td>\n",
       "      <td>5916.370000</td>\n",
       "      <td>6243.000000</td>\n",
       "      <td>5385.579736</td>\n",
       "      <td>7279.000000</td>\n",
       "      <td>NaN</td>\n",
       "      <td>Central Electricity Authority</td>\n",
       "      <td>NaN</td>\n",
       "    </tr>\n",
       "    <tr>\n",
       "      <th>...</th>\n",
       "      <td>...</td>\n",
       "      <td>...</td>\n",
       "      <td>...</td>\n",
       "      <td>...</td>\n",
       "      <td>...</td>\n",
       "      <td>...</td>\n",
       "      <td>...</td>\n",
       "      <td>...</td>\n",
       "      <td>...</td>\n",
       "      <td>...</td>\n",
       "      <td>...</td>\n",
       "      <td>...</td>\n",
       "      <td>...</td>\n",
       "      <td>...</td>\n",
       "      <td>...</td>\n",
       "      <td>...</td>\n",
       "      <td>...</td>\n",
       "      <td>...</td>\n",
       "      <td>...</td>\n",
       "      <td>...</td>\n",
       "      <td>...</td>\n",
       "    </tr>\n",
       "    <tr>\n",
       "      <th>902</th>\n",
       "      <td>IND</td>\n",
       "      <td>India</td>\n",
       "      <td>YERMARUS TPP</td>\n",
       "      <td>IND0000513</td>\n",
       "      <td>1600.0</td>\n",
       "      <td>16.2949</td>\n",
       "      <td>77.3568</td>\n",
       "      <td>Coal</td>\n",
       "      <td>Oil</td>\n",
       "      <td>NaN</td>\n",
       "      <td>...</td>\n",
       "      <td>2019.0</td>\n",
       "      <td>NaN</td>\n",
       "      <td>NaN</td>\n",
       "      <td>0.994875</td>\n",
       "      <td>233.596650</td>\n",
       "      <td>865.400000</td>\n",
       "      <td>686.500000</td>\n",
       "      <td>NaN</td>\n",
       "      <td>Central Electricity Authority</td>\n",
       "      <td>NaN</td>\n",
       "    </tr>\n",
       "    <tr>\n",
       "      <th>903</th>\n",
       "      <td>IND</td>\n",
       "      <td>India</td>\n",
       "      <td>Yelesandra Solar Power Plant</td>\n",
       "      <td>WRI1026222</td>\n",
       "      <td>3.0</td>\n",
       "      <td>12.8932</td>\n",
       "      <td>78.1654</td>\n",
       "      <td>Solar</td>\n",
       "      <td>NaN</td>\n",
       "      <td>NaN</td>\n",
       "      <td>...</td>\n",
       "      <td>NaN</td>\n",
       "      <td>NaN</td>\n",
       "      <td>NaN</td>\n",
       "      <td>NaN</td>\n",
       "      <td>NaN</td>\n",
       "      <td>NaN</td>\n",
       "      <td>NaN</td>\n",
       "      <td>NaN</td>\n",
       "      <td>NaN</td>\n",
       "      <td>NaN</td>\n",
       "    </tr>\n",
       "    <tr>\n",
       "      <th>904</th>\n",
       "      <td>IND</td>\n",
       "      <td>India</td>\n",
       "      <td>Yelisirur wind power project</td>\n",
       "      <td>WRI1026776</td>\n",
       "      <td>25.5</td>\n",
       "      <td>15.2758</td>\n",
       "      <td>75.5811</td>\n",
       "      <td>Wind</td>\n",
       "      <td>NaN</td>\n",
       "      <td>NaN</td>\n",
       "      <td>...</td>\n",
       "      <td>NaN</td>\n",
       "      <td>NaN</td>\n",
       "      <td>NaN</td>\n",
       "      <td>NaN</td>\n",
       "      <td>NaN</td>\n",
       "      <td>NaN</td>\n",
       "      <td>NaN</td>\n",
       "      <td>NaN</td>\n",
       "      <td>NaN</td>\n",
       "      <td>NaN</td>\n",
       "    </tr>\n",
       "    <tr>\n",
       "      <th>905</th>\n",
       "      <td>IND</td>\n",
       "      <td>India</td>\n",
       "      <td>ZAWAR MINES</td>\n",
       "      <td>WRI1019901</td>\n",
       "      <td>80.0</td>\n",
       "      <td>24.3500</td>\n",
       "      <td>73.7477</td>\n",
       "      <td>Coal</td>\n",
       "      <td>NaN</td>\n",
       "      <td>NaN</td>\n",
       "      <td>...</td>\n",
       "      <td>NaN</td>\n",
       "      <td>NaN</td>\n",
       "      <td>NaN</td>\n",
       "      <td>NaN</td>\n",
       "      <td>NaN</td>\n",
       "      <td>NaN</td>\n",
       "      <td>NaN</td>\n",
       "      <td>NaN</td>\n",
       "      <td>NaN</td>\n",
       "      <td>NaN</td>\n",
       "    </tr>\n",
       "    <tr>\n",
       "      <th>906</th>\n",
       "      <td>IND</td>\n",
       "      <td>India</td>\n",
       "      <td>iEnergy Theni Wind Farm</td>\n",
       "      <td>WRI1026761</td>\n",
       "      <td>16.5</td>\n",
       "      <td>9.9344</td>\n",
       "      <td>77.4768</td>\n",
       "      <td>Wind</td>\n",
       "      <td>NaN</td>\n",
       "      <td>NaN</td>\n",
       "      <td>...</td>\n",
       "      <td>NaN</td>\n",
       "      <td>NaN</td>\n",
       "      <td>NaN</td>\n",
       "      <td>NaN</td>\n",
       "      <td>NaN</td>\n",
       "      <td>NaN</td>\n",
       "      <td>NaN</td>\n",
       "      <td>NaN</td>\n",
       "      <td>NaN</td>\n",
       "      <td>NaN</td>\n",
       "    </tr>\n",
       "  </tbody>\n",
       "</table>\n",
       "<p>907 rows × 27 columns</p>\n",
       "</div>"
      ],
      "text/plain": [
       "    country country_long                          name   gppd_idnr  \\\n",
       "0       IND        India              ACME Solar Tower  WRI1020239   \n",
       "1       IND        India           ADITYA CEMENT WORKS  WRI1019881   \n",
       "2       IND        India      AES Saurashtra Windfarms  WRI1026669   \n",
       "3       IND        India                   AGARTALA GT  IND0000001   \n",
       "4       IND        India                  AKALTARA TPP  IND0000002   \n",
       "..      ...          ...                           ...         ...   \n",
       "902     IND        India                  YERMARUS TPP  IND0000513   \n",
       "903     IND        India  Yelesandra Solar Power Plant  WRI1026222   \n",
       "904     IND        India  Yelisirur wind power project  WRI1026776   \n",
       "905     IND        India                   ZAWAR MINES  WRI1019901   \n",
       "906     IND        India       iEnergy Theni Wind Farm  WRI1026761   \n",
       "\n",
       "     capacity_mw  latitude  longitude primary_fuel other_fuel1 other_fuel2  \\\n",
       "0            2.5   28.1839    73.2407        Solar         NaN         NaN   \n",
       "1           98.0   24.7663    74.6090         Coal         NaN         NaN   \n",
       "2           39.2   21.9038    69.3732         Wind         NaN         NaN   \n",
       "3          135.0   23.8712    91.3602          Gas         NaN         NaN   \n",
       "4         1800.0   21.9603    82.4091         Coal         Oil         NaN   \n",
       "..           ...       ...        ...          ...         ...         ...   \n",
       "902       1600.0   16.2949    77.3568         Coal         Oil         NaN   \n",
       "903          3.0   12.8932    78.1654        Solar         NaN         NaN   \n",
       "904         25.5   15.2758    75.5811         Wind         NaN         NaN   \n",
       "905         80.0   24.3500    73.7477         Coal         NaN         NaN   \n",
       "906         16.5    9.9344    77.4768         Wind         NaN         NaN   \n",
       "\n",
       "     ...  year_of_capacity_data  generation_gwh_2013 generation_gwh_2014  \\\n",
       "0    ...                    NaN                  NaN                 NaN   \n",
       "1    ...                    NaN                  NaN                 NaN   \n",
       "2    ...                    NaN                  NaN                 NaN   \n",
       "3    ...                 2019.0                  NaN          617.789264   \n",
       "4    ...                 2019.0                  NaN         3035.550000   \n",
       "..   ...                    ...                  ...                 ...   \n",
       "902  ...                 2019.0                  NaN                 NaN   \n",
       "903  ...                    NaN                  NaN                 NaN   \n",
       "904  ...                    NaN                  NaN                 NaN   \n",
       "905  ...                    NaN                  NaN                 NaN   \n",
       "906  ...                    NaN                  NaN                 NaN   \n",
       "\n",
       "    generation_gwh_2015 generation_gwh_2016 generation_gwh_2017  \\\n",
       "0                   NaN                 NaN                 NaN   \n",
       "1                   NaN                 NaN                 NaN   \n",
       "2                   NaN                 NaN                 NaN   \n",
       "3            843.747000          886.004428          663.774500   \n",
       "4           5916.370000         6243.000000         5385.579736   \n",
       "..                  ...                 ...                 ...   \n",
       "902            0.994875          233.596650          865.400000   \n",
       "903                 NaN                 NaN                 NaN   \n",
       "904                 NaN                 NaN                 NaN   \n",
       "905                 NaN                 NaN                 NaN   \n",
       "906                 NaN                 NaN                 NaN   \n",
       "\n",
       "     generation_gwh_2018  generation_gwh_2019         generation_data_source  \\\n",
       "0                    NaN                  NaN                            NaN   \n",
       "1                    NaN                  NaN                            NaN   \n",
       "2                    NaN                  NaN                            NaN   \n",
       "3             626.239128                  NaN  Central Electricity Authority   \n",
       "4            7279.000000                  NaN  Central Electricity Authority   \n",
       "..                   ...                  ...                            ...   \n",
       "902           686.500000                  NaN  Central Electricity Authority   \n",
       "903                  NaN                  NaN                            NaN   \n",
       "904                  NaN                  NaN                            NaN   \n",
       "905                  NaN                  NaN                            NaN   \n",
       "906                  NaN                  NaN                            NaN   \n",
       "\n",
       "     estimated_generation_gwh  \n",
       "0                         NaN  \n",
       "1                         NaN  \n",
       "2                         NaN  \n",
       "3                         NaN  \n",
       "4                         NaN  \n",
       "..                        ...  \n",
       "902                       NaN  \n",
       "903                       NaN  \n",
       "904                       NaN  \n",
       "905                       NaN  \n",
       "906                       NaN  \n",
       "\n",
       "[907 rows x 27 columns]"
      ]
     },
     "execution_count": 2,
     "metadata": {},
     "output_type": "execute_result"
    }
   ],
   "source": [
    "df=pd.read_csv('database_IND.csv')\n",
    "df"
   ]
  },
  {
   "cell_type": "code",
   "execution_count": 3,
   "id": "6208d31e",
   "metadata": {},
   "outputs": [
    {
     "data": {
      "text/plain": [
       "Index(['country', 'country_long', 'name', 'gppd_idnr', 'capacity_mw',\n",
       "       'latitude', 'longitude', 'primary_fuel', 'other_fuel1', 'other_fuel2',\n",
       "       'other_fuel3', 'commissioning_year', 'owner', 'source', 'url',\n",
       "       'geolocation_source', 'wepp_id', 'year_of_capacity_data',\n",
       "       'generation_gwh_2013', 'generation_gwh_2014', 'generation_gwh_2015',\n",
       "       'generation_gwh_2016', 'generation_gwh_2017', 'generation_gwh_2018',\n",
       "       'generation_gwh_2019', 'generation_data_source',\n",
       "       'estimated_generation_gwh'],\n",
       "      dtype='object')"
      ]
     },
     "execution_count": 3,
     "metadata": {},
     "output_type": "execute_result"
    }
   ],
   "source": [
    "df.columns"
   ]
  },
  {
   "cell_type": "code",
   "execution_count": 4,
   "id": "2c740863",
   "metadata": {},
   "outputs": [
    {
     "data": {
      "text/plain": [
       "IND    907\n",
       "Name: country, dtype: int64"
      ]
     },
     "execution_count": 4,
     "metadata": {},
     "output_type": "execute_result"
    }
   ],
   "source": [
    "df.country.value_counts()"
   ]
  },
  {
   "cell_type": "code",
   "execution_count": 5,
   "id": "45e28f05",
   "metadata": {},
   "outputs": [
    {
     "data": {
      "text/plain": [
       "India    907\n",
       "Name: country_long, dtype: int64"
      ]
     },
     "execution_count": 5,
     "metadata": {},
     "output_type": "execute_result"
    }
   ],
   "source": [
    "df.country_long.value_counts()"
   ]
  },
  {
   "cell_type": "code",
   "execution_count": 6,
   "id": "0ea556b0",
   "metadata": {},
   "outputs": [
    {
     "data": {
      "text/plain": [
       "Panandhro Solar Power Plant      1\n",
       "ATHANI SUGAR                     1\n",
       "NAMRUP GT                        1\n",
       "EMCO Sonurle Wind Farm           1\n",
       "Ruchi Soya Palsodi Wind Farm     1\n",
       "                                ..\n",
       "Bamanwali Solar Power Plant      1\n",
       "DOLVI ISPAT                      1\n",
       "PORINGALKUTTU L                  1\n",
       "Ravra - SEI Solar Power Plant    1\n",
       "Gwal Pahari Solar Power Plant    1\n",
       "Name: name, Length: 907, dtype: int64"
      ]
     },
     "execution_count": 6,
     "metadata": {},
     "output_type": "execute_result"
    }
   ],
   "source": [
    "df.name.value_counts()"
   ]
  },
  {
   "cell_type": "code",
   "execution_count": 7,
   "id": "eae02c9a",
   "metadata": {},
   "outputs": [
    {
     "data": {
      "text/plain": [
       "IND0000385    1\n",
       "IND0000328    1\n",
       "WRI1019885    1\n",
       "IND0000375    1\n",
       "IND0000170    1\n",
       "             ..\n",
       "WRI1026207    1\n",
       "IND0000215    1\n",
       "IND0000358    1\n",
       "WRI1026195    1\n",
       "WRI1019959    1\n",
       "Name: gppd_idnr, Length: 907, dtype: int64"
      ]
     },
     "execution_count": 7,
     "metadata": {},
     "output_type": "execute_result"
    }
   ],
   "source": [
    "df.gppd_idnr.value_counts()"
   ]
  },
  {
   "cell_type": "code",
   "execution_count": 8,
   "id": "753c8115",
   "metadata": {},
   "outputs": [
    {
     "data": {
      "text/plain": [
       "Series([], Name: wepp_id, dtype: int64)"
      ]
     },
     "execution_count": 8,
     "metadata": {},
     "output_type": "execute_result"
    }
   ],
   "source": [
    "df.wepp_id.value_counts()"
   ]
  },
  {
   "cell_type": "code",
   "execution_count": 9,
   "id": "d6d59eac",
   "metadata": {},
   "outputs": [
    {
     "data": {
      "text/plain": [
       "Oil    1\n",
       "Name: other_fuel2, dtype: int64"
      ]
     },
     "execution_count": 9,
     "metadata": {},
     "output_type": "execute_result"
    }
   ],
   "source": [
    "df.other_fuel2.value_counts()"
   ]
  },
  {
   "cell_type": "code",
   "execution_count": 10,
   "id": "c1839d2d",
   "metadata": {},
   "outputs": [
    {
     "data": {
      "text/plain": [
       "Series([], Name: other_fuel3, dtype: int64)"
      ]
     },
     "execution_count": 10,
     "metadata": {},
     "output_type": "execute_result"
    }
   ],
   "source": [
    "df.other_fuel3.value_counts()"
   ]
  },
  {
   "cell_type": "code",
   "execution_count": 11,
   "id": "8b1a8b8f",
   "metadata": {},
   "outputs": [
    {
     "data": {
      "text/plain": [
       "Oil             195\n",
       "Gas               2\n",
       "Cogeneration      1\n",
       "Name: other_fuel1, dtype: int64"
      ]
     },
     "execution_count": 11,
     "metadata": {},
     "output_type": "execute_result"
    }
   ],
   "source": [
    "df.other_fuel1.value_counts()"
   ]
  },
  {
   "cell_type": "code",
   "execution_count": 12,
   "id": "342a4724",
   "metadata": {},
   "outputs": [
    {
     "data": {
      "text/plain": [
       "2015.0    28\n",
       "2013.0    25\n",
       "2012.0    23\n",
       "2016.0    19\n",
       "2010.0    18\n",
       "          ..\n",
       "1958.0     1\n",
       "1949.0     1\n",
       "1954.0     1\n",
       "1956.0     1\n",
       "1927.0     1\n",
       "Name: commissioning_year, Length: 73, dtype: int64"
      ]
     },
     "execution_count": 12,
     "metadata": {},
     "output_type": "execute_result"
    }
   ],
   "source": [
    "df.commissioning_year.value_counts()"
   ]
  },
  {
   "cell_type": "code",
   "execution_count": 13,
   "id": "3ab11f1b",
   "metadata": {},
   "outputs": [
    {
     "data": {
      "text/plain": [
       "Acc Acc ltd                                4\n",
       "Sterling Agro Industries ltd.              4\n",
       "Jk Cement ltd                              4\n",
       "Karnataka Power Corporation Limited        3\n",
       "Enercon India Ltd.                         3\n",
       "                                          ..\n",
       "Ener-t International Ltd.                  1\n",
       "Moser Baer Clean Energy Limited (MBCEL)    1\n",
       "Dr Ssk ltd                                 1\n",
       "Gupta Ltd gepl)                            1\n",
       "Reliance Ltd ril)                          1\n",
       "Name: owner, Length: 280, dtype: int64"
      ]
     },
     "execution_count": 13,
     "metadata": {},
     "output_type": "execute_result"
    }
   ],
   "source": [
    "df.owner.value_counts()"
   ]
  },
  {
   "cell_type": "code",
   "execution_count": 14,
   "id": "3c00992c",
   "metadata": {},
   "outputs": [
    {
     "data": {
      "text/plain": [
       "Central Electricity Authority                519\n",
       "CDM                                          124\n",
       "Lancosola                                     10\n",
       "National Renewable Energy Laboratory           8\n",
       "National Thermal Power Corporation (NTPC)      6\n",
       "                                            ... \n",
       "Gm Energy ltd                                  1\n",
       "Jain Solar                                     1\n",
       "Urja India edEnewables                         1\n",
       "Vikram Vikram cement                           1\n",
       "Sterling and Wilson                            1\n",
       "Name: source, Length: 191, dtype: int64"
      ]
     },
     "execution_count": 14,
     "metadata": {},
     "output_type": "execute_result"
    }
   ],
   "source": [
    "df.source.value_counts()"
   ]
  },
  {
   "cell_type": "code",
   "execution_count": 15,
   "id": "28cfc382",
   "metadata": {},
   "outputs": [
    {
     "data": {
      "text/plain": [
       "http://www.cea.nic.in/                                                              519\n",
       "http://www.lancosolar.com/pdfs/rajasthan-pv-project-details.pdf                       7\n",
       "http://www.ntpc.co.in                                                                 6\n",
       "http://viainfotech.biz/Biomass/theme5/document/green_market/REC-project-list.pdf      5\n",
       "http://www.peda.gov.in/main/SPVPowerProjects.html                                     4\n",
       "                                                                                   ... \n",
       "https://cdm.unfccc.int/Projects/DB/DNV-CUK1351166669.28/view                          1\n",
       "https://cdm.unfccc.int/Projects/DB/BVQI1312546277.77/view                             1\n",
       "https://cdm.unfccc.int/Projects/DB/DNV-CUK1304071464.49/view                          1\n",
       "http://harshaengineers.com                                                            1\n",
       "http://wbpdcl.co.in                                                                   1\n",
       "Name: url, Length: 304, dtype: int64"
      ]
     },
     "execution_count": 15,
     "metadata": {},
     "output_type": "execute_result"
    }
   ],
   "source": [
    "df.url.value_counts()"
   ]
  },
  {
   "cell_type": "code",
   "execution_count": 16,
   "id": "752eed0a",
   "metadata": {},
   "outputs": [
    {
     "data": {
      "text/plain": [
       "24.1917    3\n",
       "19.0004    3\n",
       "15.2615    2\n",
       "13.2450    2\n",
       "11.5336    2\n",
       "          ..\n",
       "16.4994    1\n",
       "9.0870     1\n",
       "20.9099    1\n",
       "17.2387    1\n",
       "16.5973    1\n",
       "Name: latitude, Length: 836, dtype: int64"
      ]
     },
     "execution_count": 16,
     "metadata": {},
     "output_type": "execute_result"
    }
   ],
   "source": [
    "df.latitude.value_counts()"
   ]
  },
  {
   "cell_type": "code",
   "execution_count": 17,
   "id": "681a4668",
   "metadata": {},
   "outputs": [
    {
     "data": {
      "text/plain": [
       "71.6917    4\n",
       "72.8983    3\n",
       "81.2875    3\n",
       "75.8988    3\n",
       "71.6918    3\n",
       "          ..\n",
       "77.9576    1\n",
       "91.8114    1\n",
       "80.1264    1\n",
       "76.1137    1\n",
       "79.5748    1\n",
       "Name: longitude, Length: 827, dtype: int64"
      ]
     },
     "execution_count": 17,
     "metadata": {},
     "output_type": "execute_result"
    }
   ],
   "source": [
    "df.longitude.value_counts()"
   ]
  },
  {
   "cell_type": "code",
   "execution_count": 18,
   "id": "5a4169c3",
   "metadata": {},
   "outputs": [
    {
     "data": {
      "text/plain": [
       "Series([], Name: estimated_generation_gwh, dtype: int64)"
      ]
     },
     "execution_count": 18,
     "metadata": {},
     "output_type": "execute_result"
    }
   ],
   "source": [
    "df.estimated_generation_gwh.value_counts()"
   ]
  },
  {
   "cell_type": "code",
   "execution_count": 19,
   "id": "aa69a47b",
   "metadata": {},
   "outputs": [
    {
     "data": {
      "text/plain": [
       "2019.0    519\n",
       "Name: year_of_capacity_data, dtype: int64"
      ]
     },
     "execution_count": 19,
     "metadata": {},
     "output_type": "execute_result"
    }
   ],
   "source": [
    "df.year_of_capacity_data.value_counts()"
   ]
  },
  {
   "cell_type": "code",
   "execution_count": 20,
   "id": "0aebf0d2",
   "metadata": {},
   "outputs": [
    {
     "data": {
      "text/plain": [
       "Central Electricity Authority    449\n",
       "Name: generation_data_source, dtype: int64"
      ]
     },
     "execution_count": 20,
     "metadata": {},
     "output_type": "execute_result"
    }
   ],
   "source": [
    "df.generation_data_source.value_counts()"
   ]
  },
  {
   "cell_type": "code",
   "execution_count": 21,
   "id": "73ed81c0",
   "metadata": {},
   "outputs": [
    {
     "data": {
      "text/plain": [
       "Series([], Name: generation_gwh_2013, dtype: int64)"
      ]
     },
     "execution_count": 21,
     "metadata": {},
     "output_type": "execute_result"
    }
   ],
   "source": [
    "df.generation_gwh_2013.value_counts()"
   ]
  },
  {
   "cell_type": "code",
   "execution_count": 22,
   "id": "d3b316f3",
   "metadata": {},
   "outputs": [
    {
     "data": {
      "text/plain": [
       "0.00000       28\n",
       "6803.31250     1\n",
       "4735.13000     1\n",
       "145.81400      1\n",
       "2022.57000     1\n",
       "              ..\n",
       "6224.00000     1\n",
       "268.48085      1\n",
       "1255.73200     1\n",
       "164.32425      1\n",
       "1153.65300     1\n",
       "Name: generation_gwh_2014, Length: 371, dtype: int64"
      ]
     },
     "execution_count": 22,
     "metadata": {},
     "output_type": "execute_result"
    }
   ],
   "source": [
    "df.generation_gwh_2014.value_counts()"
   ]
  },
  {
   "cell_type": "code",
   "execution_count": 23,
   "id": "079bb74b",
   "metadata": {},
   "outputs": [
    {
     "data": {
      "text/plain": [
       "0.00000       27\n",
       "174.17475      1\n",
       "8076.81050     1\n",
       "1.09395        1\n",
       "18.71595       1\n",
       "              ..\n",
       "665.19730      1\n",
       "1516.36010     1\n",
       "741.86205      1\n",
       "183.29890      1\n",
       "7130.50700     1\n",
       "Name: generation_gwh_2015, Length: 396, dtype: int64"
      ]
     },
     "execution_count": 23,
     "metadata": {},
     "output_type": "execute_result"
    }
   ],
   "source": [
    "df.generation_gwh_2015.value_counts()"
   ]
  },
  {
   "cell_type": "code",
   "execution_count": 24,
   "id": "b264023e",
   "metadata": {},
   "outputs": [
    {
     "data": {
      "text/plain": [
       "0.00000       30\n",
       "8470.57000     2\n",
       "1511.00000     2\n",
       "250.97100      1\n",
       "7.31325        1\n",
       "              ..\n",
       "433.84800      1\n",
       "283.74811      1\n",
       "259.94375      1\n",
       "403.96000      1\n",
       "307.87290      1\n",
       "Name: generation_gwh_2016, Length: 403, dtype: int64"
      ]
     },
     "execution_count": 24,
     "metadata": {},
     "output_type": "execute_result"
    }
   ],
   "source": [
    "df.generation_gwh_2016.value_counts()"
   ]
  },
  {
   "cell_type": "code",
   "execution_count": 25,
   "id": "d8f288a8",
   "metadata": {},
   "outputs": [
    {
     "data": {
      "text/plain": [
       "0.00000       32\n",
       "170.08530      2\n",
       "9271.00000     1\n",
       "59.43135       1\n",
       "549.86930      1\n",
       "              ..\n",
       "214.48220      1\n",
       "272.73945      1\n",
       "2887.00000     1\n",
       "12.73600       1\n",
       "158.73235      1\n",
       "Name: generation_gwh_2017, Length: 408, dtype: int64"
      ]
     },
     "execution_count": 25,
     "metadata": {},
     "output_type": "execute_result"
    }
   ],
   "source": [
    "df.generation_gwh_2017.value_counts()"
   ]
  },
  {
   "cell_type": "code",
   "execution_count": 26,
   "id": "790c386b",
   "metadata": {},
   "outputs": [
    {
     "data": {
      "text/plain": [
       "Central Electricity Authority                519\n",
       "CDM                                          124\n",
       "Lancosola                                     10\n",
       "National Renewable Energy Laboratory           8\n",
       "National Thermal Power Corporation (NTPC)      6\n",
       "                                            ... \n",
       "Gm Energy ltd                                  1\n",
       "Jain Solar                                     1\n",
       "Urja India edEnewables                         1\n",
       "Vikram Vikram cement                           1\n",
       "Sterling and Wilson                            1\n",
       "Name: source, Length: 191, dtype: int64"
      ]
     },
     "execution_count": 26,
     "metadata": {},
     "output_type": "execute_result"
    }
   ],
   "source": [
    "df.source.value_counts()"
   ]
  },
  {
   "cell_type": "code",
   "execution_count": 27,
   "id": "a3ad3f6f",
   "metadata": {},
   "outputs": [
    {
     "data": {
      "text/html": [
       "<div>\n",
       "<style scoped>\n",
       "    .dataframe tbody tr th:only-of-type {\n",
       "        vertical-align: middle;\n",
       "    }\n",
       "\n",
       "    .dataframe tbody tr th {\n",
       "        vertical-align: top;\n",
       "    }\n",
       "\n",
       "    .dataframe thead th {\n",
       "        text-align: right;\n",
       "    }\n",
       "</style>\n",
       "<table border=\"1\" class=\"dataframe\">\n",
       "  <thead>\n",
       "    <tr style=\"text-align: right;\">\n",
       "      <th></th>\n",
       "      <th>capacity_mw</th>\n",
       "      <th>primary_fuel</th>\n",
       "      <th>geolocation_source</th>\n",
       "      <th>generation_gwh_2013</th>\n",
       "      <th>generation_gwh_2014</th>\n",
       "      <th>generation_gwh_2015</th>\n",
       "      <th>generation_gwh_2016</th>\n",
       "      <th>generation_gwh_2017</th>\n",
       "      <th>generation_gwh_2018</th>\n",
       "      <th>generation_gwh_2019</th>\n",
       "    </tr>\n",
       "  </thead>\n",
       "  <tbody>\n",
       "    <tr>\n",
       "      <th>0</th>\n",
       "      <td>2.5</td>\n",
       "      <td>Solar</td>\n",
       "      <td>National Renewable Energy Laboratory</td>\n",
       "      <td>NaN</td>\n",
       "      <td>NaN</td>\n",
       "      <td>NaN</td>\n",
       "      <td>NaN</td>\n",
       "      <td>NaN</td>\n",
       "      <td>NaN</td>\n",
       "      <td>NaN</td>\n",
       "    </tr>\n",
       "    <tr>\n",
       "      <th>1</th>\n",
       "      <td>98.0</td>\n",
       "      <td>Coal</td>\n",
       "      <td>WRI</td>\n",
       "      <td>NaN</td>\n",
       "      <td>NaN</td>\n",
       "      <td>NaN</td>\n",
       "      <td>NaN</td>\n",
       "      <td>NaN</td>\n",
       "      <td>NaN</td>\n",
       "      <td>NaN</td>\n",
       "    </tr>\n",
       "    <tr>\n",
       "      <th>2</th>\n",
       "      <td>39.2</td>\n",
       "      <td>Wind</td>\n",
       "      <td>WRI</td>\n",
       "      <td>NaN</td>\n",
       "      <td>NaN</td>\n",
       "      <td>NaN</td>\n",
       "      <td>NaN</td>\n",
       "      <td>NaN</td>\n",
       "      <td>NaN</td>\n",
       "      <td>NaN</td>\n",
       "    </tr>\n",
       "    <tr>\n",
       "      <th>3</th>\n",
       "      <td>135.0</td>\n",
       "      <td>Gas</td>\n",
       "      <td>WRI</td>\n",
       "      <td>NaN</td>\n",
       "      <td>617.789264</td>\n",
       "      <td>843.747000</td>\n",
       "      <td>886.004428</td>\n",
       "      <td>663.774500</td>\n",
       "      <td>626.239128</td>\n",
       "      <td>NaN</td>\n",
       "    </tr>\n",
       "    <tr>\n",
       "      <th>4</th>\n",
       "      <td>1800.0</td>\n",
       "      <td>Coal</td>\n",
       "      <td>WRI</td>\n",
       "      <td>NaN</td>\n",
       "      <td>3035.550000</td>\n",
       "      <td>5916.370000</td>\n",
       "      <td>6243.000000</td>\n",
       "      <td>5385.579736</td>\n",
       "      <td>7279.000000</td>\n",
       "      <td>NaN</td>\n",
       "    </tr>\n",
       "    <tr>\n",
       "      <th>...</th>\n",
       "      <td>...</td>\n",
       "      <td>...</td>\n",
       "      <td>...</td>\n",
       "      <td>...</td>\n",
       "      <td>...</td>\n",
       "      <td>...</td>\n",
       "      <td>...</td>\n",
       "      <td>...</td>\n",
       "      <td>...</td>\n",
       "      <td>...</td>\n",
       "    </tr>\n",
       "    <tr>\n",
       "      <th>902</th>\n",
       "      <td>1600.0</td>\n",
       "      <td>Coal</td>\n",
       "      <td>WRI</td>\n",
       "      <td>NaN</td>\n",
       "      <td>NaN</td>\n",
       "      <td>0.994875</td>\n",
       "      <td>233.596650</td>\n",
       "      <td>865.400000</td>\n",
       "      <td>686.500000</td>\n",
       "      <td>NaN</td>\n",
       "    </tr>\n",
       "    <tr>\n",
       "      <th>903</th>\n",
       "      <td>3.0</td>\n",
       "      <td>Solar</td>\n",
       "      <td>Industry About</td>\n",
       "      <td>NaN</td>\n",
       "      <td>NaN</td>\n",
       "      <td>NaN</td>\n",
       "      <td>NaN</td>\n",
       "      <td>NaN</td>\n",
       "      <td>NaN</td>\n",
       "      <td>NaN</td>\n",
       "    </tr>\n",
       "    <tr>\n",
       "      <th>904</th>\n",
       "      <td>25.5</td>\n",
       "      <td>Wind</td>\n",
       "      <td>WRI</td>\n",
       "      <td>NaN</td>\n",
       "      <td>NaN</td>\n",
       "      <td>NaN</td>\n",
       "      <td>NaN</td>\n",
       "      <td>NaN</td>\n",
       "      <td>NaN</td>\n",
       "      <td>NaN</td>\n",
       "    </tr>\n",
       "    <tr>\n",
       "      <th>905</th>\n",
       "      <td>80.0</td>\n",
       "      <td>Coal</td>\n",
       "      <td>WRI</td>\n",
       "      <td>NaN</td>\n",
       "      <td>NaN</td>\n",
       "      <td>NaN</td>\n",
       "      <td>NaN</td>\n",
       "      <td>NaN</td>\n",
       "      <td>NaN</td>\n",
       "      <td>NaN</td>\n",
       "    </tr>\n",
       "    <tr>\n",
       "      <th>906</th>\n",
       "      <td>16.5</td>\n",
       "      <td>Wind</td>\n",
       "      <td>WRI</td>\n",
       "      <td>NaN</td>\n",
       "      <td>NaN</td>\n",
       "      <td>NaN</td>\n",
       "      <td>NaN</td>\n",
       "      <td>NaN</td>\n",
       "      <td>NaN</td>\n",
       "      <td>NaN</td>\n",
       "    </tr>\n",
       "  </tbody>\n",
       "</table>\n",
       "<p>907 rows × 10 columns</p>\n",
       "</div>"
      ],
      "text/plain": [
       "     capacity_mw primary_fuel                    geolocation_source  \\\n",
       "0            2.5        Solar  National Renewable Energy Laboratory   \n",
       "1           98.0         Coal                                   WRI   \n",
       "2           39.2         Wind                                   WRI   \n",
       "3          135.0          Gas                                   WRI   \n",
       "4         1800.0         Coal                                   WRI   \n",
       "..           ...          ...                                   ...   \n",
       "902       1600.0         Coal                                   WRI   \n",
       "903          3.0        Solar                        Industry About   \n",
       "904         25.5         Wind                                   WRI   \n",
       "905         80.0         Coal                                   WRI   \n",
       "906         16.5         Wind                                   WRI   \n",
       "\n",
       "     generation_gwh_2013  generation_gwh_2014  generation_gwh_2015  \\\n",
       "0                    NaN                  NaN                  NaN   \n",
       "1                    NaN                  NaN                  NaN   \n",
       "2                    NaN                  NaN                  NaN   \n",
       "3                    NaN           617.789264           843.747000   \n",
       "4                    NaN          3035.550000          5916.370000   \n",
       "..                   ...                  ...                  ...   \n",
       "902                  NaN                  NaN             0.994875   \n",
       "903                  NaN                  NaN                  NaN   \n",
       "904                  NaN                  NaN                  NaN   \n",
       "905                  NaN                  NaN                  NaN   \n",
       "906                  NaN                  NaN                  NaN   \n",
       "\n",
       "     generation_gwh_2016  generation_gwh_2017  generation_gwh_2018  \\\n",
       "0                    NaN                  NaN                  NaN   \n",
       "1                    NaN                  NaN                  NaN   \n",
       "2                    NaN                  NaN                  NaN   \n",
       "3             886.004428           663.774500           626.239128   \n",
       "4            6243.000000          5385.579736          7279.000000   \n",
       "..                   ...                  ...                  ...   \n",
       "902           233.596650           865.400000           686.500000   \n",
       "903                  NaN                  NaN                  NaN   \n",
       "904                  NaN                  NaN                  NaN   \n",
       "905                  NaN                  NaN                  NaN   \n",
       "906                  NaN                  NaN                  NaN   \n",
       "\n",
       "     generation_gwh_2019  \n",
       "0                    NaN  \n",
       "1                    NaN  \n",
       "2                    NaN  \n",
       "3                    NaN  \n",
       "4                    NaN  \n",
       "..                   ...  \n",
       "902                  NaN  \n",
       "903                  NaN  \n",
       "904                  NaN  \n",
       "905                  NaN  \n",
       "906                  NaN  \n",
       "\n",
       "[907 rows x 10 columns]"
      ]
     },
     "execution_count": 27,
     "metadata": {},
     "output_type": "execute_result"
    }
   ],
   "source": [
    "df=df.drop(['country','country_long','name','gppd_idnr','wepp_id','other_fuel2','other_fuel3','other_fuel1','url','owner',\n",
    "           'longitude','latitude','estimated_generation_gwh','year_of_capacity_data','generation_data_source',\n",
    "           'commissioning_year','source'],axis=1)\n",
    "df"
   ]
  },
  {
   "cell_type": "code",
   "execution_count": 28,
   "id": "2c0ce769",
   "metadata": {},
   "outputs": [
    {
     "data": {
      "text/plain": [
       "Coal       258\n",
       "Hydro      251\n",
       "Solar      127\n",
       "Wind       123\n",
       "Gas         69\n",
       "Biomass     50\n",
       "Oil         20\n",
       "Nuclear      9\n",
       "Name: primary_fuel, dtype: int64"
      ]
     },
     "execution_count": 28,
     "metadata": {},
     "output_type": "execute_result"
    }
   ],
   "source": [
    "df.primary_fuel.value_counts()"
   ]
  },
  {
   "cell_type": "code",
   "execution_count": 29,
   "id": "a528d445",
   "metadata": {},
   "outputs": [],
   "source": [
    "renew=['Solar','Hydro','Wind','Biomass']\n",
    "nonrenew=['Coal','Nuclear','Oil','Gas']\n",
    "df['fuel_type']=0\n",
    "for i in range(len(df.primary_fuel)):\n",
    "    if df.primary_fuel[i] in renew:\n",
    "        df.fuel_type[i]=0\n",
    "    elif df.primary_fuel[i] in nonrenew:\n",
    "        df.fuel_type[i]=1"
   ]
  },
  {
   "cell_type": "code",
   "execution_count": 30,
   "id": "738225d8",
   "metadata": {},
   "outputs": [
    {
     "name": "stdout",
     "output_type": "stream",
     "text": [
      "Number of rows x columns in dataset are: (907, 11)\n"
     ]
    }
   ],
   "source": [
    "print('Number of rows x columns in dataset are:',df.shape)"
   ]
  },
  {
   "cell_type": "code",
   "execution_count": 31,
   "id": "9d7a42a1",
   "metadata": {},
   "outputs": [
    {
     "name": "stdout",
     "output_type": "stream",
     "text": [
      "Dataset contains any null values: True\n"
     ]
    }
   ],
   "source": [
    "print('Dataset contains any null values:',df.isnull().values.any())"
   ]
  },
  {
   "cell_type": "code",
   "execution_count": 32,
   "id": "24e296dc",
   "metadata": {},
   "outputs": [
    {
     "name": "stdout",
     "output_type": "stream",
     "text": [
      "<class 'pandas.core.frame.DataFrame'>\n",
      "RangeIndex: 907 entries, 0 to 906\n",
      "Data columns (total 11 columns):\n",
      " #   Column               Non-Null Count  Dtype  \n",
      "---  ------               --------------  -----  \n",
      " 0   capacity_mw          907 non-null    float64\n",
      " 1   primary_fuel         907 non-null    object \n",
      " 2   geolocation_source   888 non-null    object \n",
      " 3   generation_gwh_2013  0 non-null      float64\n",
      " 4   generation_gwh_2014  398 non-null    float64\n",
      " 5   generation_gwh_2015  422 non-null    float64\n",
      " 6   generation_gwh_2016  434 non-null    float64\n",
      " 7   generation_gwh_2017  440 non-null    float64\n",
      " 8   generation_gwh_2018  448 non-null    float64\n",
      " 9   generation_gwh_2019  0 non-null      float64\n",
      " 10  fuel_type            907 non-null    int64  \n",
      "dtypes: float64(8), int64(1), object(2)\n",
      "memory usage: 78.1+ KB\n"
     ]
    }
   ],
   "source": [
    "df.info()"
   ]
  },
  {
   "cell_type": "code",
   "execution_count": 33,
   "id": "8a2d4f53",
   "metadata": {},
   "outputs": [
    {
     "data": {
      "text/plain": [
       "WRI                                     765\n",
       "Industry About                          119\n",
       "National Renewable Energy Laboratory      4\n",
       "Name: geolocation_source, dtype: int64"
      ]
     },
     "execution_count": 33,
     "metadata": {},
     "output_type": "execute_result"
    }
   ],
   "source": [
    "df['geolocation_source'].value_counts()"
   ]
  },
  {
   "cell_type": "code",
   "execution_count": 34,
   "id": "078045b9",
   "metadata": {},
   "outputs": [
    {
     "data": {
      "text/plain": [
       "Wind     15\n",
       "Solar     4\n",
       "Name: primary_fuel, dtype: int64"
      ]
     },
     "execution_count": 34,
     "metadata": {},
     "output_type": "execute_result"
    }
   ],
   "source": [
    "df[df['geolocation_source'].isnull()]['primary_fuel'].value_counts()"
   ]
  },
  {
   "cell_type": "code",
   "execution_count": 35,
   "id": "c05a0869",
   "metadata": {},
   "outputs": [
    {
     "data": {
      "text/plain": [
       "WRI    108\n",
       "Name: geolocation_source, dtype: int64"
      ]
     },
     "execution_count": 35,
     "metadata": {},
     "output_type": "execute_result"
    }
   ],
   "source": [
    "df[df['primary_fuel']=='Wind']['geolocation_source'].value_counts()"
   ]
  },
  {
   "cell_type": "code",
   "execution_count": 36,
   "id": "ed40b196",
   "metadata": {},
   "outputs": [
    {
     "data": {
      "text/plain": [
       "Industry About                          119\n",
       "National Renewable Energy Laboratory      4\n",
       "Name: geolocation_source, dtype: int64"
      ]
     },
     "execution_count": 36,
     "metadata": {},
     "output_type": "execute_result"
    }
   ],
   "source": [
    "df[df['primary_fuel']=='Solar']['geolocation_source'].value_counts()"
   ]
  },
  {
   "cell_type": "code",
   "execution_count": 37,
   "id": "60d09981",
   "metadata": {},
   "outputs": [],
   "source": [
    "for i in range(len(df['geolocation_source'])):\n",
    "    if str(df['geolocation_source'][i])=='nan':\n",
    "        if df['primary_fuel'][i]=='Solar':\n",
    "            df['geolocation_source'][i]='Industry About'\n",
    "        elif df['primary_fuel'][i]=='Wind':\n",
    "            df['geolocation_source'][i]='WRI'"
   ]
  },
  {
   "cell_type": "code",
   "execution_count": 38,
   "id": "0d4af1ea",
   "metadata": {},
   "outputs": [],
   "source": [
    "df=df.drop(['generation_gwh_2013'],axis=1)"
   ]
  },
  {
   "cell_type": "code",
   "execution_count": 39,
   "id": "be502722",
   "metadata": {},
   "outputs": [
    {
     "data": {
      "text/html": [
       "<div>\n",
       "<style scoped>\n",
       "    .dataframe tbody tr th:only-of-type {\n",
       "        vertical-align: middle;\n",
       "    }\n",
       "\n",
       "    .dataframe tbody tr th {\n",
       "        vertical-align: top;\n",
       "    }\n",
       "\n",
       "    .dataframe thead th {\n",
       "        text-align: right;\n",
       "    }\n",
       "</style>\n",
       "<table border=\"1\" class=\"dataframe\">\n",
       "  <thead>\n",
       "    <tr style=\"text-align: right;\">\n",
       "      <th></th>\n",
       "      <th>capacity_mw</th>\n",
       "      <th>primary_fuel</th>\n",
       "      <th>geolocation_source</th>\n",
       "      <th>generation_gwh_2014</th>\n",
       "      <th>generation_gwh_2015</th>\n",
       "      <th>generation_gwh_2016</th>\n",
       "      <th>generation_gwh_2017</th>\n",
       "      <th>generation_gwh_2018</th>\n",
       "      <th>generation_gwh_2019</th>\n",
       "      <th>fuel_type</th>\n",
       "    </tr>\n",
       "  </thead>\n",
       "  <tbody>\n",
       "    <tr>\n",
       "      <th>0</th>\n",
       "      <td>2.5</td>\n",
       "      <td>Solar</td>\n",
       "      <td>National Renewable Energy Laboratory</td>\n",
       "      <td>NaN</td>\n",
       "      <td>NaN</td>\n",
       "      <td>NaN</td>\n",
       "      <td>NaN</td>\n",
       "      <td>NaN</td>\n",
       "      <td>NaN</td>\n",
       "      <td>0</td>\n",
       "    </tr>\n",
       "    <tr>\n",
       "      <th>1</th>\n",
       "      <td>98.0</td>\n",
       "      <td>Coal</td>\n",
       "      <td>WRI</td>\n",
       "      <td>NaN</td>\n",
       "      <td>NaN</td>\n",
       "      <td>NaN</td>\n",
       "      <td>NaN</td>\n",
       "      <td>NaN</td>\n",
       "      <td>NaN</td>\n",
       "      <td>1</td>\n",
       "    </tr>\n",
       "    <tr>\n",
       "      <th>2</th>\n",
       "      <td>39.2</td>\n",
       "      <td>Wind</td>\n",
       "      <td>WRI</td>\n",
       "      <td>NaN</td>\n",
       "      <td>NaN</td>\n",
       "      <td>NaN</td>\n",
       "      <td>NaN</td>\n",
       "      <td>NaN</td>\n",
       "      <td>NaN</td>\n",
       "      <td>0</td>\n",
       "    </tr>\n",
       "    <tr>\n",
       "      <th>3</th>\n",
       "      <td>135.0</td>\n",
       "      <td>Gas</td>\n",
       "      <td>WRI</td>\n",
       "      <td>617.789264</td>\n",
       "      <td>843.747000</td>\n",
       "      <td>886.004428</td>\n",
       "      <td>663.774500</td>\n",
       "      <td>626.239128</td>\n",
       "      <td>NaN</td>\n",
       "      <td>1</td>\n",
       "    </tr>\n",
       "    <tr>\n",
       "      <th>4</th>\n",
       "      <td>1800.0</td>\n",
       "      <td>Coal</td>\n",
       "      <td>WRI</td>\n",
       "      <td>3035.550000</td>\n",
       "      <td>5916.370000</td>\n",
       "      <td>6243.000000</td>\n",
       "      <td>5385.579736</td>\n",
       "      <td>7279.000000</td>\n",
       "      <td>NaN</td>\n",
       "      <td>1</td>\n",
       "    </tr>\n",
       "    <tr>\n",
       "      <th>...</th>\n",
       "      <td>...</td>\n",
       "      <td>...</td>\n",
       "      <td>...</td>\n",
       "      <td>...</td>\n",
       "      <td>...</td>\n",
       "      <td>...</td>\n",
       "      <td>...</td>\n",
       "      <td>...</td>\n",
       "      <td>...</td>\n",
       "      <td>...</td>\n",
       "    </tr>\n",
       "    <tr>\n",
       "      <th>902</th>\n",
       "      <td>1600.0</td>\n",
       "      <td>Coal</td>\n",
       "      <td>WRI</td>\n",
       "      <td>NaN</td>\n",
       "      <td>0.994875</td>\n",
       "      <td>233.596650</td>\n",
       "      <td>865.400000</td>\n",
       "      <td>686.500000</td>\n",
       "      <td>NaN</td>\n",
       "      <td>1</td>\n",
       "    </tr>\n",
       "    <tr>\n",
       "      <th>903</th>\n",
       "      <td>3.0</td>\n",
       "      <td>Solar</td>\n",
       "      <td>Industry About</td>\n",
       "      <td>NaN</td>\n",
       "      <td>NaN</td>\n",
       "      <td>NaN</td>\n",
       "      <td>NaN</td>\n",
       "      <td>NaN</td>\n",
       "      <td>NaN</td>\n",
       "      <td>0</td>\n",
       "    </tr>\n",
       "    <tr>\n",
       "      <th>904</th>\n",
       "      <td>25.5</td>\n",
       "      <td>Wind</td>\n",
       "      <td>WRI</td>\n",
       "      <td>NaN</td>\n",
       "      <td>NaN</td>\n",
       "      <td>NaN</td>\n",
       "      <td>NaN</td>\n",
       "      <td>NaN</td>\n",
       "      <td>NaN</td>\n",
       "      <td>0</td>\n",
       "    </tr>\n",
       "    <tr>\n",
       "      <th>905</th>\n",
       "      <td>80.0</td>\n",
       "      <td>Coal</td>\n",
       "      <td>WRI</td>\n",
       "      <td>NaN</td>\n",
       "      <td>NaN</td>\n",
       "      <td>NaN</td>\n",
       "      <td>NaN</td>\n",
       "      <td>NaN</td>\n",
       "      <td>NaN</td>\n",
       "      <td>1</td>\n",
       "    </tr>\n",
       "    <tr>\n",
       "      <th>906</th>\n",
       "      <td>16.5</td>\n",
       "      <td>Wind</td>\n",
       "      <td>WRI</td>\n",
       "      <td>NaN</td>\n",
       "      <td>NaN</td>\n",
       "      <td>NaN</td>\n",
       "      <td>NaN</td>\n",
       "      <td>NaN</td>\n",
       "      <td>NaN</td>\n",
       "      <td>0</td>\n",
       "    </tr>\n",
       "  </tbody>\n",
       "</table>\n",
       "<p>907 rows × 10 columns</p>\n",
       "</div>"
      ],
      "text/plain": [
       "     capacity_mw primary_fuel                    geolocation_source  \\\n",
       "0            2.5        Solar  National Renewable Energy Laboratory   \n",
       "1           98.0         Coal                                   WRI   \n",
       "2           39.2         Wind                                   WRI   \n",
       "3          135.0          Gas                                   WRI   \n",
       "4         1800.0         Coal                                   WRI   \n",
       "..           ...          ...                                   ...   \n",
       "902       1600.0         Coal                                   WRI   \n",
       "903          3.0        Solar                        Industry About   \n",
       "904         25.5         Wind                                   WRI   \n",
       "905         80.0         Coal                                   WRI   \n",
       "906         16.5         Wind                                   WRI   \n",
       "\n",
       "     generation_gwh_2014  generation_gwh_2015  generation_gwh_2016  \\\n",
       "0                    NaN                  NaN                  NaN   \n",
       "1                    NaN                  NaN                  NaN   \n",
       "2                    NaN                  NaN                  NaN   \n",
       "3             617.789264           843.747000           886.004428   \n",
       "4            3035.550000          5916.370000          6243.000000   \n",
       "..                   ...                  ...                  ...   \n",
       "902                  NaN             0.994875           233.596650   \n",
       "903                  NaN                  NaN                  NaN   \n",
       "904                  NaN                  NaN                  NaN   \n",
       "905                  NaN                  NaN                  NaN   \n",
       "906                  NaN                  NaN                  NaN   \n",
       "\n",
       "     generation_gwh_2017  generation_gwh_2018  generation_gwh_2019  fuel_type  \n",
       "0                    NaN                  NaN                  NaN          0  \n",
       "1                    NaN                  NaN                  NaN          1  \n",
       "2                    NaN                  NaN                  NaN          0  \n",
       "3             663.774500           626.239128                  NaN          1  \n",
       "4            5385.579736          7279.000000                  NaN          1  \n",
       "..                   ...                  ...                  ...        ...  \n",
       "902           865.400000           686.500000                  NaN          1  \n",
       "903                  NaN                  NaN                  NaN          0  \n",
       "904                  NaN                  NaN                  NaN          0  \n",
       "905                  NaN                  NaN                  NaN          1  \n",
       "906                  NaN                  NaN                  NaN          0  \n",
       "\n",
       "[907 rows x 10 columns]"
      ]
     },
     "execution_count": 39,
     "metadata": {},
     "output_type": "execute_result"
    }
   ],
   "source": [
    "df"
   ]
  },
  {
   "cell_type": "code",
   "execution_count": 40,
   "id": "5235c40d",
   "metadata": {},
   "outputs": [
    {
     "data": {
      "text/plain": [
       "<AxesSubplot:xlabel='generation_gwh_2014', ylabel='Density'>"
      ]
     },
     "execution_count": 40,
     "metadata": {},
     "output_type": "execute_result"
    },
    {
     "data": {
      "image/png": "[encoded data removed]",
      "text/plain": [
       "<Figure size 432x288 with 1 Axes>"
      ]
     },
     "metadata": {
      "needs_background": "light"
     },
     "output_type": "display_data"
    }
   ],
   "source": [
    "sn.distplot(df['generation_gwh_2014'])"
   ]
  },
  {
   "cell_type": "code",
   "execution_count": 41,
   "id": "8388ccac",
   "metadata": {},
   "outputs": [],
   "source": [
    "for i in range(len(df['generation_gwh_2014'])):\n",
    "    if str(df['generation_gwh_2014'][i])=='nan':\n",
    "        df['generation_gwh_2014'][i]=df['generation_gwh_2014'].mean()"
   ]
  },
  {
   "cell_type": "code",
   "execution_count": 42,
   "id": "0d4647ca",
   "metadata": {},
   "outputs": [
    {
     "data": {
      "text/plain": [
       "<AxesSubplot:xlabel='generation_gwh_2015', ylabel='Density'>"
      ]
     },
     "execution_count": 42,
     "metadata": {},
     "output_type": "execute_result"
    },
    {
     "data": {
      "image/png": "[encoded data removed]",
      "text/plain": [
       "<Figure size 432x288 with 1 Axes>"
      ]
     },
     "metadata": {
      "needs_background": "light"
     },
     "output_type": "display_data"
    }
   ],
   "source": [
    "sn.distplot(df['generation_gwh_2015'])"
   ]
  },
  {
   "cell_type": "code",
   "execution_count": 43,
   "id": "a2c901eb",
   "metadata": {},
   "outputs": [],
   "source": [
    "for i in range(len(df['generation_gwh_2015'])):\n",
    "    if str(df['generation_gwh_2015'][i])=='nan':\n",
    "        df['generation_gwh_2015'][i]=df['generation_gwh_2015'].mean()"
   ]
  },
  {
   "cell_type": "code",
   "execution_count": 44,
   "id": "5b49f9c2",
   "metadata": {},
   "outputs": [
    {
     "data": {
      "text/plain": [
       "<AxesSubplot:xlabel='generation_gwh_2016', ylabel='Density'>"
      ]
     },
     "execution_count": 44,
     "metadata": {},
     "output_type": "execute_result"
    },
    {
     "data": {
      "image/png": "[encoded data removed]",
      "text/plain": [
       "<Figure size 432x288 with 1 Axes>"
      ]
     },
     "metadata": {
      "needs_background": "light"
     },
     "output_type": "display_data"
    }
   ],
   "source": [
    "sn.distplot(df['generation_gwh_2016'])"
   ]
  },
  {
   "cell_type": "code",
   "execution_count": 45,
   "id": "750b388c",
   "metadata": {},
   "outputs": [],
   "source": [
    "for i in range(len(df['generation_gwh_2016'])):\n",
    "    if str(df['generation_gwh_2016'][i])=='nan':\n",
    "        df['generation_gwh_2016'][i]=df['generation_gwh_2016'].mean()"
   ]
  },
  {
   "cell_type": "code",
   "execution_count": 46,
   "id": "e7fa0614",
   "metadata": {},
   "outputs": [
    {
     "data": {
      "text/plain": [
       "<AxesSubplot:xlabel='generation_gwh_2017', ylabel='Density'>"
      ]
     },
     "execution_count": 46,
     "metadata": {},
     "output_type": "execute_result"
    },
    {
     "data": {
      "image/png": "[encoded data removed]",
      "text/plain": [
       "<Figure size 432x288 with 1 Axes>"
      ]
     },
     "metadata": {
      "needs_background": "light"
     },
     "output_type": "display_data"
    }
   ],
   "source": [
    "sn.distplot(df['generation_gwh_2017'])"
   ]
  },
  {
   "cell_type": "code",
   "execution_count": 47,
   "id": "d25bc551",
   "metadata": {},
   "outputs": [],
   "source": [
    "df=df.drop(['generation_gwh_2019'],axis=1)"
   ]
  },
  {
   "cell_type": "code",
   "execution_count": 48,
   "id": "1e637394",
   "metadata": {},
   "outputs": [],
   "source": [
    "for i in range(len(df['generation_gwh_2017'])):\n",
    "    if str(df['generation_gwh_2017'][i])=='nan':\n",
    "        df['generation_gwh_2017'][i]=df['generation_gwh_2017'].mean()"
   ]
  },
  {
   "cell_type": "code",
   "execution_count": 49,
   "id": "e4afa56f",
   "metadata": {},
   "outputs": [
    {
     "name": "stdout",
     "output_type": "stream",
     "text": [
      "<class 'pandas.core.frame.DataFrame'>\n",
      "RangeIndex: 907 entries, 0 to 906\n",
      "Data columns (total 9 columns):\n",
      " #   Column               Non-Null Count  Dtype  \n",
      "---  ------               --------------  -----  \n",
      " 0   capacity_mw          907 non-null    float64\n",
      " 1   primary_fuel         907 non-null    object \n",
      " 2   geolocation_source   907 non-null    object \n",
      " 3   generation_gwh_2014  907 non-null    float64\n",
      " 4   generation_gwh_2015  907 non-null    float64\n",
      " 5   generation_gwh_2016  907 non-null    float64\n",
      " 6   generation_gwh_2017  907 non-null    float64\n",
      " 7   generation_gwh_2018  448 non-null    float64\n",
      " 8   fuel_type            907 non-null    int64  \n",
      "dtypes: float64(6), int64(1), object(2)\n",
      "memory usage: 63.9+ KB\n"
     ]
    }
   ],
   "source": [
    "df.info()"
   ]
  },
  {
   "cell_type": "code",
   "execution_count": 50,
   "id": "6905c2f1",
   "metadata": {},
   "outputs": [
    {
     "data": {
      "text/plain": [
       "Coal       258\n",
       "Hydro      251\n",
       "Solar      127\n",
       "Wind       123\n",
       "Gas         69\n",
       "Biomass     50\n",
       "Oil         20\n",
       "Nuclear      9\n",
       "Name: primary_fuel, dtype: int64"
      ]
     },
     "execution_count": 50,
     "metadata": {},
     "output_type": "execute_result"
    }
   ],
   "source": [
    "df.primary_fuel.value_counts()"
   ]
  },
  {
   "cell_type": "code",
   "execution_count": 51,
   "id": "9f20766b",
   "metadata": {},
   "outputs": [
    {
     "data": {
      "text/plain": [
       "{'primary_fuel': {'Solar': 0,\n",
       "  'Coal': 1,\n",
       "  'Wind': 2,\n",
       "  'Gas': 3,\n",
       "  'Hydro': 4,\n",
       "  'Biomass': 5,\n",
       "  'Oil': 6,\n",
       "  'Nuclear': 7}}"
      ]
     },
     "execution_count": 51,
     "metadata": {},
     "output_type": "execute_result"
    }
   ],
   "source": [
    "dicty={}\n",
    "for i in df[['primary_fuel']]:\n",
    "    dicto={}\n",
    "    for j in range(len(df[i].unique())):\n",
    "        dicto[df[i].unique()[j]]=j\n",
    "    dicty[i]=dicto\n",
    "dicty"
   ]
  },
  {
   "cell_type": "code",
   "execution_count": 52,
   "id": "992bb526",
   "metadata": {},
   "outputs": [],
   "source": [
    "for i in ['primary_fuel']:\n",
    "    df[i]=df[i].apply(lambda x:dicty[i][x])"
   ]
  },
  {
   "cell_type": "code",
   "execution_count": 53,
   "id": "14606774",
   "metadata": {},
   "outputs": [
    {
     "data": {
      "text/plain": [
       "WRI                                     780\n",
       "Industry About                          123\n",
       "National Renewable Energy Laboratory      4\n",
       "Name: geolocation_source, dtype: int64"
      ]
     },
     "execution_count": 53,
     "metadata": {},
     "output_type": "execute_result"
    }
   ],
   "source": [
    "df.geolocation_source.value_counts()"
   ]
  },
  {
   "cell_type": "code",
   "execution_count": 54,
   "id": "4de0c9cf",
   "metadata": {},
   "outputs": [
    {
     "data": {
      "text/plain": [
       "{'geolocation_source': {'National Renewable Energy Laboratory': 0,\n",
       "  'WRI': 1,\n",
       "  'Industry About': 2}}"
      ]
     },
     "execution_count": 54,
     "metadata": {},
     "output_type": "execute_result"
    }
   ],
   "source": [
    "dicty={}\n",
    "for i in df[['geolocation_source']]:\n",
    "    dicto={}\n",
    "    for j in range(len(df[i].unique())):\n",
    "        dicto[df[i].unique()[j]]=j\n",
    "    dicty[i]=dicto\n",
    "dicty"
   ]
  },
  {
   "cell_type": "code",
   "execution_count": 55,
   "id": "6b90b2ce",
   "metadata": {},
   "outputs": [],
   "source": [
    "for i in ['geolocation_source']:\n",
    "    df[i]=df[i].apply(lambda x:dicty[i][x])"
   ]
  },
  {
   "cell_type": "code",
   "execution_count": 56,
   "id": "edd94dc4",
   "metadata": {},
   "outputs": [
    {
     "name": "stdout",
     "output_type": "stream",
     "text": [
      "<class 'pandas.core.frame.DataFrame'>\n",
      "RangeIndex: 907 entries, 0 to 906\n",
      "Data columns (total 9 columns):\n",
      " #   Column               Non-Null Count  Dtype  \n",
      "---  ------               --------------  -----  \n",
      " 0   capacity_mw          907 non-null    float64\n",
      " 1   primary_fuel         907 non-null    int64  \n",
      " 2   geolocation_source   907 non-null    int64  \n",
      " 3   generation_gwh_2014  907 non-null    float64\n",
      " 4   generation_gwh_2015  907 non-null    float64\n",
      " 5   generation_gwh_2016  907 non-null    float64\n",
      " 6   generation_gwh_2017  907 non-null    float64\n",
      " 7   generation_gwh_2018  448 non-null    float64\n",
      " 8   fuel_type            907 non-null    int64  \n",
      "dtypes: float64(6), int64(3)\n",
      "memory usage: 63.9 KB\n"
     ]
    }
   ],
   "source": [
    "df.info()"
   ]
  },
  {
   "cell_type": "code",
   "execution_count": 57,
   "id": "906bb6ca",
   "metadata": {},
   "outputs": [
    {
     "data": {
      "text/html": [
       "<div>\n",
       "<style scoped>\n",
       "    .dataframe tbody tr th:only-of-type {\n",
       "        vertical-align: middle;\n",
       "    }\n",
       "\n",
       "    .dataframe tbody tr th {\n",
       "        vertical-align: top;\n",
       "    }\n",
       "\n",
       "    .dataframe thead th {\n",
       "        text-align: right;\n",
       "    }\n",
       "</style>\n",
       "<table border=\"1\" class=\"dataframe\">\n",
       "  <thead>\n",
       "    <tr style=\"text-align: right;\">\n",
       "      <th></th>\n",
       "      <th>capacity_mw</th>\n",
       "      <th>primary_fuel</th>\n",
       "      <th>geolocation_source</th>\n",
       "      <th>generation_gwh_2014</th>\n",
       "      <th>generation_gwh_2015</th>\n",
       "      <th>generation_gwh_2016</th>\n",
       "      <th>generation_gwh_2017</th>\n",
       "      <th>generation_gwh_2018</th>\n",
       "      <th>fuel_type</th>\n",
       "    </tr>\n",
       "  </thead>\n",
       "  <tbody>\n",
       "    <tr>\n",
       "      <th>count</th>\n",
       "      <td>907.000000</td>\n",
       "      <td>907.000000</td>\n",
       "      <td>907.000000</td>\n",
       "      <td>907.000000</td>\n",
       "      <td>907.000000</td>\n",
       "      <td>907.000000</td>\n",
       "      <td>907.000000</td>\n",
       "      <td>448.000000</td>\n",
       "      <td>907.000000</td>\n",
       "    </tr>\n",
       "    <tr>\n",
       "      <th>mean</th>\n",
       "      <td>326.223755</td>\n",
       "      <td>2.368247</td>\n",
       "      <td>1.131202</td>\n",
       "      <td>2431.823590</td>\n",
       "      <td>2428.226946</td>\n",
       "      <td>2467.936859</td>\n",
       "      <td>2547.759305</td>\n",
       "      <td>2600.804099</td>\n",
       "      <td>0.392503</td>\n",
       "    </tr>\n",
       "    <tr>\n",
       "      <th>std</th>\n",
       "      <td>590.085456</td>\n",
       "      <td>1.729821</td>\n",
       "      <td>0.350633</td>\n",
       "      <td>2665.338608</td>\n",
       "      <td>2859.349132</td>\n",
       "      <td>2877.890004</td>\n",
       "      <td>2921.502193</td>\n",
       "      <td>4314.880456</td>\n",
       "      <td>0.488577</td>\n",
       "    </tr>\n",
       "    <tr>\n",
       "      <th>min</th>\n",
       "      <td>0.000000</td>\n",
       "      <td>0.000000</td>\n",
       "      <td>0.000000</td>\n",
       "      <td>0.000000</td>\n",
       "      <td>0.000000</td>\n",
       "      <td>0.000000</td>\n",
       "      <td>0.000000</td>\n",
       "      <td>0.000000</td>\n",
       "      <td>0.000000</td>\n",
       "    </tr>\n",
       "    <tr>\n",
       "      <th>25%</th>\n",
       "      <td>16.725000</td>\n",
       "      <td>1.000000</td>\n",
       "      <td>1.000000</td>\n",
       "      <td>1211.362750</td>\n",
       "      <td>916.000000</td>\n",
       "      <td>896.500214</td>\n",
       "      <td>882.594850</td>\n",
       "      <td>193.378250</td>\n",
       "      <td>0.000000</td>\n",
       "    </tr>\n",
       "    <tr>\n",
       "      <th>50%</th>\n",
       "      <td>59.200000</td>\n",
       "      <td>2.000000</td>\n",
       "      <td>1.000000</td>\n",
       "      <td>2431.823590</td>\n",
       "      <td>2428.226946</td>\n",
       "      <td>2467.936859</td>\n",
       "      <td>2547.759305</td>\n",
       "      <td>751.644375</td>\n",
       "      <td>0.000000</td>\n",
       "    </tr>\n",
       "    <tr>\n",
       "      <th>75%</th>\n",
       "      <td>385.250000</td>\n",
       "      <td>4.000000</td>\n",
       "      <td>1.000000</td>\n",
       "      <td>2431.823590</td>\n",
       "      <td>2428.226946</td>\n",
       "      <td>2467.936859</td>\n",
       "      <td>2547.759305</td>\n",
       "      <td>3143.535900</td>\n",
       "      <td>1.000000</td>\n",
       "    </tr>\n",
       "    <tr>\n",
       "      <th>max</th>\n",
       "      <td>4760.000000</td>\n",
       "      <td>7.000000</td>\n",
       "      <td>2.000000</td>\n",
       "      <td>28127.000000</td>\n",
       "      <td>30539.000000</td>\n",
       "      <td>30015.000000</td>\n",
       "      <td>35116.000000</td>\n",
       "      <td>35136.000000</td>\n",
       "      <td>1.000000</td>\n",
       "    </tr>\n",
       "  </tbody>\n",
       "</table>\n",
       "</div>"
      ],
      "text/plain": [
       "       capacity_mw  primary_fuel  geolocation_source  generation_gwh_2014  \\\n",
       "count   907.000000    907.000000          907.000000           907.000000   \n",
       "mean    326.223755      2.368247            1.131202          2431.823590   \n",
       "std     590.085456      1.729821            0.350633          2665.338608   \n",
       "min       0.000000      0.000000            0.000000             0.000000   \n",
       "25%      16.725000      1.000000            1.000000          1211.362750   \n",
       "50%      59.200000      2.000000            1.000000          2431.823590   \n",
       "75%     385.250000      4.000000            1.000000          2431.823590   \n",
       "max    4760.000000      7.000000            2.000000         28127.000000   \n",
       "\n",
       "       generation_gwh_2015  generation_gwh_2016  generation_gwh_2017  \\\n",
       "count           907.000000           907.000000           907.000000   \n",
       "mean           2428.226946          2467.936859          2547.759305   \n",
       "std            2859.349132          2877.890004          2921.502193   \n",
       "min               0.000000             0.000000             0.000000   \n",
       "25%             916.000000           896.500214           882.594850   \n",
       "50%            2428.226946          2467.936859          2547.759305   \n",
       "75%            2428.226946          2467.936859          2547.759305   \n",
       "max           30539.000000         30015.000000         35116.000000   \n",
       "\n",
       "       generation_gwh_2018   fuel_type  \n",
       "count           448.000000  907.000000  \n",
       "mean           2600.804099    0.392503  \n",
       "std            4314.880456    0.488577  \n",
       "min               0.000000    0.000000  \n",
       "25%             193.378250    0.000000  \n",
       "50%             751.644375    0.000000  \n",
       "75%            3143.535900    1.000000  \n",
       "max           35136.000000    1.000000  "
      ]
     },
     "execution_count": 57,
     "metadata": {},
     "output_type": "execute_result"
    }
   ],
   "source": [
    "df.describe()"
   ]
  },
  {
   "cell_type": "code",
   "execution_count": 58,
   "id": "a54407f6",
   "metadata": {},
   "outputs": [
    {
     "data": {
      "text/plain": [
       "0    551\n",
       "1    356\n",
       "Name: fuel_type, dtype: int64"
      ]
     },
     "execution_count": 58,
     "metadata": {},
     "output_type": "execute_result"
    }
   ],
   "source": [
    "df['fuel_type'].value_counts()"
   ]
  },
  {
   "cell_type": "code",
   "execution_count": 59,
   "id": "1db0a9a4",
   "metadata": {},
   "outputs": [
    {
     "data": {
      "image/png": "[encoded data removed]",
      "text/plain": [
       "<Figure size 360x360 with 1 Axes>"
      ]
     },
     "metadata": {
      "needs_background": "light"
     },
     "output_type": "display_data"
    }
   ],
   "source": [
    "plt.figure(figsize=[5,5])\n",
    "df['fuel_type'].value_counts().plot(kind='bar')\n",
    "plt.xlabel(\"fuel_type\")\n",
    "plt.ylabel('value counts')\n",
    "plt.title('Value counts of renewable vs non renewable')\n",
    "plt.grid()"
   ]
  },
  {
   "cell_type": "code",
   "execution_count": 60,
   "id": "aa6da694",
   "metadata": {},
   "outputs": [
    {
     "name": "stdout",
     "output_type": "stream",
     "text": [
      "Number of fuel_type are: 551\n",
      "Number of fuel_type are: 551\n",
      "Balanced dataset\n"
     ]
    }
   ],
   "source": [
    "from sklearn.utils import resample\n",
    "dfmin=df[df['fuel_type']==1]\n",
    "dfmax=df[df['fuel_type']==0]\n",
    "dfminup=resample(dfmin,replace=True,n_samples=551,random_state=123)\n",
    "dff=pd.concat([dfmax, dfminup])\n",
    "print('Number of fuel_type are:',dff['fuel_type'].value_counts()[0])\n",
    "print('Number of fuel_type are:',dff['fuel_type'].value_counts()[1])\n",
    "print('Unbalanced dataset' if dff['fuel_type'].value_counts()[0]!=dff['fuel_type'].value_counts()[1] else 'Balanced dataset')"
   ]
  },
  {
   "cell_type": "code",
   "execution_count": 61,
   "id": "3705260e",
   "metadata": {},
   "outputs": [
    {
     "data": {
      "text/plain": [
       "capacity_mw            0.472232\n",
       "primary_fuel          -0.281700\n",
       "geolocation_source    -0.335520\n",
       "generation_gwh_2014    0.207925\n",
       "generation_gwh_2015    0.211337\n",
       "generation_gwh_2016    0.228515\n",
       "generation_gwh_2017    0.262129\n",
       "generation_gwh_2018    0.357934\n",
       "fuel_type              1.000000\n",
       "Name: fuel_type, dtype: float64"
      ]
     },
     "execution_count": 61,
     "metadata": {},
     "output_type": "execute_result"
    }
   ],
   "source": [
    "dff.corr()['fuel_type']"
   ]
  },
  {
   "cell_type": "code",
   "execution_count": 62,
   "id": "033c3aab",
   "metadata": {},
   "outputs": [
    {
     "data": {
      "text/plain": [
       "<AxesSubplot:>"
      ]
     },
     "execution_count": 62,
     "metadata": {},
     "output_type": "execute_result"
    },
    {
     "data": {
      "image/png": "[encoded data removed]",
      "text/plain": [
       "<Figure size 720x720 with 2 Axes>"
      ]
     },
     "metadata": {
      "needs_background": "light"
     },
     "output_type": "display_data"
    }
   ],
   "source": [
    "plt.figure(figsize=[10,10])\n",
    "sn.heatmap(dff.corr(),annot=True)"
   ]
  },
  {
   "cell_type": "code",
   "execution_count": 63,
   "id": "5eda72d4",
   "metadata": {},
   "outputs": [
    {
     "data": {
      "image/png": "[encoded data removed]",
      "text/plain": [
       "<Figure size 432x288 with 1 Axes>"
      ]
     },
     "metadata": {
      "needs_background": "light"
     },
     "output_type": "display_data"
    },
    {
     "data": {
      "image/png": "[encoded data removed]",
      "text/plain": [
       "<Figure size 432x288 with 1 Axes>"
      ]
     },
     "metadata": {
      "needs_background": "light"
     },
     "output_type": "display_data"
    },
    {
     "data": {
      "image/png": "[encoded data removed]",
      "text/plain": [
       "<Figure size 432x288 with 1 Axes>"
      ]
     },
     "metadata": {
      "needs_background": "light"
     },
     "output_type": "display_data"
    },
    {
     "data": {
      "image/png": "[encoded data removed]",
      "text/plain": [
       "<Figure size 432x288 with 1 Axes>"
      ]
     },
     "metadata": {
      "needs_background": "light"
     },
     "output_type": "display_data"
    },
    {
     "data": {
      "image/png": "[encoded data removed]",
      "text/plain": [
       "<Figure size 432x288 with 1 Axes>"
      ]
     },
     "metadata": {
      "needs_background": "light"
     },
     "output_type": "display_data"
    },
    {
     "data": {
      "image/png": "[encoded data removed]",
      "text/plain": [
       "<Figure size 432x288 with 1 Axes>"
      ]
     },
     "metadata": {
      "needs_background": "light"
     },
     "output_type": "display_data"
    },
    {
     "data": {
      "image/png": "[encoded data removed]",
      "text/plain": [
       "<Figure size 432x288 with 1 Axes>"
      ]
     },
     "metadata": {
      "needs_background": "light"
     },
     "output_type": "display_data"
    },
    {
     "data": {
      "image/png": "[encoded data removed]",
      "text/plain": [
       "<Figure size 432x288 with 1 Axes>"
      ]
     },
     "metadata": {
      "needs_background": "light"
     },
     "output_type": "display_data"
    },
    {
     "data": {
      "image/png": "[encoded data removed]",
      "text/plain": [
       "<Figure size 432x288 with 1 Axes>"
      ]
     },
     "metadata": {
      "needs_background": "light"
     },
     "output_type": "display_data"
    }
   ],
   "source": [
    "for i in dff.columns:\n",
    "    sn.countplot(x=i,hue=\"fuel_type\",data=dff)\n",
    "    plt.show()"
   ]
  },
  {
   "cell_type": "code",
   "execution_count": 64,
   "id": "2e2a7b77",
   "metadata": {},
   "outputs": [
    {
     "data": {
      "image/png": "[encoded data removed]",
      "text/plain": [
       "<Figure size 1440x1800 with 9 Axes>"
      ]
     },
     "metadata": {},
     "output_type": "display_data"
    }
   ],
   "source": [
    "plt.figure(figsize=(20,25),facecolor='white')\n",
    "plotnumber=1\n",
    "for column in dff.columns:\n",
    "    if plotnumber<=len(dff.columns):\n",
    "        ax=plt.subplot(3,3,plotnumber)\n",
    "        sn.distplot(dff[column])\n",
    "        plt.xlabel(column,fontsize=20)\n",
    "    plotnumber+=1\n",
    "plt.show()"
   ]
  },
  {
   "cell_type": "code",
   "execution_count": 65,
   "id": "7ff7b53d",
   "metadata": {},
   "outputs": [
    {
     "data": {
      "image/png": "[encoded data removed]",
      "text/plain": [
       "<Figure size 432x288 with 1 Axes>"
      ]
     },
     "metadata": {
      "needs_background": "light"
     },
     "output_type": "display_data"
    },
    {
     "data": {
      "image/png": "[encoded data removed]",
      "text/plain": [
       "<Figure size 432x288 with 1 Axes>"
      ]
     },
     "metadata": {
      "needs_background": "light"
     },
     "output_type": "display_data"
    },
    {
     "data": {
      "image/png": "[encoded data removed]",
      "text/plain": [
       "<Figure size 432x288 with 1 Axes>"
      ]
     },
     "metadata": {
      "needs_background": "light"
     },
     "output_type": "display_data"
    },
    {
     "data": {
      "image/png": "[encoded data removed]",
      "text/plain": [
       "<Figure size 432x288 with 1 Axes>"
      ]
     },
     "metadata": {
      "needs_background": "light"
     },
     "output_type": "display_data"
    },
    {
     "data": {
      "image/png": "[encoded data removed]",
      "text/plain": [
       "<Figure size 432x288 with 1 Axes>"
      ]
     },
     "metadata": {
      "needs_background": "light"
     },
     "output_type": "display_data"
    },
    {
     "data": {
      "image/png": "[encoded data removed]",
      "text/plain": [
       "<Figure size 432x288 with 1 Axes>"
      ]
     },
     "metadata": {
      "needs_background": "light"
     },
     "output_type": "display_data"
    },
    {
     "data": {
      "image/png": "[encoded data removed]",
      "text/plain": [
       "<Figure size 432x288 with 1 Axes>"
      ]
     },
     "metadata": {
      "needs_background": "light"
     },
     "output_type": "display_data"
    },
    {
     "data": {
      "image/png": "[encoded data removed]",
      "text/plain": [
       "<Figure size 432x288 with 1 Axes>"
      ]
     },
     "metadata": {
      "needs_background": "light"
     },
     "output_type": "display_data"
    },
    {
     "data": {
      "image/png": "[encoded data removed]",
      "text/plain": [
       "<Figure size 432x288 with 1 Axes>"
      ]
     },
     "metadata": {
      "needs_background": "light"
     },
     "output_type": "display_data"
    }
   ],
   "source": [
    "for i in dff.columns:\n",
    "    sn.boxplot(dff[i])\n",
    "    plt.show()"
   ]
  },
  {
   "cell_type": "code",
   "execution_count": 66,
   "id": "a59f8399",
   "metadata": {},
   "outputs": [
    {
     "name": "stdout",
     "output_type": "stream",
     "text": [
      "(1102, 9)\n",
      "(0, 9)\n"
     ]
    }
   ],
   "source": [
    "from scipy.stats import zscore\n",
    "z_scr=zscore(dff)\n",
    "print(dff.shape)\n",
    "df_new=dff.loc[(abs(z_scr)<3).all(axis=1)]\n",
    "print(df_new.shape)"
   ]
  },
  {
   "cell_type": "code",
   "execution_count": 67,
   "id": "e632b776",
   "metadata": {},
   "outputs": [],
   "source": [
    "y = dff[['fuel_type']]\n",
    "x = dff.drop(columns = ['fuel_type'])"
   ]
  },
  {
   "cell_type": "code",
   "execution_count": 68,
   "id": "fc138200",
   "metadata": {},
   "outputs": [
    {
     "data": {
      "text/html": [
       "<div>\n",
       "<style scoped>\n",
       "    .dataframe tbody tr th:only-of-type {\n",
       "        vertical-align: middle;\n",
       "    }\n",
       "\n",
       "    .dataframe tbody tr th {\n",
       "        vertical-align: top;\n",
       "    }\n",
       "\n",
       "    .dataframe thead th {\n",
       "        text-align: right;\n",
       "    }\n",
       "</style>\n",
       "<table border=\"1\" class=\"dataframe\">\n",
       "  <thead>\n",
       "    <tr style=\"text-align: right;\">\n",
       "      <th></th>\n",
       "      <th>capacity_mw</th>\n",
       "      <th>primary_fuel</th>\n",
       "      <th>geolocation_source</th>\n",
       "      <th>generation_gwh_2014</th>\n",
       "      <th>generation_gwh_2015</th>\n",
       "      <th>generation_gwh_2016</th>\n",
       "      <th>generation_gwh_2017</th>\n",
       "      <th>generation_gwh_2018</th>\n",
       "    </tr>\n",
       "  </thead>\n",
       "  <tbody>\n",
       "    <tr>\n",
       "      <th>0</th>\n",
       "      <td>2.50</td>\n",
       "      <td>0</td>\n",
       "      <td>0</td>\n",
       "      <td>2431.82359</td>\n",
       "      <td>2428.226946</td>\n",
       "      <td>2467.936859</td>\n",
       "      <td>2547.759305</td>\n",
       "      <td>NaN</td>\n",
       "    </tr>\n",
       "    <tr>\n",
       "      <th>2</th>\n",
       "      <td>39.20</td>\n",
       "      <td>2</td>\n",
       "      <td>1</td>\n",
       "      <td>2431.82359</td>\n",
       "      <td>2428.226946</td>\n",
       "      <td>2467.936859</td>\n",
       "      <td>2547.759305</td>\n",
       "      <td>NaN</td>\n",
       "    </tr>\n",
       "    <tr>\n",
       "      <th>6</th>\n",
       "      <td>60.00</td>\n",
       "      <td>4</td>\n",
       "      <td>1</td>\n",
       "      <td>157.55825</td>\n",
       "      <td>152.195200</td>\n",
       "      <td>61.421350</td>\n",
       "      <td>89.629600</td>\n",
       "      <td>48.32715</td>\n",
       "    </tr>\n",
       "    <tr>\n",
       "      <th>7</th>\n",
       "      <td>192.00</td>\n",
       "      <td>4</td>\n",
       "      <td>1</td>\n",
       "      <td>674.39110</td>\n",
       "      <td>721.335200</td>\n",
       "      <td>675.724400</td>\n",
       "      <td>679.594950</td>\n",
       "      <td>579.31885</td>\n",
       "    </tr>\n",
       "    <tr>\n",
       "      <th>8</th>\n",
       "      <td>290.00</td>\n",
       "      <td>4</td>\n",
       "      <td>1</td>\n",
       "      <td>480.59495</td>\n",
       "      <td>144.434200</td>\n",
       "      <td>402.029750</td>\n",
       "      <td>439.372100</td>\n",
       "      <td>406.37790</td>\n",
       "    </tr>\n",
       "    <tr>\n",
       "      <th>...</th>\n",
       "      <td>...</td>\n",
       "      <td>...</td>\n",
       "      <td>...</td>\n",
       "      <td>...</td>\n",
       "      <td>...</td>\n",
       "      <td>...</td>\n",
       "      <td>...</td>\n",
       "      <td>...</td>\n",
       "    </tr>\n",
       "    <tr>\n",
       "      <th>390</th>\n",
       "      <td>1800.00</td>\n",
       "      <td>1</td>\n",
       "      <td>1</td>\n",
       "      <td>6792.30300</td>\n",
       "      <td>6108.419000</td>\n",
       "      <td>6062.339491</td>\n",
       "      <td>6576.796000</td>\n",
       "      <td>8633.52700</td>\n",
       "    </tr>\n",
       "    <tr>\n",
       "      <th>290</th>\n",
       "      <td>63.50</td>\n",
       "      <td>1</td>\n",
       "      <td>1</td>\n",
       "      <td>2431.82359</td>\n",
       "      <td>2428.226946</td>\n",
       "      <td>2467.936859</td>\n",
       "      <td>2547.759305</td>\n",
       "      <td>NaN</td>\n",
       "    </tr>\n",
       "    <tr>\n",
       "      <th>336</th>\n",
       "      <td>350.00</td>\n",
       "      <td>3</td>\n",
       "      <td>1</td>\n",
       "      <td>792.00000</td>\n",
       "      <td>131.000000</td>\n",
       "      <td>14.107692</td>\n",
       "      <td>0.000000</td>\n",
       "      <td>0.00000</td>\n",
       "    </tr>\n",
       "    <tr>\n",
       "      <th>519</th>\n",
       "      <td>161.75</td>\n",
       "      <td>3</td>\n",
       "      <td>1</td>\n",
       "      <td>569.67400</td>\n",
       "      <td>487.339000</td>\n",
       "      <td>333.180000</td>\n",
       "      <td>306.396000</td>\n",
       "      <td>298.66300</td>\n",
       "    </tr>\n",
       "    <tr>\n",
       "      <th>720</th>\n",
       "      <td>500.00</td>\n",
       "      <td>1</td>\n",
       "      <td>1</td>\n",
       "      <td>829.69100</td>\n",
       "      <td>778.430000</td>\n",
       "      <td>1927.747000</td>\n",
       "      <td>2419.087000</td>\n",
       "      <td>2467.24250</td>\n",
       "    </tr>\n",
       "  </tbody>\n",
       "</table>\n",
       "<p>1102 rows × 8 columns</p>\n",
       "</div>"
      ],
      "text/plain": [
       "     capacity_mw  primary_fuel  geolocation_source  generation_gwh_2014  \\\n",
       "0           2.50             0                   0           2431.82359   \n",
       "2          39.20             2                   1           2431.82359   \n",
       "6          60.00             4                   1            157.55825   \n",
       "7         192.00             4                   1            674.39110   \n",
       "8         290.00             4                   1            480.59495   \n",
       "..           ...           ...                 ...                  ...   \n",
       "390      1800.00             1                   1           6792.30300   \n",
       "290        63.50             1                   1           2431.82359   \n",
       "336       350.00             3                   1            792.00000   \n",
       "519       161.75             3                   1            569.67400   \n",
       "720       500.00             1                   1            829.69100   \n",
       "\n",
       "     generation_gwh_2015  generation_gwh_2016  generation_gwh_2017  \\\n",
       "0            2428.226946          2467.936859          2547.759305   \n",
       "2            2428.226946          2467.936859          2547.759305   \n",
       "6             152.195200            61.421350            89.629600   \n",
       "7             721.335200           675.724400           679.594950   \n",
       "8             144.434200           402.029750           439.372100   \n",
       "..                   ...                  ...                  ...   \n",
       "390          6108.419000          6062.339491          6576.796000   \n",
       "290          2428.226946          2467.936859          2547.759305   \n",
       "336           131.000000            14.107692             0.000000   \n",
       "519           487.339000           333.180000           306.396000   \n",
       "720           778.430000          1927.747000          2419.087000   \n",
       "\n",
       "     generation_gwh_2018  \n",
       "0                    NaN  \n",
       "2                    NaN  \n",
       "6               48.32715  \n",
       "7              579.31885  \n",
       "8              406.37790  \n",
       "..                   ...  \n",
       "390           8633.52700  \n",
       "290                  NaN  \n",
       "336              0.00000  \n",
       "519            298.66300  \n",
       "720           2467.24250  \n",
       "\n",
       "[1102 rows x 8 columns]"
      ]
     },
     "execution_count": 68,
     "metadata": {},
     "output_type": "execute_result"
    }
   ],
   "source": [
    "x"
   ]
  },
  {
   "cell_type": "code",
   "execution_count": 69,
   "id": "32d1e168",
   "metadata": {},
   "outputs": [
    {
     "name": "stdout",
     "output_type": "stream",
     "text": [
      "capacity_mw            2.433378\n",
      "primary_fuel           0.547727\n",
      "geolocation_source     2.197769\n",
      "generation_gwh_2014    4.566528\n",
      "generation_gwh_2015    4.685960\n",
      "generation_gwh_2016    4.426905\n",
      "generation_gwh_2017    4.320531\n",
      "generation_gwh_2018    2.989030\n",
      "dtype: float64\n",
      "7\n"
     ]
    }
   ],
   "source": [
    "print(x.skew())\n",
    "print(len(x.skew().loc[x.skew()>0.55]))"
   ]
  },
  {
   "cell_type": "code",
   "execution_count": 70,
   "id": "dbf9c92b",
   "metadata": {},
   "outputs": [],
   "source": [
    "for index in x.skew().index:\n",
    "    if x.skew().loc[index] >0.55:\n",
    "        x[index]=np.cbrt(x[index])"
   ]
  },
  {
   "cell_type": "code",
   "execution_count": 71,
   "id": "f6b313e3",
   "metadata": {},
   "outputs": [
    {
     "name": "stdout",
     "output_type": "stream",
     "text": [
      "capacity_mw            0.765544\n",
      "primary_fuel           0.547727\n",
      "geolocation_source    -2.306628\n",
      "generation_gwh_2014   -0.627393\n",
      "generation_gwh_2015   -0.423251\n",
      "generation_gwh_2016   -0.473216\n",
      "generation_gwh_2017   -0.528714\n",
      "generation_gwh_2018    0.188594\n",
      "dtype: float64\n",
      "\n",
      "1\n"
     ]
    }
   ],
   "source": [
    "#lets again check the skewness\n",
    "print(x.skew())\n",
    "print()\n",
    "print(len(x.skew().loc[x.skew()>0.55]))# Number of features having skewness more than 0.55 "
   ]
  },
  {
   "cell_type": "code",
   "execution_count": 72,
   "id": "0b9b2949",
   "metadata": {},
   "outputs": [
    {
     "data": {
      "text/html": [
       "<div>\n",
       "<style scoped>\n",
       "    .dataframe tbody tr th:only-of-type {\n",
       "        vertical-align: middle;\n",
       "    }\n",
       "\n",
       "    .dataframe tbody tr th {\n",
       "        vertical-align: top;\n",
       "    }\n",
       "\n",
       "    .dataframe thead th {\n",
       "        text-align: right;\n",
       "    }\n",
       "</style>\n",
       "<table border=\"1\" class=\"dataframe\">\n",
       "  <thead>\n",
       "    <tr style=\"text-align: right;\">\n",
       "      <th></th>\n",
       "      <th>capacity_mw</th>\n",
       "      <th>primary_fuel</th>\n",
       "      <th>geolocation_source</th>\n",
       "      <th>generation_gwh_2014</th>\n",
       "      <th>generation_gwh_2015</th>\n",
       "      <th>generation_gwh_2016</th>\n",
       "      <th>generation_gwh_2017</th>\n",
       "      <th>generation_gwh_2018</th>\n",
       "    </tr>\n",
       "  </thead>\n",
       "  <tbody>\n",
       "    <tr>\n",
       "      <th>0</th>\n",
       "      <td>-1.209208</td>\n",
       "      <td>0</td>\n",
       "      <td>0.0</td>\n",
       "      <td>0.305328</td>\n",
       "      <td>0.317612</td>\n",
       "      <td>0.311709</td>\n",
       "      <td>0.286879</td>\n",
       "      <td>NaN</td>\n",
       "    </tr>\n",
       "    <tr>\n",
       "      <th>2</th>\n",
       "      <td>-0.609534</td>\n",
       "      <td>2</td>\n",
       "      <td>1.0</td>\n",
       "      <td>0.305328</td>\n",
       "      <td>0.317612</td>\n",
       "      <td>0.311709</td>\n",
       "      <td>0.286879</td>\n",
       "      <td>NaN</td>\n",
       "    </tr>\n",
       "    <tr>\n",
       "      <th>6</th>\n",
       "      <td>-0.457286</td>\n",
       "      <td>4</td>\n",
       "      <td>1.0</td>\n",
       "      <td>-1.426131</td>\n",
       "      <td>-1.401709</td>\n",
       "      <td>-1.698476</td>\n",
       "      <td>-1.647618</td>\n",
       "      <td>-1.163316</td>\n",
       "    </tr>\n",
       "    <tr>\n",
       "      <th>7</th>\n",
       "      <td>0.087806</td>\n",
       "      <td>4</td>\n",
       "      <td>1.0</td>\n",
       "      <td>-0.701326</td>\n",
       "      <td>-0.631533</td>\n",
       "      <td>-0.683822</td>\n",
       "      <td>-0.738239</td>\n",
       "      <td>-0.433298</td>\n",
       "    </tr>\n",
       "    <tr>\n",
       "      <th>8</th>\n",
       "      <td>0.337727</td>\n",
       "      <td>4</td>\n",
       "      <td>1.0</td>\n",
       "      <td>-0.902832</td>\n",
       "      <td>-1.421305</td>\n",
       "      <td>-0.976830</td>\n",
       "      <td>-0.988854</td>\n",
       "      <td>-0.577825</td>\n",
       "    </tr>\n",
       "    <tr>\n",
       "      <th>...</th>\n",
       "      <td>...</td>\n",
       "      <td>...</td>\n",
       "      <td>...</td>\n",
       "      <td>...</td>\n",
       "      <td>...</td>\n",
       "      <td>...</td>\n",
       "      <td>...</td>\n",
       "      <td>...</td>\n",
       "    </tr>\n",
       "    <tr>\n",
       "      <th>390</th>\n",
       "      <td>1.967979</td>\n",
       "      <td>1</td>\n",
       "      <td>1.0</td>\n",
       "      <td>1.486813</td>\n",
       "      <td>1.344524</td>\n",
       "      <td>1.303349</td>\n",
       "      <td>1.356603</td>\n",
       "      <td>1.460767</td>\n",
       "    </tr>\n",
       "    <tr>\n",
       "      <th>290</th>\n",
       "      <td>-0.435329</td>\n",
       "      <td>1</td>\n",
       "      <td>1.0</td>\n",
       "      <td>0.305328</td>\n",
       "      <td>0.317612</td>\n",
       "      <td>0.311709</td>\n",
       "      <td>0.286879</td>\n",
       "      <td>NaN</td>\n",
       "    </tr>\n",
       "    <tr>\n",
       "      <th>336</th>\n",
       "      <td>0.463611</td>\n",
       "      <td>3</td>\n",
       "      <td>1.0</td>\n",
       "      <td>-0.597455</td>\n",
       "      <td>-1.456956</td>\n",
       "      <td>-2.019751</td>\n",
       "      <td>-2.590405</td>\n",
       "      <td>-1.729823</td>\n",
       "    </tr>\n",
       "    <tr>\n",
       "      <th>519</th>\n",
       "      <td>-0.006400</td>\n",
       "      <td>3</td>\n",
       "      <td>1.0</td>\n",
       "      <td>-0.804538</td>\n",
       "      <td>-0.864735</td>\n",
       "      <td>-1.070940</td>\n",
       "      <td>-1.170179</td>\n",
       "      <td>-0.690217</td>\n",
       "    </tr>\n",
       "    <tr>\n",
       "      <th>720</th>\n",
       "      <td>0.725174</td>\n",
       "      <td>1</td>\n",
       "      <td>1.0</td>\n",
       "      <td>-0.566361</td>\n",
       "      <td>-0.582588</td>\n",
       "      <td>0.087294</td>\n",
       "      <td>0.237602</td>\n",
       "      <td>0.371755</td>\n",
       "    </tr>\n",
       "  </tbody>\n",
       "</table>\n",
       "<p>1102 rows × 8 columns</p>\n",
       "</div>"
      ],
      "text/plain": [
       "     capacity_mw  primary_fuel  geolocation_source  generation_gwh_2014  \\\n",
       "0      -1.209208             0                 0.0             0.305328   \n",
       "2      -0.609534             2                 1.0             0.305328   \n",
       "6      -0.457286             4                 1.0            -1.426131   \n",
       "7       0.087806             4                 1.0            -0.701326   \n",
       "8       0.337727             4                 1.0            -0.902832   \n",
       "..           ...           ...                 ...                  ...   \n",
       "390     1.967979             1                 1.0             1.486813   \n",
       "290    -0.435329             1                 1.0             0.305328   \n",
       "336     0.463611             3                 1.0            -0.597455   \n",
       "519    -0.006400             3                 1.0            -0.804538   \n",
       "720     0.725174             1                 1.0            -0.566361   \n",
       "\n",
       "     generation_gwh_2015  generation_gwh_2016  generation_gwh_2017  \\\n",
       "0               0.317612             0.311709             0.286879   \n",
       "2               0.317612             0.311709             0.286879   \n",
       "6              -1.401709            -1.698476            -1.647618   \n",
       "7              -0.631533            -0.683822            -0.738239   \n",
       "8              -1.421305            -0.976830            -0.988854   \n",
       "..                   ...                  ...                  ...   \n",
       "390             1.344524             1.303349             1.356603   \n",
       "290             0.317612             0.311709             0.286879   \n",
       "336            -1.456956            -2.019751            -2.590405   \n",
       "519            -0.864735            -1.070940            -1.170179   \n",
       "720            -0.582588             0.087294             0.237602   \n",
       "\n",
       "     generation_gwh_2018  \n",
       "0                    NaN  \n",
       "2                    NaN  \n",
       "6              -1.163316  \n",
       "7              -0.433298  \n",
       "8              -0.577825  \n",
       "..                   ...  \n",
       "390             1.460767  \n",
       "290                  NaN  \n",
       "336            -1.729823  \n",
       "519            -0.690217  \n",
       "720             0.371755  \n",
       "\n",
       "[1102 rows x 8 columns]"
      ]
     },
     "execution_count": 72,
     "metadata": {},
     "output_type": "execute_result"
    }
   ],
   "source": [
    "from sklearn.preprocessing import StandardScaler\n",
    "scaler = StandardScaler()\n",
    "x[['capacity_mw','generation_gwh_2014','generation_gwh_2015','generation_gwh_2016','generation_gwh_2017','generation_gwh_2018']] = scaler.fit_transform(x[['capacity_mw','generation_gwh_2014','generation_gwh_2015','generation_gwh_2016','generation_gwh_2017','generation_gwh_2018']])\n",
    "x"
   ]
  },
  {
   "cell_type": "code",
   "execution_count": 73,
   "id": "70c4d302",
   "metadata": {},
   "outputs": [
    {
     "data": {
      "text/html": [
       "<div>\n",
       "<style scoped>\n",
       "    .dataframe tbody tr th:only-of-type {\n",
       "        vertical-align: middle;\n",
       "    }\n",
       "\n",
       "    .dataframe tbody tr th {\n",
       "        vertical-align: top;\n",
       "    }\n",
       "\n",
       "    .dataframe thead th {\n",
       "        text-align: right;\n",
       "    }\n",
       "</style>\n",
       "<table border=\"1\" class=\"dataframe\">\n",
       "  <thead>\n",
       "    <tr style=\"text-align: right;\">\n",
       "      <th></th>\n",
       "      <th>capacity_mw</th>\n",
       "      <th>primary_fuel</th>\n",
       "      <th>geolocation_source</th>\n",
       "      <th>generation_gwh_2014</th>\n",
       "      <th>generation_gwh_2015</th>\n",
       "      <th>generation_gwh_2016</th>\n",
       "      <th>generation_gwh_2017</th>\n",
       "      <th>generation_gwh_2018</th>\n",
       "    </tr>\n",
       "  </thead>\n",
       "  <tbody>\n",
       "    <tr>\n",
       "      <th>0</th>\n",
       "      <td>-1.209208</td>\n",
       "      <td>0</td>\n",
       "      <td>0.0</td>\n",
       "      <td>0.305328</td>\n",
       "      <td>0.317612</td>\n",
       "      <td>0.311709</td>\n",
       "      <td>0.286879</td>\n",
       "      <td>0.000000</td>\n",
       "    </tr>\n",
       "    <tr>\n",
       "      <th>2</th>\n",
       "      <td>-0.609534</td>\n",
       "      <td>2</td>\n",
       "      <td>1.0</td>\n",
       "      <td>0.305328</td>\n",
       "      <td>0.317612</td>\n",
       "      <td>0.311709</td>\n",
       "      <td>0.286879</td>\n",
       "      <td>0.000000</td>\n",
       "    </tr>\n",
       "    <tr>\n",
       "      <th>6</th>\n",
       "      <td>-0.457286</td>\n",
       "      <td>4</td>\n",
       "      <td>1.0</td>\n",
       "      <td>-1.426131</td>\n",
       "      <td>-1.401709</td>\n",
       "      <td>-1.698476</td>\n",
       "      <td>-1.647618</td>\n",
       "      <td>-1.163316</td>\n",
       "    </tr>\n",
       "    <tr>\n",
       "      <th>7</th>\n",
       "      <td>0.087806</td>\n",
       "      <td>4</td>\n",
       "      <td>1.0</td>\n",
       "      <td>-0.701326</td>\n",
       "      <td>-0.631533</td>\n",
       "      <td>-0.683822</td>\n",
       "      <td>-0.738239</td>\n",
       "      <td>-0.433298</td>\n",
       "    </tr>\n",
       "    <tr>\n",
       "      <th>8</th>\n",
       "      <td>0.337727</td>\n",
       "      <td>4</td>\n",
       "      <td>1.0</td>\n",
       "      <td>-0.902832</td>\n",
       "      <td>-1.421305</td>\n",
       "      <td>-0.976830</td>\n",
       "      <td>-0.988854</td>\n",
       "      <td>-0.577825</td>\n",
       "    </tr>\n",
       "    <tr>\n",
       "      <th>...</th>\n",
       "      <td>...</td>\n",
       "      <td>...</td>\n",
       "      <td>...</td>\n",
       "      <td>...</td>\n",
       "      <td>...</td>\n",
       "      <td>...</td>\n",
       "      <td>...</td>\n",
       "      <td>...</td>\n",
       "    </tr>\n",
       "    <tr>\n",
       "      <th>390</th>\n",
       "      <td>1.967979</td>\n",
       "      <td>1</td>\n",
       "      <td>1.0</td>\n",
       "      <td>1.486813</td>\n",
       "      <td>1.344524</td>\n",
       "      <td>1.303349</td>\n",
       "      <td>1.356603</td>\n",
       "      <td>1.460767</td>\n",
       "    </tr>\n",
       "    <tr>\n",
       "      <th>290</th>\n",
       "      <td>-0.435329</td>\n",
       "      <td>1</td>\n",
       "      <td>1.0</td>\n",
       "      <td>0.305328</td>\n",
       "      <td>0.317612</td>\n",
       "      <td>0.311709</td>\n",
       "      <td>0.286879</td>\n",
       "      <td>0.000000</td>\n",
       "    </tr>\n",
       "    <tr>\n",
       "      <th>336</th>\n",
       "      <td>0.463611</td>\n",
       "      <td>3</td>\n",
       "      <td>1.0</td>\n",
       "      <td>-0.597455</td>\n",
       "      <td>-1.456956</td>\n",
       "      <td>-2.019751</td>\n",
       "      <td>-2.590405</td>\n",
       "      <td>-1.729823</td>\n",
       "    </tr>\n",
       "    <tr>\n",
       "      <th>519</th>\n",
       "      <td>-0.006400</td>\n",
       "      <td>3</td>\n",
       "      <td>1.0</td>\n",
       "      <td>-0.804538</td>\n",
       "      <td>-0.864735</td>\n",
       "      <td>-1.070940</td>\n",
       "      <td>-1.170179</td>\n",
       "      <td>-0.690217</td>\n",
       "    </tr>\n",
       "    <tr>\n",
       "      <th>720</th>\n",
       "      <td>0.725174</td>\n",
       "      <td>1</td>\n",
       "      <td>1.0</td>\n",
       "      <td>-0.566361</td>\n",
       "      <td>-0.582588</td>\n",
       "      <td>0.087294</td>\n",
       "      <td>0.237602</td>\n",
       "      <td>0.371755</td>\n",
       "    </tr>\n",
       "  </tbody>\n",
       "</table>\n",
       "<p>1102 rows × 8 columns</p>\n",
       "</div>"
      ],
      "text/plain": [
       "     capacity_mw  primary_fuel  geolocation_source  generation_gwh_2014  \\\n",
       "0      -1.209208             0                 0.0             0.305328   \n",
       "2      -0.609534             2                 1.0             0.305328   \n",
       "6      -0.457286             4                 1.0            -1.426131   \n",
       "7       0.087806             4                 1.0            -0.701326   \n",
       "8       0.337727             4                 1.0            -0.902832   \n",
       "..           ...           ...                 ...                  ...   \n",
       "390     1.967979             1                 1.0             1.486813   \n",
       "290    -0.435329             1                 1.0             0.305328   \n",
       "336     0.463611             3                 1.0            -0.597455   \n",
       "519    -0.006400             3                 1.0            -0.804538   \n",
       "720     0.725174             1                 1.0            -0.566361   \n",
       "\n",
       "     generation_gwh_2015  generation_gwh_2016  generation_gwh_2017  \\\n",
       "0               0.317612             0.311709             0.286879   \n",
       "2               0.317612             0.311709             0.286879   \n",
       "6              -1.401709            -1.698476            -1.647618   \n",
       "7              -0.631533            -0.683822            -0.738239   \n",
       "8              -1.421305            -0.976830            -0.988854   \n",
       "..                   ...                  ...                  ...   \n",
       "390             1.344524             1.303349             1.356603   \n",
       "290             0.317612             0.311709             0.286879   \n",
       "336            -1.456956            -2.019751            -2.590405   \n",
       "519            -0.864735            -1.070940            -1.170179   \n",
       "720            -0.582588             0.087294             0.237602   \n",
       "\n",
       "     generation_gwh_2018  \n",
       "0               0.000000  \n",
       "2               0.000000  \n",
       "6              -1.163316  \n",
       "7              -0.433298  \n",
       "8              -0.577825  \n",
       "..                   ...  \n",
       "390             1.460767  \n",
       "290             0.000000  \n",
       "336            -1.729823  \n",
       "519            -0.690217  \n",
       "720             0.371755  \n",
       "\n",
       "[1102 rows x 8 columns]"
      ]
     },
     "execution_count": 73,
     "metadata": {},
     "output_type": "execute_result"
    }
   ],
   "source": [
    "x=x.fillna(0)\n",
    "x"
   ]
  },
  {
   "cell_type": "code",
   "execution_count": 74,
   "id": "13f4111f",
   "metadata": {},
   "outputs": [
    {
     "name": "stdout",
     "output_type": "stream",
     "text": [
      "2 0.8218036533367481\n",
      "3 0.9335861641514388\n",
      "4 0.9660081026367261\n",
      "5 0.986429783434543\n",
      "6 0.9941115290199323\n",
      "7 0.999011998121216\n"
     ]
    }
   ],
   "source": [
    "from sklearn.decomposition import PCA\n",
    "for i in range(2,8):\n",
    "    pca = PCA(n_components=i)\n",
    "    principalComponents = pca.fit_transform(x)\n",
    "    print(i,sum(pca.explained_variance_ratio_))"
   ]
  },
  {
   "cell_type": "code",
   "execution_count": 75,
   "id": "835c2c9d",
   "metadata": {},
   "outputs": [],
   "source": [
    "pca = PCA(n_components=4)\n",
    "principalComponents = pca.fit_transform(x)"
   ]
  },
  {
   "cell_type": "code",
   "execution_count": 76,
   "id": "99161d66",
   "metadata": {},
   "outputs": [],
   "source": [
    "from sklearn.model_selection import train_test_split\n",
    "from sklearn.metrics import r2_score,mean_absolute_error,mean_squared_error\n",
    "def besttrain(model,x,y):\n",
    "    random=0\n",
    "    score=0\n",
    "    for i in range(42,100):\n",
    "        x_train,x_test,y_train,y_test=train_test_split(x,y,random_state = i,test_size=0.20,stratify=y)\n",
    "        model.fit(x_train,y_train)\n",
    "        tmp=roc_auc_score(y_test,model.predict(x_test))\n",
    "        #print(i,tmp)\n",
    "        if tmp>score:\n",
    "            score=tmp\n",
    "            random=i\n",
    "    print(\"maximum roc_auc_score is at random state :\",random,\" and it is :\",score)"
   ]
  },
  {
   "cell_type": "code",
   "execution_count": 77,
   "id": "42a641a2",
   "metadata": {},
   "outputs": [],
   "source": [
    "from sklearn.model_selection import GridSearchCV\n",
    "from sklearn.linear_model import LogisticRegression\n",
    "from sklearn.neighbors import KNeighborsClassifier\n",
    "from sklearn.tree import DecisionTreeClassifier\n",
    "from sklearn.ensemble import RandomForestClassifier\n",
    "from sklearn.svm import SVC\n",
    "from sklearn.linear_model import RidgeClassifier\n",
    "from sklearn.ensemble import BaggingClassifier\n",
    "from sklearn.ensemble import GradientBoostingClassifier\n",
    "from sklearn.linear_model import Lasso\n",
    "from sklearn.linear_model import ElasticNet\n",
    "from sklearn.linear_model import LassoLars\n",
    "from sklearn.linear_model import BayesianRidge\n",
    "from sklearn.linear_model import SGDClassifier\n",
    "from lightgbm import LGBMClassifier\n",
    "from xgboost import XGBClassifier\n",
    "from sklearn.ensemble import ExtraTreesClassifier\n",
    "from sklearn.semi_supervised import LabelSpreading,LabelPropagation\n",
    "from sklearn.ensemble import AdaBoostClassifier\n",
    "from sklearn.discriminant_analysis import QuadraticDiscriminantAnalysis,LinearDiscriminantAnalysis\n",
    "from sklearn.calibration import CalibratedClassifierCV\n",
    "from sklearn.svm import LinearSVC,NuSVC\n",
    "from sklearn.linear_model import RidgeClassifierCV,PassiveAggressiveClassifier,Perceptron\n",
    "from sklearn.naive_bayes import GaussianNB,BernoulliNB\n",
    "from sklearn.neighbors import NearestCentroid\n",
    "from sklearn.dummy import DummyClassifier\n",
    "\n",
    "models=[LogisticRegression(),DecisionTreeClassifier(),KNeighborsClassifier(),RandomForestClassifier(),SVC(),RidgeClassifier(),\n",
    "        BaggingClassifier(),GradientBoostingClassifier(),SGDClassifier(),\n",
    "       LGBMClassifier(),XGBClassifier(),ExtraTreesClassifier(),AdaBoostClassifier(),\n",
    "       QuadraticDiscriminantAnalysis(),CalibratedClassifierCV(),LinearSVC(),NuSVC(),\n",
    "       LinearDiscriminantAnalysis(),RidgeClassifierCV(),GaussianNB(),BernoulliNB(),\n",
    "        PassiveAggressiveClassifier(),Perceptron(),DummyClassifier()]"
   ]
  },
  {
   "cell_type": "code",
   "execution_count": 78,
   "id": "4a0dffda",
   "metadata": {},
   "outputs": [
    {
     "name": "stdout",
     "output_type": "stream",
     "text": [
      "**********\n",
      "LogisticRegression()\n",
      "score 0.8591405306899432\n",
      "roc 0.7643325143325143\n",
      "diff 0.09480801635742897\n",
      "**********\n",
      "DecisionTreeClassifier()\n",
      "score 0.9727400408580186\n",
      "roc 0.9682637182637183\n",
      "diff 0.004476322594300308\n",
      "roc bigger\n",
      "**********\n",
      "KNeighborsClassifier()\n",
      "score 0.9998975647692451\n",
      "roc 1.0\n",
      "diff 0.000102435230754927\n",
      "**********\n",
      "RandomForestClassifier()\n",
      "score 0.9991232066579997\n",
      "roc 0.9864045864045865\n",
      "diff 0.012718620253413193\n",
      "**********\n",
      "SVC()\n",
      "score 0.9811284125731266\n",
      "roc 0.9681818181818183\n",
      "diff 0.012946594391308297\n",
      "**********\n",
      "RidgeClassifier()\n",
      "score 0.8578184487881882\n",
      "roc 0.7687960687960689\n",
      "diff 0.08902237999211937\n",
      "**********\n",
      "BaggingClassifier()\n",
      "score 0.9985537190082645\n",
      "roc 0.9773546273546273\n",
      "diff 0.021199091653637203\n",
      "**********\n",
      "GradientBoostingClassifier()\n",
      "score 0.9951008101959328\n",
      "roc 0.9864455364455365\n",
      "diff 0.00865527375039632\n",
      "**********\n",
      "SGDClassifier()\n",
      "score 0.8051690616584641\n",
      "roc 0.6563063063063062\n",
      "diff 0.14886275535215798\n",
      "**********\n",
      "LGBMClassifier()\n",
      "score 0.9981149596062773\n",
      "roc 0.9954954954954954\n",
      "diff 0.002619464110781844\n",
      "[21:32:43] WARNING: C:/Users/Administrator/workspace/xgboost-win64_release_1.5.1/src/learner.cc:1115: Starting in XGBoost 1.3.0, the default evaluation metric used with the objective 'binary:logistic' was changed from 'error' to 'logloss'. Explicitly set eval_metric if you'd like to restore the old behavior.\n",
      "[21:32:43] WARNING: C:/Users/Administrator/workspace/xgboost-win64_release_1.5.1/src/learner.cc:1115: Starting in XGBoost 1.3.0, the default evaluation metric used with the objective 'binary:logistic' was changed from 'error' to 'logloss'. Explicitly set eval_metric if you'd like to restore the old behavior.\n",
      "[21:32:43] WARNING: C:/Users/Administrator/workspace/xgboost-win64_release_1.5.1/src/learner.cc:1115: Starting in XGBoost 1.3.0, the default evaluation metric used with the objective 'binary:logistic' was changed from 'error' to 'logloss'. Explicitly set eval_metric if you'd like to restore the old behavior.\n",
      "[21:32:43] WARNING: C:/Users/Administrator/workspace/xgboost-win64_release_1.5.1/src/learner.cc:1115: Starting in XGBoost 1.3.0, the default evaluation metric used with the objective 'binary:logistic' was changed from 'error' to 'logloss'. Explicitly set eval_metric if you'd like to restore the old behavior.\n",
      "[21:32:43] WARNING: C:/Users/Administrator/workspace/xgboost-win64_release_1.5.1/src/learner.cc:1115: Starting in XGBoost 1.3.0, the default evaluation metric used with the objective 'binary:logistic' was changed from 'error' to 'logloss'. Explicitly set eval_metric if you'd like to restore the old behavior.\n",
      "[21:32:43] WARNING: C:/Users/Administrator/workspace/xgboost-win64_release_1.5.1/src/learner.cc:1115: Starting in XGBoost 1.3.0, the default evaluation metric used with the objective 'binary:logistic' was changed from 'error' to 'logloss'. Explicitly set eval_metric if you'd like to restore the old behavior.\n",
      "**********\n",
      "XGBClassifier(base_score=0.5, booster='gbtree', colsample_bylevel=1,\n",
      "              colsample_bynode=1, colsample_bytree=1, enable_categorical=False,\n",
      "              gamma=0, gpu_id=-1, importance_type=None,\n",
      "              interaction_constraints='', learning_rate=0.300000012,\n",
      "              max_delta_step=0, max_depth=6, min_child_weight=1, missing=nan,\n",
      "              monotone_constraints='()', n_estimators=100, n_jobs=8,\n",
      "              num_parallel_tree=1, predictor='auto', random_state=0,\n",
      "              reg_alpha=0, reg_lambda=1, scale_pos_weight=1, subsample=1,\n",
      "              tree_method='exact', validate_parameters=1, verbosity=None)\n",
      "score 0.9983291159810566\n",
      "roc 0.990990990990991\n",
      "diff 0.0073381249900655865\n",
      "roc bigger\n",
      "**********\n",
      "ExtraTreesClassifier()\n",
      "score 0.9996648365679265\n",
      "roc 1.0\n",
      "diff 0.0003351634320735153\n",
      "**********\n",
      "AdaBoostClassifier()\n",
      "score 0.9885983494289163\n",
      "roc 0.9682227682227681\n",
      "diff 0.02037558120614824\n",
      "**********\n",
      "QuadraticDiscriminantAnalysis()\n",
      "score 0.8549499721422602\n",
      "roc 0.7777231777231778\n",
      "diff 0.07722679441908242\n",
      "**********\n",
      "CalibratedClassifierCV()\n",
      "score 0.859594960070573\n",
      "roc 0.7598280098280098\n",
      "diff 0.09976695024256321\n",
      "**********\n",
      "LinearSVC()\n",
      "score 0.8593114495310614\n",
      "roc 0.7687960687960689\n",
      "diff 0.09051538073499255\n",
      "**********\n",
      "NuSVC()\n",
      "score 0.9684914453524003\n",
      "roc 0.8181818181818181\n",
      "diff 0.15030962717058216\n",
      "**********\n",
      "LinearDiscriminantAnalysis()\n",
      "score 0.8578956379422417\n",
      "roc 0.7687960687960689\n",
      "diff 0.08909956914617279\n",
      "**********\n",
      "RidgeClassifierCV(alphas=array([ 0.1,  1. , 10. ]))\n",
      "score 0.8584365423901941\n",
      "roc 0.7687960687960689\n",
      "diff 0.08964047359412519\n",
      "**********\n",
      "GaussianNB()\n",
      "score 0.8330851286098987\n",
      "roc 0.755036855036855\n",
      "diff 0.07804827357304367\n",
      "**********\n",
      "BernoulliNB()\n",
      "score 0.8073817206797289\n",
      "roc 0.733005733005733\n",
      "diff 0.07437598767399589\n",
      "**********\n",
      "PassiveAggressiveClassifier()\n",
      "score 0.7898594925248398\n",
      "roc 0.6834561834561834\n",
      "diff 0.10640330906865636\n",
      "**********\n",
      "Perceptron()\n",
      "score 0.8008209327699879\n",
      "roc 0.7866912366912366\n",
      "diff 0.014129696078751253\n",
      "**********\n",
      "DummyClassifier()\n",
      "score 0.5\n",
      "roc 0.5\n",
      "diff 0.0\n"
     ]
    }
   ],
   "source": [
    "from sklearn.model_selection import cross_val_score\n",
    "from sklearn.metrics import roc_auc_score,roc_curve\n",
    "for i in models:\n",
    "    x_train,x_test,y_train,y_test=train_test_split(principalComponents,y,random_state = 42,test_size=0.20,stratify=y)\n",
    "    scores=cross_val_score(i,x_train,y_train,cv=5,scoring='roc_auc')\n",
    "    score=np.mean(scores)\n",
    "    i.fit(x_train,y_train)\n",
    "    y_pred=i.predict(x_test)\n",
    "    if roc_auc_score(y_test,y_pred)>score:\n",
    "        diff=roc_auc_score(y_test,y_pred)-score\n",
    "        print('roc bigger')\n",
    "    else:\n",
    "        diff=score-roc_auc_score(y_test,y_pred)\n",
    "    print('*'*10)\n",
    "    print(i)\n",
    "    print('score',score)\n",
    "    print('roc',roc_auc_score(y_test,y_pred))\n",
    "    print('diff',diff)"
   ]
  },
  {
   "cell_type": "code",
   "execution_count": 79,
   "id": "e77910cb",
   "metadata": {},
   "outputs": [
    {
     "name": "stdout",
     "output_type": "stream",
     "text": [
      "maximum roc_auc_score is at random state : 42  and it is : 1.0\n"
     ]
    }
   ],
   "source": [
    "besttrain(KNeighborsClassifier(n_neighbors=4,algorithm='auto',weights='uniform'),principalComponents,y)"
   ]
  },
  {
   "cell_type": "code",
   "execution_count": 80,
   "id": "f8380e9e",
   "metadata": {},
   "outputs": [
    {
     "name": "stdout",
     "output_type": "stream",
     "text": [
      "Fitting 10 folds for each of 80 candidates, totalling 800 fits\n"
     ]
    },
    {
     "data": {
      "text/plain": [
       "{'algorithm': 'auto', 'n_neighbors': 5, 'weights': 'uniform'}"
      ]
     },
     "execution_count": 80,
     "metadata": {},
     "output_type": "execute_result"
    }
   ],
   "source": [
    "parameters={\"n_neighbors\":list(range(1,11)),'weights':['uniform', 'distance'],'algorithm':['auto', 'ball_tree', 'kd_tree','brute']}\n",
    "clf = GridSearchCV(KNeighborsClassifier(), parameters, cv=10,scoring=\"roc_auc\",n_jobs=-1,verbose=1)\n",
    "clf.fit(principalComponents,y)\n",
    "clf.best_params_"
   ]
  },
  {
   "cell_type": "code",
   "execution_count": 81,
   "id": "31d1d571",
   "metadata": {},
   "outputs": [],
   "source": [
    "x_train, x_test, y_train, y_test = train_test_split(principalComponents, y,random_state = 43,test_size=0.20,stratify=y)\n",
    "classmodel=KNeighborsClassifier(n_neighbors=4,algorithm='auto',weights='uniform')\n",
    "classmodel.fit(x_train,y_train)\n",
    "y_pred=classmodel.predict(x_test)"
   ]
  },
  {
   "cell_type": "code",
   "execution_count": 82,
   "id": "91f8ae92",
   "metadata": {},
   "outputs": [
    {
     "name": "stdout",
     "output_type": "stream",
     "text": [
      "Confusion matrix \n",
      " [[111   0]\n",
      " [  0 110]]\n",
      "f1 score is :  1.0\n",
      "classification report \n",
      "               precision    recall  f1-score   support\n",
      "\n",
      "           0       1.00      1.00      1.00       111\n",
      "           1       1.00      1.00      1.00       110\n",
      "\n",
      "    accuracy                           1.00       221\n",
      "   macro avg       1.00      1.00      1.00       221\n",
      "weighted avg       1.00      1.00      1.00       221\n",
      "\n",
      "AUC ROC Score:  1.0\n",
      "CV mean 1.0\n",
      "std: 0.0\n"
     ]
    }
   ],
   "source": [
    "from sklearn.metrics import confusion_matrix\n",
    "from sklearn.metrics import f1_score\n",
    "from sklearn.metrics import classification_report\n",
    "print(\"Confusion matrix \\n\",confusion_matrix(y_test,y_pred))\n",
    "print(\"f1 score is : \",f1_score(y_test,y_pred))\n",
    "print(\"classification report \\n\",classification_report(y_test,y_pred))\n",
    "print(\"AUC ROC Score: \",roc_auc_score(y_test,y_pred))\n",
    "scores=cross_val_score(classmodel,principalComponents,y,cv=5,scoring='roc_auc')\n",
    "score=np.mean(scores)\n",
    "std=np.std(scores)\n",
    "print('CV mean',score)\n",
    "print('std:',std)"
   ]
  },
  {
   "cell_type": "code",
   "execution_count": 83,
   "id": "573ca281",
   "metadata": {},
   "outputs": [
    {
     "name": "stdout",
     "output_type": "stream",
     "text": [
      "Confusion matrix \n",
      " [[550   1]\n",
      " [  0 551]]\n",
      "f1 score is :  0.99909338168631\n",
      "classification report \n",
      "               precision    recall  f1-score   support\n",
      "\n",
      "           0       1.00      1.00      1.00       551\n",
      "           1       1.00      1.00      1.00       551\n",
      "\n",
      "    accuracy                           1.00      1102\n",
      "   macro avg       1.00      1.00      1.00      1102\n",
      "weighted avg       1.00      1.00      1.00      1102\n",
      "\n",
      "AUC ROC Score:  0.999092558983666\n",
      "CV mean 1.0\n",
      "std: 0.0\n"
     ]
    }
   ],
   "source": [
    "y_pred=classmodel.predict(principalComponents)\n",
    "print(\"Confusion matrix \\n\",confusion_matrix(y,y_pred))\n",
    "print(\"f1 score is : \",f1_score(y,y_pred))\n",
    "print(\"classification report \\n\",classification_report(y,y_pred))\n",
    "print(\"AUC ROC Score: \",roc_auc_score(y,y_pred))\n",
    "scores=cross_val_score(classmodel,principalComponents,y,cv=5,scoring='roc_auc')\n",
    "score=np.mean(scores)\n",
    "std=np.std(scores)\n",
    "print('CV mean',score)\n",
    "print('std:',std)"
   ]
  },
  {
   "cell_type": "code",
   "execution_count": 84,
   "id": "c639ceb8",
   "metadata": {},
   "outputs": [
    {
     "data": {
      "image/png": "[encoded data removed]",
      "text/plain": [
       "<Figure size 432x288 with 1 Axes>"
      ]
     },
     "metadata": {
      "needs_background": "light"
     },
     "output_type": "display_data"
    }
   ],
   "source": [
    "fpr, tpr, threshold = roc_curve(y,y_pred)\n",
    "auc = roc_auc_score(y,y_pred)\n",
    "plt.plot(fpr, tpr, color ='orange', label ='ROC')\n",
    "plt.plot([0, 1], [0, 1], color='darkblue', linestyle='--', label ='ROC curve (area = %0.3f)'% auc)\n",
    "plt.xlabel('False Positive Rate')\n",
    "plt.ylabel('True Positive Rate')\n",
    "plt.legend()\n",
    "plt.show()"
   ]
  },
  {
   "cell_type": "code",
   "execution_count": 85,
   "id": "db046590",
   "metadata": {},
   "outputs": [
    {
     "data": {
      "text/html": [
       "<div>\n",
       "<style scoped>\n",
       "    .dataframe tbody tr th:only-of-type {\n",
       "        vertical-align: middle;\n",
       "    }\n",
       "\n",
       "    .dataframe tbody tr th {\n",
       "        vertical-align: top;\n",
       "    }\n",
       "\n",
       "    .dataframe thead th {\n",
       "        text-align: right;\n",
       "    }\n",
       "</style>\n",
       "<table border=\"1\" class=\"dataframe\">\n",
       "  <thead>\n",
       "    <tr style=\"text-align: right;\">\n",
       "      <th></th>\n",
       "      <th>fuel_type</th>\n",
       "      <th>fuel_typepred</th>\n",
       "    </tr>\n",
       "  </thead>\n",
       "  <tbody>\n",
       "    <tr>\n",
       "      <th>0</th>\n",
       "      <td>0</td>\n",
       "      <td>0</td>\n",
       "    </tr>\n",
       "    <tr>\n",
       "      <th>2</th>\n",
       "      <td>0</td>\n",
       "      <td>0</td>\n",
       "    </tr>\n",
       "    <tr>\n",
       "      <th>6</th>\n",
       "      <td>0</td>\n",
       "      <td>0</td>\n",
       "    </tr>\n",
       "    <tr>\n",
       "      <th>7</th>\n",
       "      <td>0</td>\n",
       "      <td>0</td>\n",
       "    </tr>\n",
       "    <tr>\n",
       "      <th>8</th>\n",
       "      <td>0</td>\n",
       "      <td>0</td>\n",
       "    </tr>\n",
       "    <tr>\n",
       "      <th>...</th>\n",
       "      <td>...</td>\n",
       "      <td>...</td>\n",
       "    </tr>\n",
       "    <tr>\n",
       "      <th>390</th>\n",
       "      <td>1</td>\n",
       "      <td>1</td>\n",
       "    </tr>\n",
       "    <tr>\n",
       "      <th>290</th>\n",
       "      <td>1</td>\n",
       "      <td>1</td>\n",
       "    </tr>\n",
       "    <tr>\n",
       "      <th>336</th>\n",
       "      <td>1</td>\n",
       "      <td>1</td>\n",
       "    </tr>\n",
       "    <tr>\n",
       "      <th>519</th>\n",
       "      <td>1</td>\n",
       "      <td>1</td>\n",
       "    </tr>\n",
       "    <tr>\n",
       "      <th>720</th>\n",
       "      <td>1</td>\n",
       "      <td>1</td>\n",
       "    </tr>\n",
       "  </tbody>\n",
       "</table>\n",
       "<p>1102 rows × 2 columns</p>\n",
       "</div>"
      ],
      "text/plain": [
       "     fuel_type  fuel_typepred\n",
       "0            0              0\n",
       "2            0              0\n",
       "6            0              0\n",
       "7            0              0\n",
       "8            0              0\n",
       "..         ...            ...\n",
       "390          1              1\n",
       "290          1              1\n",
       "336          1              1\n",
       "519          1              1\n",
       "720          1              1\n",
       "\n",
       "[1102 rows x 2 columns]"
      ]
     },
     "execution_count": 85,
     "metadata": {},
     "output_type": "execute_result"
    }
   ],
   "source": [
    "x['fuel_typepred']=y_pred\n",
    "x['fuel_type']=y\n",
    "x[['fuel_type','fuel_typepred']]"
   ]
  },
  {
   "cell_type": "code",
   "execution_count": 86,
   "id": "3b04ff0e",
   "metadata": {},
   "outputs": [
    {
     "name": "stdout",
     "output_type": "stream",
     "text": [
      "Number of falsely predicted fuel_type nonrenewable -1\n"
     ]
    }
   ],
   "source": [
    "print('Number of falsely predicted fuel_type nonrenewable',x.fuel_type.value_counts()[1]-x.fuel_typepred.value_counts()[1])"
   ]
  },
  {
   "cell_type": "code",
   "execution_count": 87,
   "id": "cbf650b9",
   "metadata": {},
   "outputs": [
    {
     "name": "stdout",
     "output_type": "stream",
     "text": [
      "Number of falsely predicted fuel_type renewable -1\n"
     ]
    }
   ],
   "source": [
    "print('Number of falsely predicted fuel_type renewable',x.fuel_typepred.value_counts()[0]-x.fuel_type.value_counts()[0])"
   ]
  },
  {
   "cell_type": "code",
   "execution_count": 88,
   "id": "00941c9d",
   "metadata": {},
   "outputs": [
    {
     "data": {
      "image/png": "[encoded data removed]",
      "text/plain": [
       "<Figure size 432x288 with 1 Axes>"
      ]
     },
     "metadata": {
      "needs_background": "light"
     },
     "output_type": "display_data"
    },
    {
     "data": {
      "text/plain": [
       "<AxesSubplot:xlabel='fuel_typepred', ylabel='Density'>"
      ]
     },
     "execution_count": 88,
     "metadata": {},
     "output_type": "execute_result"
    },
    {
     "data": {
      "image/png": "[encoded data removed]",
      "text/plain": [
       "<Figure size 432x288 with 1 Axes>"
      ]
     },
     "metadata": {
      "needs_background": "light"
     },
     "output_type": "display_data"
    }
   ],
   "source": [
    "sn.distplot(x['fuel_type'])\n",
    "plt.show()\n",
    "sn.distplot(x['fuel_typepred'])"
   ]
  },
  {
   "cell_type": "code",
   "execution_count": 89,
   "id": "07c6f4d5",
   "metadata": {},
   "outputs": [
    {
     "data": {
      "text/plain": [
       "<AxesSubplot:>"
      ]
     },
     "execution_count": 89,
     "metadata": {},
     "output_type": "execute_result"
    },
    {
     "data": {
      "image/png": "[encoded data removed]",
      "text/plain": [
       "<Figure size 432x288 with 2 Axes>"
      ]
     },
     "metadata": {
      "needs_background": "light"
     },
     "output_type": "display_data"
    }
   ],
   "source": [
    "sn.heatmap(confusion_matrix(x['fuel_type'],x['fuel_typepred']),annot=True,cmap=\"Oranges\",xticklabels=classmodel.classes_\n",
    "               ,yticklabels=classmodel.classes_)"
   ]
  },
  {
   "cell_type": "code",
   "execution_count": 90,
   "id": "ac398528",
   "metadata": {},
   "outputs": [
    {
     "data": {
      "text/plain": [
       "['fuel_type.pkl']"
      ]
     },
     "execution_count": 90,
     "metadata": {},
     "output_type": "execute_result"
    }
   ],
   "source": [
    "import joblib #Save model\n",
    "joblib.dump(classmodel, 'fuel_type.pkl')"
   ]
  },
  {
   "cell_type": "code",
   "execution_count": 91,
   "id": "48dba75c",
   "metadata": {},
   "outputs": [
    {
     "data": {
      "text/html": [
       "<div>\n",
       "<style scoped>\n",
       "    .dataframe tbody tr th:only-of-type {\n",
       "        vertical-align: middle;\n",
       "    }\n",
       "\n",
       "    .dataframe tbody tr th {\n",
       "        vertical-align: top;\n",
       "    }\n",
       "\n",
       "    .dataframe thead th {\n",
       "        text-align: right;\n",
       "    }\n",
       "</style>\n",
       "<table border=\"1\" class=\"dataframe\">\n",
       "  <thead>\n",
       "    <tr style=\"text-align: right;\">\n",
       "      <th></th>\n",
       "      <th>primary_fuel</th>\n",
       "      <th>geolocation_source</th>\n",
       "      <th>generation_gwh_2014</th>\n",
       "      <th>generation_gwh_2015</th>\n",
       "      <th>generation_gwh_2016</th>\n",
       "      <th>generation_gwh_2017</th>\n",
       "      <th>generation_gwh_2018</th>\n",
       "      <th>fuel_type</th>\n",
       "    </tr>\n",
       "  </thead>\n",
       "  <tbody>\n",
       "    <tr>\n",
       "      <th>0</th>\n",
       "      <td>0</td>\n",
       "      <td>0</td>\n",
       "      <td>2431.82359</td>\n",
       "      <td>2428.226946</td>\n",
       "      <td>2467.936859</td>\n",
       "      <td>2547.759305</td>\n",
       "      <td>NaN</td>\n",
       "      <td>0</td>\n",
       "    </tr>\n",
       "    <tr>\n",
       "      <th>2</th>\n",
       "      <td>2</td>\n",
       "      <td>1</td>\n",
       "      <td>2431.82359</td>\n",
       "      <td>2428.226946</td>\n",
       "      <td>2467.936859</td>\n",
       "      <td>2547.759305</td>\n",
       "      <td>NaN</td>\n",
       "      <td>0</td>\n",
       "    </tr>\n",
       "    <tr>\n",
       "      <th>6</th>\n",
       "      <td>4</td>\n",
       "      <td>1</td>\n",
       "      <td>157.55825</td>\n",
       "      <td>152.195200</td>\n",
       "      <td>61.421350</td>\n",
       "      <td>89.629600</td>\n",
       "      <td>48.32715</td>\n",
       "      <td>0</td>\n",
       "    </tr>\n",
       "    <tr>\n",
       "      <th>7</th>\n",
       "      <td>4</td>\n",
       "      <td>1</td>\n",
       "      <td>674.39110</td>\n",
       "      <td>721.335200</td>\n",
       "      <td>675.724400</td>\n",
       "      <td>679.594950</td>\n",
       "      <td>579.31885</td>\n",
       "      <td>0</td>\n",
       "    </tr>\n",
       "    <tr>\n",
       "      <th>8</th>\n",
       "      <td>4</td>\n",
       "      <td>1</td>\n",
       "      <td>480.59495</td>\n",
       "      <td>144.434200</td>\n",
       "      <td>402.029750</td>\n",
       "      <td>439.372100</td>\n",
       "      <td>406.37790</td>\n",
       "      <td>0</td>\n",
       "    </tr>\n",
       "    <tr>\n",
       "      <th>...</th>\n",
       "      <td>...</td>\n",
       "      <td>...</td>\n",
       "      <td>...</td>\n",
       "      <td>...</td>\n",
       "      <td>...</td>\n",
       "      <td>...</td>\n",
       "      <td>...</td>\n",
       "      <td>...</td>\n",
       "    </tr>\n",
       "    <tr>\n",
       "      <th>390</th>\n",
       "      <td>1</td>\n",
       "      <td>1</td>\n",
       "      <td>6792.30300</td>\n",
       "      <td>6108.419000</td>\n",
       "      <td>6062.339491</td>\n",
       "      <td>6576.796000</td>\n",
       "      <td>8633.52700</td>\n",
       "      <td>1</td>\n",
       "    </tr>\n",
       "    <tr>\n",
       "      <th>290</th>\n",
       "      <td>1</td>\n",
       "      <td>1</td>\n",
       "      <td>2431.82359</td>\n",
       "      <td>2428.226946</td>\n",
       "      <td>2467.936859</td>\n",
       "      <td>2547.759305</td>\n",
       "      <td>NaN</td>\n",
       "      <td>1</td>\n",
       "    </tr>\n",
       "    <tr>\n",
       "      <th>336</th>\n",
       "      <td>3</td>\n",
       "      <td>1</td>\n",
       "      <td>792.00000</td>\n",
       "      <td>131.000000</td>\n",
       "      <td>14.107692</td>\n",
       "      <td>0.000000</td>\n",
       "      <td>0.00000</td>\n",
       "      <td>1</td>\n",
       "    </tr>\n",
       "    <tr>\n",
       "      <th>519</th>\n",
       "      <td>3</td>\n",
       "      <td>1</td>\n",
       "      <td>569.67400</td>\n",
       "      <td>487.339000</td>\n",
       "      <td>333.180000</td>\n",
       "      <td>306.396000</td>\n",
       "      <td>298.66300</td>\n",
       "      <td>1</td>\n",
       "    </tr>\n",
       "    <tr>\n",
       "      <th>720</th>\n",
       "      <td>1</td>\n",
       "      <td>1</td>\n",
       "      <td>829.69100</td>\n",
       "      <td>778.430000</td>\n",
       "      <td>1927.747000</td>\n",
       "      <td>2419.087000</td>\n",
       "      <td>2467.24250</td>\n",
       "      <td>1</td>\n",
       "    </tr>\n",
       "  </tbody>\n",
       "</table>\n",
       "<p>1102 rows × 8 columns</p>\n",
       "</div>"
      ],
      "text/plain": [
       "     primary_fuel  geolocation_source  generation_gwh_2014  \\\n",
       "0               0                   0           2431.82359   \n",
       "2               2                   1           2431.82359   \n",
       "6               4                   1            157.55825   \n",
       "7               4                   1            674.39110   \n",
       "8               4                   1            480.59495   \n",
       "..            ...                 ...                  ...   \n",
       "390             1                   1           6792.30300   \n",
       "290             1                   1           2431.82359   \n",
       "336             3                   1            792.00000   \n",
       "519             3                   1            569.67400   \n",
       "720             1                   1            829.69100   \n",
       "\n",
       "     generation_gwh_2015  generation_gwh_2016  generation_gwh_2017  \\\n",
       "0            2428.226946          2467.936859          2547.759305   \n",
       "2            2428.226946          2467.936859          2547.759305   \n",
       "6             152.195200            61.421350            89.629600   \n",
       "7             721.335200           675.724400           679.594950   \n",
       "8             144.434200           402.029750           439.372100   \n",
       "..                   ...                  ...                  ...   \n",
       "390          6108.419000          6062.339491          6576.796000   \n",
       "290          2428.226946          2467.936859          2547.759305   \n",
       "336           131.000000            14.107692             0.000000   \n",
       "519           487.339000           333.180000           306.396000   \n",
       "720           778.430000          1927.747000          2419.087000   \n",
       "\n",
       "     generation_gwh_2018  fuel_type  \n",
       "0                    NaN          0  \n",
       "2                    NaN          0  \n",
       "6               48.32715          0  \n",
       "7              579.31885          0  \n",
       "8              406.37790          0  \n",
       "..                   ...        ...  \n",
       "390           8633.52700          1  \n",
       "290                  NaN          1  \n",
       "336              0.00000          1  \n",
       "519            298.66300          1  \n",
       "720           2467.24250          1  \n",
       "\n",
       "[1102 rows x 8 columns]"
      ]
     },
     "execution_count": 91,
     "metadata": {},
     "output_type": "execute_result"
    }
   ],
   "source": [
    "y = dff[['capacity_mw']]\n",
    "x = dff.drop(columns = ['capacity_mw'])\n",
    "x"
   ]
  },
  {
   "cell_type": "code",
   "execution_count": 92,
   "id": "7db3919f",
   "metadata": {},
   "outputs": [
    {
     "name": "stdout",
     "output_type": "stream",
     "text": [
      "primary_fuel           0.547727\n",
      "geolocation_source     2.197769\n",
      "generation_gwh_2014    4.566528\n",
      "generation_gwh_2015    4.685960\n",
      "generation_gwh_2016    4.426905\n",
      "generation_gwh_2017    4.320531\n",
      "generation_gwh_2018    2.989030\n",
      "fuel_type              0.000000\n",
      "dtype: float64\n",
      "6\n"
     ]
    }
   ],
   "source": [
    "print(x.skew())\n",
    "print(len(x.skew().loc[x.skew()>0.55]))"
   ]
  },
  {
   "cell_type": "code",
   "execution_count": 93,
   "id": "b94b81d2",
   "metadata": {},
   "outputs": [],
   "source": [
    "for index in x.skew().index:\n",
    "    if x.skew().loc[index] >0.55:\n",
    "        x[index]=np.cbrt(x[index])"
   ]
  },
  {
   "cell_type": "code",
   "execution_count": 94,
   "id": "36cf2cd6",
   "metadata": {},
   "outputs": [
    {
     "name": "stdout",
     "output_type": "stream",
     "text": [
      "primary_fuel           0.547727\n",
      "geolocation_source    -2.306628\n",
      "generation_gwh_2014   -0.627393\n",
      "generation_gwh_2015   -0.423251\n",
      "generation_gwh_2016   -0.473216\n",
      "generation_gwh_2017   -0.528714\n",
      "generation_gwh_2018    0.188594\n",
      "fuel_type              0.000000\n",
      "dtype: float64\n",
      "0\n"
     ]
    }
   ],
   "source": [
    "print(x.skew())\n",
    "print(len(x.skew().loc[x.skew()>0.55]))"
   ]
  },
  {
   "cell_type": "code",
   "execution_count": 95,
   "id": "862a554b",
   "metadata": {},
   "outputs": [
    {
     "data": {
      "text/html": [
       "<div>\n",
       "<style scoped>\n",
       "    .dataframe tbody tr th:only-of-type {\n",
       "        vertical-align: middle;\n",
       "    }\n",
       "\n",
       "    .dataframe tbody tr th {\n",
       "        vertical-align: top;\n",
       "    }\n",
       "\n",
       "    .dataframe thead th {\n",
       "        text-align: right;\n",
       "    }\n",
       "</style>\n",
       "<table border=\"1\" class=\"dataframe\">\n",
       "  <thead>\n",
       "    <tr style=\"text-align: right;\">\n",
       "      <th></th>\n",
       "      <th>primary_fuel</th>\n",
       "      <th>geolocation_source</th>\n",
       "      <th>generation_gwh_2014</th>\n",
       "      <th>generation_gwh_2015</th>\n",
       "      <th>generation_gwh_2016</th>\n",
       "      <th>generation_gwh_2017</th>\n",
       "      <th>generation_gwh_2018</th>\n",
       "      <th>fuel_type</th>\n",
       "    </tr>\n",
       "  </thead>\n",
       "  <tbody>\n",
       "    <tr>\n",
       "      <th>0</th>\n",
       "      <td>0</td>\n",
       "      <td>0.0</td>\n",
       "      <td>13.447576</td>\n",
       "      <td>13.440944</td>\n",
       "      <td>13.513816</td>\n",
       "      <td>13.657969</td>\n",
       "      <td>NaN</td>\n",
       "      <td>0</td>\n",
       "    </tr>\n",
       "    <tr>\n",
       "      <th>2</th>\n",
       "      <td>2</td>\n",
       "      <td>1.0</td>\n",
       "      <td>13.447576</td>\n",
       "      <td>13.440944</td>\n",
       "      <td>13.513816</td>\n",
       "      <td>13.657969</td>\n",
       "      <td>NaN</td>\n",
       "      <td>0</td>\n",
       "    </tr>\n",
       "    <tr>\n",
       "      <th>6</th>\n",
       "      <td>4</td>\n",
       "      <td>1.0</td>\n",
       "      <td>5.401077</td>\n",
       "      <td>5.339087</td>\n",
       "      <td>3.945540</td>\n",
       "      <td>4.475248</td>\n",
       "      <td>3.642479</td>\n",
       "      <td>0</td>\n",
       "    </tr>\n",
       "    <tr>\n",
       "      <th>7</th>\n",
       "      <td>4</td>\n",
       "      <td>1.0</td>\n",
       "      <td>8.769415</td>\n",
       "      <td>8.968346</td>\n",
       "      <td>8.775190</td>\n",
       "      <td>8.791913</td>\n",
       "      <td>8.336285</td>\n",
       "      <td>0</td>\n",
       "    </tr>\n",
       "    <tr>\n",
       "      <th>8</th>\n",
       "      <td>4</td>\n",
       "      <td>1.0</td>\n",
       "      <td>7.832969</td>\n",
       "      <td>5.246746</td>\n",
       "      <td>7.380505</td>\n",
       "      <td>7.602285</td>\n",
       "      <td>7.407017</td>\n",
       "      <td>0</td>\n",
       "    </tr>\n",
       "    <tr>\n",
       "      <th>...</th>\n",
       "      <td>...</td>\n",
       "      <td>...</td>\n",
       "      <td>...</td>\n",
       "      <td>...</td>\n",
       "      <td>...</td>\n",
       "      <td>...</td>\n",
       "      <td>...</td>\n",
       "      <td>...</td>\n",
       "    </tr>\n",
       "    <tr>\n",
       "      <th>390</th>\n",
       "      <td>1</td>\n",
       "      <td>1.0</td>\n",
       "      <td>18.938214</td>\n",
       "      <td>18.280003</td>\n",
       "      <td>18.233922</td>\n",
       "      <td>18.735766</td>\n",
       "      <td>20.514586</td>\n",
       "      <td>1</td>\n",
       "    </tr>\n",
       "    <tr>\n",
       "      <th>290</th>\n",
       "      <td>1</td>\n",
       "      <td>1.0</td>\n",
       "      <td>13.447576</td>\n",
       "      <td>13.440944</td>\n",
       "      <td>13.513816</td>\n",
       "      <td>13.657969</td>\n",
       "      <td>NaN</td>\n",
       "      <td>1</td>\n",
       "    </tr>\n",
       "    <tr>\n",
       "      <th>336</th>\n",
       "      <td>3</td>\n",
       "      <td>1.0</td>\n",
       "      <td>9.252130</td>\n",
       "      <td>5.078753</td>\n",
       "      <td>2.416306</td>\n",
       "      <td>0.000000</td>\n",
       "      <td>0.000000</td>\n",
       "      <td>1</td>\n",
       "    </tr>\n",
       "    <tr>\n",
       "      <th>519</th>\n",
       "      <td>3</td>\n",
       "      <td>1.0</td>\n",
       "      <td>8.289763</td>\n",
       "      <td>7.869438</td>\n",
       "      <td>6.932549</td>\n",
       "      <td>6.741570</td>\n",
       "      <td>6.684370</td>\n",
       "      <td>1</td>\n",
       "    </tr>\n",
       "    <tr>\n",
       "      <th>720</th>\n",
       "      <td>1</td>\n",
       "      <td>1.0</td>\n",
       "      <td>9.396630</td>\n",
       "      <td>9.198984</td>\n",
       "      <td>12.445624</td>\n",
       "      <td>13.424058</td>\n",
       "      <td>13.512549</td>\n",
       "      <td>1</td>\n",
       "    </tr>\n",
       "  </tbody>\n",
       "</table>\n",
       "<p>1102 rows × 8 columns</p>\n",
       "</div>"
      ],
      "text/plain": [
       "     primary_fuel  geolocation_source  generation_gwh_2014  \\\n",
       "0               0                 0.0            13.447576   \n",
       "2               2                 1.0            13.447576   \n",
       "6               4                 1.0             5.401077   \n",
       "7               4                 1.0             8.769415   \n",
       "8               4                 1.0             7.832969   \n",
       "..            ...                 ...                  ...   \n",
       "390             1                 1.0            18.938214   \n",
       "290             1                 1.0            13.447576   \n",
       "336             3                 1.0             9.252130   \n",
       "519             3                 1.0             8.289763   \n",
       "720             1                 1.0             9.396630   \n",
       "\n",
       "     generation_gwh_2015  generation_gwh_2016  generation_gwh_2017  \\\n",
       "0              13.440944            13.513816            13.657969   \n",
       "2              13.440944            13.513816            13.657969   \n",
       "6               5.339087             3.945540             4.475248   \n",
       "7               8.968346             8.775190             8.791913   \n",
       "8               5.246746             7.380505             7.602285   \n",
       "..                   ...                  ...                  ...   \n",
       "390            18.280003            18.233922            18.735766   \n",
       "290            13.440944            13.513816            13.657969   \n",
       "336             5.078753             2.416306             0.000000   \n",
       "519             7.869438             6.932549             6.741570   \n",
       "720             9.198984            12.445624            13.424058   \n",
       "\n",
       "     generation_gwh_2018  fuel_type  \n",
       "0                    NaN          0  \n",
       "2                    NaN          0  \n",
       "6               3.642479          0  \n",
       "7               8.336285          0  \n",
       "8               7.407017          0  \n",
       "..                   ...        ...  \n",
       "390            20.514586          1  \n",
       "290                  NaN          1  \n",
       "336             0.000000          1  \n",
       "519             6.684370          1  \n",
       "720            13.512549          1  \n",
       "\n",
       "[1102 rows x 8 columns]"
      ]
     },
     "execution_count": 95,
     "metadata": {},
     "output_type": "execute_result"
    }
   ],
   "source": [
    "x"
   ]
  },
  {
   "cell_type": "code",
   "execution_count": 100,
   "id": "6015a2d6",
   "metadata": {},
   "outputs": [],
   "source": [
    "scaler = StandardScaler()\n",
    "x[['generation_gwh_2014','generation_gwh_2015','generation_gwh_2016','generation_gwh_2017','generation_gwh_2018']] = scaler.fit_transform(x[['generation_gwh_2014','generation_gwh_2015','generation_gwh_2016','generation_gwh_2017','generation_gwh_2018']])\n",
    "x=x.fillna(0)"
   ]
  },
  {
   "cell_type": "code",
   "execution_count": 101,
   "id": "a5e04986",
   "metadata": {},
   "outputs": [
    {
     "data": {
      "text/html": [
       "<div>\n",
       "<style scoped>\n",
       "    .dataframe tbody tr th:only-of-type {\n",
       "        vertical-align: middle;\n",
       "    }\n",
       "\n",
       "    .dataframe tbody tr th {\n",
       "        vertical-align: top;\n",
       "    }\n",
       "\n",
       "    .dataframe thead th {\n",
       "        text-align: right;\n",
       "    }\n",
       "</style>\n",
       "<table border=\"1\" class=\"dataframe\">\n",
       "  <thead>\n",
       "    <tr style=\"text-align: right;\">\n",
       "      <th></th>\n",
       "      <th>vif</th>\n",
       "      <th>Features</th>\n",
       "    </tr>\n",
       "  </thead>\n",
       "  <tbody>\n",
       "    <tr>\n",
       "      <th>0</th>\n",
       "      <td>2.990474</td>\n",
       "      <td>primary_fuel</td>\n",
       "    </tr>\n",
       "    <tr>\n",
       "      <th>1</th>\n",
       "      <td>4.261675</td>\n",
       "      <td>geolocation_source</td>\n",
       "    </tr>\n",
       "    <tr>\n",
       "      <th>2</th>\n",
       "      <td>3.639149</td>\n",
       "      <td>generation_gwh_2014</td>\n",
       "    </tr>\n",
       "    <tr>\n",
       "      <th>3</th>\n",
       "      <td>7.121339</td>\n",
       "      <td>generation_gwh_2015</td>\n",
       "    </tr>\n",
       "    <tr>\n",
       "      <th>4</th>\n",
       "      <td>10.251244</td>\n",
       "      <td>generation_gwh_2016</td>\n",
       "    </tr>\n",
       "    <tr>\n",
       "      <th>5</th>\n",
       "      <td>7.557564</td>\n",
       "      <td>generation_gwh_2017</td>\n",
       "    </tr>\n",
       "    <tr>\n",
       "      <th>6</th>\n",
       "      <td>6.383451</td>\n",
       "      <td>generation_gwh_2018</td>\n",
       "    </tr>\n",
       "    <tr>\n",
       "      <th>7</th>\n",
       "      <td>2.183509</td>\n",
       "      <td>fuel_type</td>\n",
       "    </tr>\n",
       "  </tbody>\n",
       "</table>\n",
       "</div>"
      ],
      "text/plain": [
       "         vif             Features\n",
       "0   2.990474         primary_fuel\n",
       "1   4.261675   geolocation_source\n",
       "2   3.639149  generation_gwh_2014\n",
       "3   7.121339  generation_gwh_2015\n",
       "4  10.251244  generation_gwh_2016\n",
       "5   7.557564  generation_gwh_2017\n",
       "6   6.383451  generation_gwh_2018\n",
       "7   2.183509            fuel_type"
      ]
     },
     "execution_count": 101,
     "metadata": {},
     "output_type": "execute_result"
    }
   ],
   "source": [
    "from statsmodels.stats.outliers_influence import variance_inflation_factor\n",
    "vif = pd.DataFrame()\n",
    "vif[\"vif\"] = [variance_inflation_factor(x.values,i) for i in range(x.shape[1]) ]\n",
    "vif[\"Features\"] = x.columns\n",
    "vif"
   ]
  },
  {
   "cell_type": "code",
   "execution_count": 102,
   "id": "861fa684",
   "metadata": {},
   "outputs": [
    {
     "data": {
      "text/html": [
       "<div>\n",
       "<style scoped>\n",
       "    .dataframe tbody tr th:only-of-type {\n",
       "        vertical-align: middle;\n",
       "    }\n",
       "\n",
       "    .dataframe tbody tr th {\n",
       "        vertical-align: top;\n",
       "    }\n",
       "\n",
       "    .dataframe thead th {\n",
       "        text-align: right;\n",
       "    }\n",
       "</style>\n",
       "<table border=\"1\" class=\"dataframe\">\n",
       "  <thead>\n",
       "    <tr style=\"text-align: right;\">\n",
       "      <th></th>\n",
       "      <th>vif</th>\n",
       "      <th>Features</th>\n",
       "    </tr>\n",
       "  </thead>\n",
       "  <tbody>\n",
       "    <tr>\n",
       "      <th>0</th>\n",
       "      <td>2.967130</td>\n",
       "      <td>primary_fuel</td>\n",
       "    </tr>\n",
       "    <tr>\n",
       "      <th>1</th>\n",
       "      <td>4.214377</td>\n",
       "      <td>geolocation_source</td>\n",
       "    </tr>\n",
       "    <tr>\n",
       "      <th>2</th>\n",
       "      <td>3.633716</td>\n",
       "      <td>generation_gwh_2014</td>\n",
       "    </tr>\n",
       "    <tr>\n",
       "      <th>3</th>\n",
       "      <td>4.406579</td>\n",
       "      <td>generation_gwh_2015</td>\n",
       "    </tr>\n",
       "    <tr>\n",
       "      <th>4</th>\n",
       "      <td>6.385669</td>\n",
       "      <td>generation_gwh_2017</td>\n",
       "    </tr>\n",
       "    <tr>\n",
       "      <th>5</th>\n",
       "      <td>6.222504</td>\n",
       "      <td>generation_gwh_2018</td>\n",
       "    </tr>\n",
       "    <tr>\n",
       "      <th>6</th>\n",
       "      <td>2.164079</td>\n",
       "      <td>fuel_type</td>\n",
       "    </tr>\n",
       "  </tbody>\n",
       "</table>\n",
       "</div>"
      ],
      "text/plain": [
       "        vif             Features\n",
       "0  2.967130         primary_fuel\n",
       "1  4.214377   geolocation_source\n",
       "2  3.633716  generation_gwh_2014\n",
       "3  4.406579  generation_gwh_2015\n",
       "4  6.385669  generation_gwh_2017\n",
       "5  6.222504  generation_gwh_2018\n",
       "6  2.164079            fuel_type"
      ]
     },
     "execution_count": 102,
     "metadata": {},
     "output_type": "execute_result"
    }
   ],
   "source": [
    "x=x.drop(['generation_gwh_2016'],axis=1)\n",
    "vif = pd.DataFrame()\n",
    "vif[\"vif\"] = [variance_inflation_factor(x.values,i) for i in range(x.shape[1]) ]\n",
    "vif[\"Features\"] = x.columns\n",
    "vif"
   ]
  },
  {
   "cell_type": "code",
   "execution_count": 103,
   "id": "093a7b3b",
   "metadata": {},
   "outputs": [
    {
     "data": {
      "text/html": [
       "<div>\n",
       "<style scoped>\n",
       "    .dataframe tbody tr th:only-of-type {\n",
       "        vertical-align: middle;\n",
       "    }\n",
       "\n",
       "    .dataframe tbody tr th {\n",
       "        vertical-align: top;\n",
       "    }\n",
       "\n",
       "    .dataframe thead th {\n",
       "        text-align: right;\n",
       "    }\n",
       "</style>\n",
       "<table border=\"1\" class=\"dataframe\">\n",
       "  <thead>\n",
       "    <tr style=\"text-align: right;\">\n",
       "      <th></th>\n",
       "      <th>vif</th>\n",
       "      <th>Features</th>\n",
       "    </tr>\n",
       "  </thead>\n",
       "  <tbody>\n",
       "    <tr>\n",
       "      <th>0</th>\n",
       "      <td>2.960905</td>\n",
       "      <td>primary_fuel</td>\n",
       "    </tr>\n",
       "    <tr>\n",
       "      <th>1</th>\n",
       "      <td>4.190726</td>\n",
       "      <td>geolocation_source</td>\n",
       "    </tr>\n",
       "    <tr>\n",
       "      <th>2</th>\n",
       "      <td>3.011683</td>\n",
       "      <td>generation_gwh_2015</td>\n",
       "    </tr>\n",
       "    <tr>\n",
       "      <th>3</th>\n",
       "      <td>6.337688</td>\n",
       "      <td>generation_gwh_2017</td>\n",
       "    </tr>\n",
       "    <tr>\n",
       "      <th>4</th>\n",
       "      <td>6.136231</td>\n",
       "      <td>generation_gwh_2018</td>\n",
       "    </tr>\n",
       "    <tr>\n",
       "      <th>5</th>\n",
       "      <td>2.147205</td>\n",
       "      <td>fuel_type</td>\n",
       "    </tr>\n",
       "  </tbody>\n",
       "</table>\n",
       "</div>"
      ],
      "text/plain": [
       "        vif             Features\n",
       "0  2.960905         primary_fuel\n",
       "1  4.190726   geolocation_source\n",
       "2  3.011683  generation_gwh_2015\n",
       "3  6.337688  generation_gwh_2017\n",
       "4  6.136231  generation_gwh_2018\n",
       "5  2.147205            fuel_type"
      ]
     },
     "execution_count": 103,
     "metadata": {},
     "output_type": "execute_result"
    }
   ],
   "source": [
    "x=x.drop(['generation_gwh_2014'],axis=1)\n",
    "vif = pd.DataFrame()\n",
    "vif[\"vif\"] = [variance_inflation_factor(x.values,i) for i in range(x.shape[1]) ]\n",
    "vif[\"Features\"] = x.columns\n",
    "vif"
   ]
  },
  {
   "cell_type": "code",
   "execution_count": 104,
   "id": "ebd89dbb",
   "metadata": {},
   "outputs": [
    {
     "name": "stdout",
     "output_type": "stream",
     "text": [
      "2 0.9072166922451292\n",
      "3 0.9531991282453967\n",
      "4 0.9875519726747716\n",
      "5 0.9986065156403564\n",
      "6 0.9999999999999998\n"
     ]
    }
   ],
   "source": [
    "for i in range(2,7):\n",
    "    pca = PCA(n_components=i)\n",
    "    principalComponents = pca.fit_transform(x)\n",
    "    print(i,sum(pca.explained_variance_ratio_))"
   ]
  },
  {
   "cell_type": "code",
   "execution_count": 105,
   "id": "ae53aec0",
   "metadata": {},
   "outputs": [],
   "source": [
    "pca = PCA(n_components=3)\n",
    "principalComponents = pca.fit_transform(x)"
   ]
  },
  {
   "cell_type": "code",
   "execution_count": 106,
   "id": "847a3e7e",
   "metadata": {},
   "outputs": [],
   "source": [
    "def besttrain(model,x,y):\n",
    "    random=0\n",
    "    score=0\n",
    "    for i in range(42,100):\n",
    "        x_train,x_test,y_train,y_test=train_test_split(x,y,random_state = i,test_size=0.20,shuffle=True)\n",
    "        model.fit(x_train,y_train)\n",
    "        tmp=r2_score(y_test,model.predict(x_test))\n",
    "        if tmp>score:\n",
    "            score=tmp\n",
    "            random=i\n",
    "    return random"
   ]
  },
  {
   "cell_type": "code",
   "execution_count": 108,
   "id": "733f173a",
   "metadata": {},
   "outputs": [],
   "source": [
    "from sklearn.semi_supervised import LabelSpreading,LabelPropagation\n",
    "from sklearn.ensemble import AdaBoostClassifier\n",
    "from sklearn.discriminant_analysis import QuadraticDiscriminantAnalysis,LinearDiscriminantAnalysis\n",
    "from sklearn.calibration import CalibratedClassifierCV\n",
    "from sklearn.svm import LinearSVC,NuSVC\n",
    "from sklearn.linear_model import RidgeClassifierCV,PassiveAggressiveClassifier,Perceptron\n",
    "from sklearn.naive_bayes import GaussianNB,BernoulliNB\n",
    "from sklearn.neighbors import NearestCentroid\n",
    "from sklearn.dummy import DummyClassifier\n",
    "from statsmodels.stats.outliers_influence import variance_inflation_factor\n",
    "from sklearn.ensemble import RandomForestRegressor,GradientBoostingRegressor,AdaBoostRegressor,BaggingRegressor\n",
    "from sklearn.tree import DecisionTreeRegressor\n",
    "from sklearn.svm import SVR,NuSVR,LinearSVR\n",
    "from sklearn.linear_model import LinearRegression,Ridge,RidgeCV,BayesianRidge,SGDRegressor\n",
    "from sklearn.neighbors import KNeighborsRegressor\n",
    "from sklearn.model_selection import GridSearchCV,RandomizedSearchCV\n",
    "from sklearn.svm import NuSVR\n",
    "from sklearn.impute import KNNImputer\n",
    "from sklearn.cluster import KMeans\n",
    "from lightgbm import LGBMRegressor\n",
    "from xgboost import XGBRegressor,XGBRFRegressor\n",
    "from mlxtend.regressor import StackingCVRegressor\n",
    "\n",
    "models=[GradientBoostingRegressor(),NuSVR(),LinearRegression(),Ridge(),RidgeCV(),BayesianRidge(),SGDRegressor(),SVR(),\n",
    "        AdaBoostRegressor(),LinearSVR(),KNeighborsRegressor(),RandomForestRegressor(),BaggingRegressor(),\n",
    "       DecisionTreeRegressor(),LGBMRegressor(), XGBRFRegressor(),XGBRegressor()]"
   ]
  },
  {
   "cell_type": "code",
   "execution_count": 109,
   "id": "1a49673f",
   "metadata": {},
   "outputs": [
    {
     "name": "stdout",
     "output_type": "stream",
     "text": [
      "**********\n",
      "GradientBoostingRegressor()\n",
      "score 0.8807058864840247\n",
      "r2 0.855416198521749\n",
      "diff 0.02528968796227571\n",
      "mae 106.11112176346072\n",
      "rmse 196.86652280764764\n",
      "**********\n",
      "NuSVR()\n",
      "score 0.027244661771974044\n",
      "r2 0.0705969201057437\n",
      "diff 0.043352258333769655\n",
      "mae 337.79950107608056\n",
      "rmse 499.1304951592344\n",
      "**********\n",
      "LinearRegression()\n",
      "score 0.49019923632456225\n",
      "r2 0.2645071396799753\n",
      "diff 0.22569209664458695\n",
      "mae 335.9192488405896\n",
      "rmse 444.01872103343123\n",
      "**********\n",
      "Ridge()\n",
      "score 0.49016718163026013\n",
      "r2 0.2652000211987653\n",
      "diff 0.22496716043149484\n",
      "mae 335.92032172804136\n",
      "rmse 443.80952467434673\n",
      "**********\n",
      "RidgeCV(alphas=array([ 0.1,  1. , 10. ]))\n",
      "score 0.49016718163032413\n",
      "r2 0.2652000211991721\n",
      "diff 0.22496716043115206\n",
      "mae 335.9203217278869\n",
      "rmse 443.8095246742239\n",
      "**********\n",
      "BayesianRidge()\n",
      "score 0.4901360212355563\n",
      "r2 0.2656189575263901\n",
      "diff 0.2245170637091662\n",
      "mae 335.9208386625936\n",
      "rmse 443.68299061988864\n",
      "**********\n",
      "SGDRegressor()\n",
      "score 0.49514734845319547\n",
      "r2 0.26561323113852153\n",
      "diff 0.22953411731467394\n",
      "mae 336.7021871898028\n",
      "rmse 443.6847204411906\n",
      "**********\n",
      "SVR()\n",
      "score -0.21717987373791278\n",
      "r2 -0.1670661956534507\n",
      "diff 0.05011367808446207\n",
      "mae 286.9159384180888\n",
      "rmse 559.3192875878542\n",
      "**********\n",
      "AdaBoostRegressor()\n",
      "score 0.6062285790549733\n",
      "r2 0.6576766000207674\n",
      "diff 0.05144802096579415\n",
      "mae 233.94073068895352\n",
      "rmse 302.92167137372604\n",
      "**********\n",
      "LinearSVR()\n",
      "score -0.19065888305566472\n",
      "r2 -0.12710610938002787\n",
      "diff 0.06355277367563686\n",
      "mae 284.5786984132629\n",
      "rmse 549.660404133074\n",
      "**********\n",
      "KNeighborsRegressor()\n",
      "score 0.8565206103537725\n",
      "r2 0.8397434241773718\n",
      "diff 0.01677718617640067\n",
      "mae 108.8834479638009\n",
      "rmse 207.26214116642532\n",
      "**********\n",
      "RandomForestRegressor()\n",
      "score 0.8972719026712151\n",
      "r2 0.8991049759598636\n",
      "diff 0.0018330732886484569\n",
      "mae 69.7630243141223\n",
      "rmse 164.45494051687794\n",
      "**********\n",
      "BaggingRegressor()\n",
      "score 0.8903632992729822\n",
      "r2 0.8851956893640144\n",
      "diff 0.005167609908967807\n",
      "mae 79.50127445373423\n",
      "rmse 175.42486398569983\n",
      "**********\n",
      "DecisionTreeRegressor()\n",
      "score 0.8566291056248376\n",
      "r2 0.8820773881394172\n",
      "diff 0.025448282514579534\n",
      "mae 63.801458139386824\n",
      "rmse 177.79133697564743\n",
      "**********\n",
      "LGBMRegressor()\n",
      "score 0.8421081338912986\n",
      "r2 0.880319821510412\n",
      "diff 0.03821168761911342\n",
      "mae 93.57577094266722\n",
      "rmse 179.11137382011307\n",
      "**********\n",
      "XGBRFRegressor(base_score=0.5, booster='gbtree', colsample_bylevel=1,\n",
      "               colsample_bytree=1, enable_categorical=False, gamma=0, gpu_id=-1,\n",
      "               importance_type=None, interaction_constraints='',\n",
      "               max_delta_step=0, max_depth=6, min_child_weight=1, missing=nan,\n",
      "               monotone_constraints='()', n_estimators=100, n_jobs=8,\n",
      "               num_parallel_tree=100, objective='reg:squarederror',\n",
      "               predictor='auto', random_state=0, reg_alpha=0,\n",
      "               scale_pos_weight=1, tree_method='exact', validate_parameters=1,\n",
      "               verbosity=None)\n",
      "score 0.857177519178781\n",
      "r2 0.8249280721353196\n",
      "diff 0.03224944704346144\n",
      "mae 121.19016757947827\n",
      "rmse 216.63085210549764\n",
      "**********\n",
      "XGBRegressor(base_score=0.5, booster='gbtree', colsample_bylevel=1,\n",
      "             colsample_bynode=1, colsample_bytree=1, enable_categorical=False,\n",
      "             gamma=0, gpu_id=-1, importance_type=None,\n",
      "             interaction_constraints='', learning_rate=0.300000012,\n",
      "             max_delta_step=0, max_depth=6, min_child_weight=1, missing=nan,\n",
      "             monotone_constraints='()', n_estimators=100, n_jobs=8,\n",
      "             num_parallel_tree=1, predictor='auto', random_state=0, reg_alpha=0,\n",
      "             reg_lambda=1, scale_pos_weight=1, subsample=1, tree_method='exact',\n",
      "             validate_parameters=1, verbosity=None)\n",
      "score 0.8942971644610513\n",
      "r2 0.8872176003758007\n",
      "diff 0.007079564085250678\n",
      "mae 66.09335624246036\n",
      "rmse 173.8732277029491\n"
     ]
    }
   ],
   "source": [
    "for i in models:\n",
    "    x_train,x_test,y_train,y_test=train_test_split(principalComponents,y,random_state = 42,test_size=0.20)\n",
    "    scores=cross_val_score(i,x_train,y_train,cv=3,scoring='r2')\n",
    "    score=np.mean(scores)\n",
    "    i.fit(x_train,y_train)\n",
    "    y_pred=i.predict(x_test)\n",
    "    if r2_score(y_test,y_pred)>score:\n",
    "        diff=r2_score(y_test,y_pred)-score\n",
    "    else:\n",
    "        diff=score-r2_score(y_test,y_pred)\n",
    "    print('*'*10)\n",
    "    print(i)\n",
    "    print('score',score)\n",
    "    print('r2',r2_score(y_test,y_pred))\n",
    "    print('diff',diff)\n",
    "    print('mae',mean_absolute_error(y_test, y_pred))\n",
    "    print('rmse',np.sqrt(mean_squared_error(y_test, y_pred)))"
   ]
  },
  {
   "cell_type": "code",
   "execution_count": 110,
   "id": "0b8e6ccf",
   "metadata": {},
   "outputs": [
    {
     "name": "stdout",
     "output_type": "stream",
     "text": [
      "Fitting 10 folds for each of 36 candidates, totalling 360 fits\n"
     ]
    },
    {
     "data": {
      "text/plain": [
       "{'max_depth': 8, 'n_estimators': 45, 'reg_lambda': 0.25}"
      ]
     },
     "execution_count": 110,
     "metadata": {},
     "output_type": "execute_result"
    }
   ],
   "source": [
    "parameters={'n_estimators': [100, 80, 60, 55, 51, 45],  \n",
    "              'max_depth': [7, 8],\n",
    "              'reg_lambda' :[0.26, 0.25, 0.2]}\n",
    "clf = GridSearchCV(XGBRegressor(), parameters,scoring=\"r2\",cv=10,n_jobs=-1,verbose=1)\n",
    "clf.fit(principalComponents,y)\n",
    "clf.best_params_"
   ]
  },
  {
   "cell_type": "code",
   "execution_count": 111,
   "id": "c28a4c2b",
   "metadata": {},
   "outputs": [
    {
     "data": {
      "text/plain": [
       "44"
      ]
     },
     "execution_count": 111,
     "metadata": {},
     "output_type": "execute_result"
    }
   ],
   "source": [
    "besttrain(XGBRegressor(max_depth=7,n_estimators=55,reg_lambda=0.25),principalComponents,y)"
   ]
  },
  {
   "cell_type": "code",
   "execution_count": 112,
   "id": "404d562c",
   "metadata": {},
   "outputs": [
    {
     "name": "stdout",
     "output_type": "stream",
     "text": [
      "coeff of determination is: 0.952366770001507\n",
      "mean absolute error: 46.361541307975806\n",
      "mean squared error: 13683.774949525989\n",
      "root mean square error: 116.97766859330882\n",
      "cross val score 0.7386929978061904\n",
      "std err 0.1951497868488923\n"
     ]
    }
   ],
   "source": [
    "x_train,x_test,y_train,y_test=train_test_split(principalComponents, y,random_state = 44,test_size=0.20,shuffle=True)\n",
    "model=XGBRegressor(max_depth=7,n_estimators=55,reg_lambda=0.25)\n",
    "model.fit(x_train,y_train)\n",
    "y_pred=model.predict(x_test)\n",
    "score=r2_score(y_test,y_pred)\n",
    "print('coeff of determination is:',score)\n",
    "print('mean absolute error:',mean_absolute_error(y_test,y_pred))\n",
    "print('mean squared error:',mean_squared_error(y_test,y_pred))\n",
    "print('root mean square error:',np.sqrt(mean_squared_error(y_test,y_pred)))\n",
    "scores =cross_val_score(model,x,y,cv=3)\n",
    "print('cross val score',scores.mean())\n",
    "print('std err',scores.std())"
   ]
  },
  {
   "cell_type": "code",
   "execution_count": 113,
   "id": "0b263441",
   "metadata": {},
   "outputs": [
    {
     "data": {
      "text/html": [
       "<div>\n",
       "<style scoped>\n",
       "    .dataframe tbody tr th:only-of-type {\n",
       "        vertical-align: middle;\n",
       "    }\n",
       "\n",
       "    .dataframe tbody tr th {\n",
       "        vertical-align: top;\n",
       "    }\n",
       "\n",
       "    .dataframe thead th {\n",
       "        text-align: right;\n",
       "    }\n",
       "</style>\n",
       "<table border=\"1\" class=\"dataframe\">\n",
       "  <thead>\n",
       "    <tr style=\"text-align: right;\">\n",
       "      <th></th>\n",
       "      <th>0</th>\n",
       "      <th>1</th>\n",
       "      <th>2</th>\n",
       "    </tr>\n",
       "  </thead>\n",
       "  <tbody>\n",
       "    <tr>\n",
       "      <th>0</th>\n",
       "      <td>0.934385</td>\n",
       "      <td>1.766105</td>\n",
       "      <td>-0.226139</td>\n",
       "    </tr>\n",
       "    <tr>\n",
       "      <th>1</th>\n",
       "      <td>1.455694</td>\n",
       "      <td>1.041039</td>\n",
       "      <td>-0.224267</td>\n",
       "    </tr>\n",
       "    <tr>\n",
       "      <th>2</th>\n",
       "      <td>-1.190604</td>\n",
       "      <td>-0.547386</td>\n",
       "      <td>0.396897</td>\n",
       "    </tr>\n",
       "    <tr>\n",
       "      <th>3</th>\n",
       "      <td>-1.788534</td>\n",
       "      <td>0.293358</td>\n",
       "      <td>0.248706</td>\n",
       "    </tr>\n",
       "    <tr>\n",
       "      <th>4</th>\n",
       "      <td>6.146084</td>\n",
       "      <td>-0.512328</td>\n",
       "      <td>0.821123</td>\n",
       "    </tr>\n",
       "    <tr>\n",
       "      <th>...</th>\n",
       "      <td>...</td>\n",
       "      <td>...</td>\n",
       "      <td>...</td>\n",
       "    </tr>\n",
       "    <tr>\n",
       "      <th>216</th>\n",
       "      <td>0.351665</td>\n",
       "      <td>0.733185</td>\n",
       "      <td>0.358134</td>\n",
       "    </tr>\n",
       "    <tr>\n",
       "      <th>217</th>\n",
       "      <td>0.760791</td>\n",
       "      <td>0.161854</td>\n",
       "      <td>0.384028</td>\n",
       "    </tr>\n",
       "    <tr>\n",
       "      <th>218</th>\n",
       "      <td>-2.316803</td>\n",
       "      <td>1.027750</td>\n",
       "      <td>0.251016</td>\n",
       "    </tr>\n",
       "    <tr>\n",
       "      <th>219</th>\n",
       "      <td>-1.999098</td>\n",
       "      <td>-0.979052</td>\n",
       "      <td>-0.658707</td>\n",
       "    </tr>\n",
       "    <tr>\n",
       "      <th>220</th>\n",
       "      <td>-0.751910</td>\n",
       "      <td>-1.149061</td>\n",
       "      <td>0.265269</td>\n",
       "    </tr>\n",
       "  </tbody>\n",
       "</table>\n",
       "<p>221 rows × 3 columns</p>\n",
       "</div>"
      ],
      "text/plain": [
       "            0         1         2\n",
       "0    0.934385  1.766105 -0.226139\n",
       "1    1.455694  1.041039 -0.224267\n",
       "2   -1.190604 -0.547386  0.396897\n",
       "3   -1.788534  0.293358  0.248706\n",
       "4    6.146084 -0.512328  0.821123\n",
       "..        ...       ...       ...\n",
       "216  0.351665  0.733185  0.358134\n",
       "217  0.760791  0.161854  0.384028\n",
       "218 -2.316803  1.027750  0.251016\n",
       "219 -1.999098 -0.979052 -0.658707\n",
       "220 -0.751910 -1.149061  0.265269\n",
       "\n",
       "[221 rows x 3 columns]"
      ]
     },
     "execution_count": 113,
     "metadata": {},
     "output_type": "execute_result"
    }
   ],
   "source": [
    "dfd=pd.DataFrame(x_test)\n",
    "dfd"
   ]
  },
  {
   "cell_type": "code",
   "execution_count": 114,
   "id": "a9aa7d7e",
   "metadata": {},
   "outputs": [
    {
     "data": {
      "text/plain": [
       "[<matplotlib.lines.Line2D at 0x2c8a394e550>]"
      ]
     },
     "execution_count": 114,
     "metadata": {},
     "output_type": "execute_result"
    },
    {
     "data": {
      "image/png": "[encoded data removed]",
      "text/plain": [
       "<Figure size 432x288 with 1 Axes>"
      ]
     },
     "metadata": {
      "needs_background": "light"
     },
     "output_type": "display_data"
    }
   ],
   "source": [
    "plt.plot(dfd[0],y_test,'y*')\n",
    "plt.plot(dfd[0],y_pred,'b.')"
   ]
  },
  {
   "cell_type": "code",
   "execution_count": 115,
   "id": "1c51a064",
   "metadata": {},
   "outputs": [
    {
     "data": {
      "text/plain": [
       "[<matplotlib.lines.Line2D at 0x2c8a397dca0>]"
      ]
     },
     "execution_count": 115,
     "metadata": {},
     "output_type": "execute_result"
    },
    {
     "data": {
      "image/png": "[encoded data removed]",
      "text/plain": [
       "<Figure size 432x288 with 1 Axes>"
      ]
     },
     "metadata": {
      "needs_background": "light"
     },
     "output_type": "display_data"
    }
   ],
   "source": [
    "plt.plot(dfd[1],y_test,'r*')\n",
    "plt.plot(dfd[1],y_pred,'b.')"
   ]
  },
  {
   "cell_type": "code",
   "execution_count": 116,
   "id": "6f5df30e",
   "metadata": {},
   "outputs": [
    {
     "data": {
      "text/plain": [
       "[<matplotlib.lines.Line2D at 0x2c8aa0e41f0>]"
      ]
     },
     "execution_count": 116,
     "metadata": {},
     "output_type": "execute_result"
    },
    {
     "data": {
      "image/png": "[encoded data removed]",
      "text/plain": [
       "<Figure size 432x288 with 1 Axes>"
      ]
     },
     "metadata": {
      "needs_background": "light"
     },
     "output_type": "display_data"
    }
   ],
   "source": [
    "plt.plot(dfd[2],y_test,'r*')\n",
    "plt.plot(dfd[2],y_pred,'b.')"
   ]
  },
  {
   "cell_type": "code",
   "execution_count": 118,
   "id": "4fb242fa",
   "metadata": {},
   "outputs": [
    {
     "data": {
      "text/html": [
       "<div>\n",
       "<style scoped>\n",
       "    .dataframe tbody tr th:only-of-type {\n",
       "        vertical-align: middle;\n",
       "    }\n",
       "\n",
       "    .dataframe tbody tr th {\n",
       "        vertical-align: top;\n",
       "    }\n",
       "\n",
       "    .dataframe thead th {\n",
       "        text-align: right;\n",
       "    }\n",
       "</style>\n",
       "<table border=\"1\" class=\"dataframe\">\n",
       "  <thead>\n",
       "    <tr style=\"text-align: right;\">\n",
       "      <th></th>\n",
       "      <th>primary_fuel</th>\n",
       "      <th>geolocation_source</th>\n",
       "      <th>generation_gwh_2015</th>\n",
       "      <th>generation_gwh_2017</th>\n",
       "      <th>generation_gwh_2018</th>\n",
       "      <th>fuel_type</th>\n",
       "      <th>capacity_mwPred</th>\n",
       "      <th>capacity_mw</th>\n",
       "      <th>differnce</th>\n",
       "    </tr>\n",
       "  </thead>\n",
       "  <tbody>\n",
       "    <tr>\n",
       "      <th>0</th>\n",
       "      <td>0</td>\n",
       "      <td>0.0</td>\n",
       "      <td>0.317612</td>\n",
       "      <td>0.286879</td>\n",
       "      <td>0.000000</td>\n",
       "      <td>0</td>\n",
       "      <td>137</td>\n",
       "      <td>2.50</td>\n",
       "      <td>-134.50</td>\n",
       "    </tr>\n",
       "    <tr>\n",
       "      <th>2</th>\n",
       "      <td>2</td>\n",
       "      <td>1.0</td>\n",
       "      <td>0.317612</td>\n",
       "      <td>0.286879</td>\n",
       "      <td>0.000000</td>\n",
       "      <td>0</td>\n",
       "      <td>33</td>\n",
       "      <td>39.20</td>\n",
       "      <td>6.20</td>\n",
       "    </tr>\n",
       "    <tr>\n",
       "      <th>6</th>\n",
       "      <td>4</td>\n",
       "      <td>1.0</td>\n",
       "      <td>-1.401709</td>\n",
       "      <td>-1.647618</td>\n",
       "      <td>-1.163316</td>\n",
       "      <td>0</td>\n",
       "      <td>64</td>\n",
       "      <td>60.00</td>\n",
       "      <td>-4.00</td>\n",
       "    </tr>\n",
       "    <tr>\n",
       "      <th>7</th>\n",
       "      <td>4</td>\n",
       "      <td>1.0</td>\n",
       "      <td>-0.631533</td>\n",
       "      <td>-0.738239</td>\n",
       "      <td>-0.433298</td>\n",
       "      <td>0</td>\n",
       "      <td>171</td>\n",
       "      <td>192.00</td>\n",
       "      <td>21.00</td>\n",
       "    </tr>\n",
       "    <tr>\n",
       "      <th>8</th>\n",
       "      <td>4</td>\n",
       "      <td>1.0</td>\n",
       "      <td>-1.421305</td>\n",
       "      <td>-0.988854</td>\n",
       "      <td>-0.577825</td>\n",
       "      <td>0</td>\n",
       "      <td>301</td>\n",
       "      <td>290.00</td>\n",
       "      <td>-11.00</td>\n",
       "    </tr>\n",
       "    <tr>\n",
       "      <th>...</th>\n",
       "      <td>...</td>\n",
       "      <td>...</td>\n",
       "      <td>...</td>\n",
       "      <td>...</td>\n",
       "      <td>...</td>\n",
       "      <td>...</td>\n",
       "      <td>...</td>\n",
       "      <td>...</td>\n",
       "      <td>...</td>\n",
       "    </tr>\n",
       "    <tr>\n",
       "      <th>390</th>\n",
       "      <td>1</td>\n",
       "      <td>1.0</td>\n",
       "      <td>1.344524</td>\n",
       "      <td>1.356603</td>\n",
       "      <td>1.460767</td>\n",
       "      <td>1</td>\n",
       "      <td>1792</td>\n",
       "      <td>1800.00</td>\n",
       "      <td>8.00</td>\n",
       "    </tr>\n",
       "    <tr>\n",
       "      <th>290</th>\n",
       "      <td>1</td>\n",
       "      <td>1.0</td>\n",
       "      <td>0.317612</td>\n",
       "      <td>0.286879</td>\n",
       "      <td>0.000000</td>\n",
       "      <td>1</td>\n",
       "      <td>61</td>\n",
       "      <td>63.50</td>\n",
       "      <td>2.50</td>\n",
       "    </tr>\n",
       "    <tr>\n",
       "      <th>336</th>\n",
       "      <td>3</td>\n",
       "      <td>1.0</td>\n",
       "      <td>-1.456956</td>\n",
       "      <td>-2.590405</td>\n",
       "      <td>-1.729823</td>\n",
       "      <td>1</td>\n",
       "      <td>350</td>\n",
       "      <td>350.00</td>\n",
       "      <td>0.00</td>\n",
       "    </tr>\n",
       "    <tr>\n",
       "      <th>519</th>\n",
       "      <td>3</td>\n",
       "      <td>1.0</td>\n",
       "      <td>-0.864735</td>\n",
       "      <td>-1.170179</td>\n",
       "      <td>-0.690217</td>\n",
       "      <td>1</td>\n",
       "      <td>177</td>\n",
       "      <td>161.75</td>\n",
       "      <td>-15.25</td>\n",
       "    </tr>\n",
       "    <tr>\n",
       "      <th>720</th>\n",
       "      <td>1</td>\n",
       "      <td>1.0</td>\n",
       "      <td>-0.582588</td>\n",
       "      <td>0.237602</td>\n",
       "      <td>0.371755</td>\n",
       "      <td>1</td>\n",
       "      <td>515</td>\n",
       "      <td>500.00</td>\n",
       "      <td>-15.00</td>\n",
       "    </tr>\n",
       "  </tbody>\n",
       "</table>\n",
       "<p>1102 rows × 9 columns</p>\n",
       "</div>"
      ],
      "text/plain": [
       "     primary_fuel  geolocation_source  generation_gwh_2015  \\\n",
       "0               0                 0.0             0.317612   \n",
       "2               2                 1.0             0.317612   \n",
       "6               4                 1.0            -1.401709   \n",
       "7               4                 1.0            -0.631533   \n",
       "8               4                 1.0            -1.421305   \n",
       "..            ...                 ...                  ...   \n",
       "390             1                 1.0             1.344524   \n",
       "290             1                 1.0             0.317612   \n",
       "336             3                 1.0            -1.456956   \n",
       "519             3                 1.0            -0.864735   \n",
       "720             1                 1.0            -0.582588   \n",
       "\n",
       "     generation_gwh_2017  generation_gwh_2018  fuel_type  capacity_mwPred  \\\n",
       "0               0.286879             0.000000          0              137   \n",
       "2               0.286879             0.000000          0               33   \n",
       "6              -1.647618            -1.163316          0               64   \n",
       "7              -0.738239            -0.433298          0              171   \n",
       "8              -0.988854            -0.577825          0              301   \n",
       "..                   ...                  ...        ...              ...   \n",
       "390             1.356603             1.460767          1             1792   \n",
       "290             0.286879             0.000000          1               61   \n",
       "336            -2.590405            -1.729823          1              350   \n",
       "519            -1.170179            -0.690217          1              177   \n",
       "720             0.237602             0.371755          1              515   \n",
       "\n",
       "     capacity_mw  differnce  \n",
       "0           2.50    -134.50  \n",
       "2          39.20       6.20  \n",
       "6          60.00      -4.00  \n",
       "7         192.00      21.00  \n",
       "8         290.00     -11.00  \n",
       "..           ...        ...  \n",
       "390      1800.00       8.00  \n",
       "290        63.50       2.50  \n",
       "336       350.00       0.00  \n",
       "519       161.75     -15.25  \n",
       "720       500.00     -15.00  \n",
       "\n",
       "[1102 rows x 9 columns]"
      ]
     },
     "execution_count": 118,
     "metadata": {},
     "output_type": "execute_result"
    }
   ],
   "source": [
    "y_pred=model.predict(principalComponents)\n",
    "data=x\n",
    "data['capacity_mwPred']=[round(i) for i in y_pred]\n",
    "data['capacity_mw']=y\n",
    "data['differnce']=data['capacity_mw']-data['capacity_mwPred']\n",
    "data"
   ]
  },
  {
   "cell_type": "code",
   "execution_count": 119,
   "id": "689fbb5f",
   "metadata": {},
   "outputs": [
    {
     "data": {
      "text/plain": [
       "<seaborn.axisgrid.FacetGrid at 0x2c8a9f65250>"
      ]
     },
     "execution_count": 119,
     "metadata": {},
     "output_type": "execute_result"
    },
    {
     "data": {
      "image/png": "[encoded data removed]",
      "text/plain": [
       "<Figure size 360x360 with 1 Axes>"
      ]
     },
     "metadata": {
      "needs_background": "light"
     },
     "output_type": "display_data"
    }
   ],
   "source": [
    "sn.lmplot(x='capacity_mw',y='capacity_mwPred',data=data,palette='rainbow')"
   ]
  },
  {
   "cell_type": "code",
   "execution_count": 120,
   "id": "e9d26fa7",
   "metadata": {},
   "outputs": [
    {
     "data": {
      "text/plain": [
       "<AxesSubplot:xlabel='capacity_mwPred', ylabel='Density'>"
      ]
     },
     "execution_count": 120,
     "metadata": {},
     "output_type": "execute_result"
    },
    {
     "data": {
      "image/png": "[encoded data removed]",
      "text/plain": [
       "<Figure size 432x288 with 1 Axes>"
      ]
     },
     "metadata": {
      "needs_background": "light"
     },
     "output_type": "display_data"
    }
   ],
   "source": [
    "sn.distplot(data['capacity_mw'])\n",
    "sn.distplot(data['capacity_mwPred'])"
   ]
  },
  {
   "cell_type": "code",
   "execution_count": 121,
   "id": "081982cf",
   "metadata": {},
   "outputs": [
    {
     "data": {
      "text/plain": [
       "['capacity_mw.pkl']"
      ]
     },
     "execution_count": 121,
     "metadata": {},
     "output_type": "execute_result"
    }
   ],
   "source": [
    "joblib.dump(model,'capacity_mw.pkl')"
   ]
  }
 ],
 "metadata": {
  "kernelspec": {
   "display_name": "Python 3",
   "language": "python",
   "name": "python3"
  },
  "language_info": {
   "codemirror_mode": {
    "name": "ipython",
    "version": 3
   },
   "file_extension": ".py",
   "mimetype": "text/x-python",
   "name": "python",
   "nbconvert_exporter": "python",
   "pygments_lexer": "ipython3",
   "version": "3.8.8"
  }
 },
 "nbformat": 4,
 "nbformat_minor": 5
}
